{
 "cells": [
  {
   "cell_type": "code",
   "execution_count": 1,
   "metadata": {},
   "outputs": [],
   "source": [
    "import pandas as pd\n",
    "from pysam import FastaFile\n",
    "import json\n",
    "import logging\n",
    "from crc64iso import crc64iso"
   ]
  },
  {
   "cell_type": "code",
   "execution_count": 2,
   "metadata": {},
   "outputs": [],
   "source": [
    "logger = logging.getLogger(__name__)"
   ]
  },
  {
   "cell_type": "code",
   "execution_count": 3,
   "metadata": {},
   "outputs": [],
   "source": [
    "protein_fa = FastaFile('/Users/liang/Box/MyCPTAC/CPTAC_proteome_v1/DCC/RefSeq_20111201/20111201_RefSeq_Human_37-Mouse_37_Trypsin.renamed.fasta.gz')"
   ]
  },
  {
   "cell_type": "code",
   "execution_count": 4,
   "metadata": {},
   "outputs": [
    {
     "data": {
      "text/plain": [
       "32799"
      ]
     },
     "execution_count": 4,
     "metadata": {},
     "output_type": "execute_result"
    }
   ],
   "source": [
    "with open('../../intermediates/refseq_20111201/refseq_protein_ids.list') as f:\n",
    "    refseq_ids = f.read().splitlines()\n",
    "\n",
    "len(refseq_ids)"
   ]
  },
  {
   "cell_type": "code",
   "execution_count": 5,
   "metadata": {},
   "outputs": [],
   "source": [
    "prot_id = refseq_ids[0]\n",
    "prot_seq = protein_fa.fetch(prot_id)"
   ]
  },
  {
   "cell_type": "code",
   "execution_count": 6,
   "metadata": {},
   "outputs": [],
   "source": [
    "df = pd.DataFrame({'original_protein_id': refseq_ids})\n",
    "df['uniparc_checksum'] = df['original_protein_id'].apply(protein_fa.fetch).apply(crc64iso.crc64)"
   ]
  },
  {
   "cell_type": "code",
   "execution_count": 7,
   "metadata": {},
   "outputs": [],
   "source": [
    "df.to_csv('../../intermediates/refseq_20111201/refseq_crc64_checksums.tsv', sep='\\t', index=False)"
   ]
  },
  {
   "cell_type": "code",
   "execution_count": 8,
   "metadata": {},
   "outputs": [],
   "source": [
    "with open('../../intermediates/refseq_20111201/uniparc_aria2_downloads.links', 'w') as f:\n",
    "    for t in df.itertuples(index=False):\n",
    "        print(\n",
    "            f'https://www.uniprot.org/uniparc/?query=checksum%3A{t.uniparc_checksum}&format=xml\\n'\n",
    "            f'  out=xmls/{t.original_protein_id}.xml',\n",
    "            file=f\n",
    "        )"
   ]
  },
  {
   "cell_type": "code",
   "execution_count": null,
   "metadata": {},
   "outputs": [],
   "source": []
  }
 ],
 "metadata": {
  "kernelspec": {
   "display_name": "Python 3.8.3 64-bit ('cptac': conda)",
   "language": "python",
   "name": "python38364bitcptacconda6b41eb8517bc45dab5416ff48a3921dc"
  },
  "language_info": {
   "codemirror_mode": {
    "name": "ipython",
    "version": 3
   },
   "file_extension": ".py",
   "mimetype": "text/x-python",
   "name": "python",
   "nbconvert_exporter": "python",
   "pygments_lexer": "ipython3",
   "version": "3.8.3"
  }
 },
 "nbformat": 4,
 "nbformat_minor": 2
}
