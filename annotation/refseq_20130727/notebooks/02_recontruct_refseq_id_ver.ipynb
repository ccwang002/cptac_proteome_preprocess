{
 "cells": [
  {
   "cell_type": "code",
   "execution_count": 1,
   "metadata": {},
   "outputs": [],
   "source": [
    "import pandas as pd\n",
    "import logging\n",
    "import re"
   ]
  },
  {
   "cell_type": "code",
   "execution_count": 2,
   "metadata": {},
   "outputs": [],
   "source": [
    "logger = logging.getLogger(__name__)"
   ]
  },
  {
   "cell_type": "code",
   "execution_count": 3,
   "metadata": {},
   "outputs": [
    {
     "output_type": "execute_result",
     "data": {
      "text/plain": "  original_prot_id     uniparc_id  uniparc_checksum  \\\n0     NP_001171800  UPI0001D39582  A481C1809EA0F67F   \n1        NP_003422  UPI00001A818D  0E0E795F61327F89   \n2     NP_001004434  UPI0000049F98  0B004533D3B6D29C   \n3        NP_660321  UPI000004EBD8  51875AF9D14FBD53   \n4     NP_001107580  UPI0000470B73  95AFA00228FF6402   \n\n                      ensembl_prot_ids           uniprot_ids  \\\n0                    ENSP00000344808.2  F8W743.1;Q7L513-15.1   \n1                    ENSP00000340749.3            Q15973-4.1   \n2                    ENSP00000363394.1            Q9BRI3-2.1   \n3  ENSP00000355444.1;ENSP00000446460.2   Q5JQS6.1;Q5JQS6-1.1   \n4                    ENSP00000360323.1   Q5TAA0.1;Q5TAA0-1.1   \n\n                                     refseq_prot_ids  \n0                                     NP_001171800.1  \n1                                        NP_003422.2  \n2                                     NP_001004434.1  \n3  XP_005273129.1;NP_660321.1;NP_001268782.1;XP_0...  \n4                                     NP_001107580.1  ",
      "text/html": "<div>\n<style scoped>\n    .dataframe tbody tr th:only-of-type {\n        vertical-align: middle;\n    }\n\n    .dataframe tbody tr th {\n        vertical-align: top;\n    }\n\n    .dataframe thead th {\n        text-align: right;\n    }\n</style>\n<table border=\"1\" class=\"dataframe\">\n  <thead>\n    <tr style=\"text-align: right;\">\n      <th></th>\n      <th>original_prot_id</th>\n      <th>uniparc_id</th>\n      <th>uniparc_checksum</th>\n      <th>ensembl_prot_ids</th>\n      <th>uniprot_ids</th>\n      <th>refseq_prot_ids</th>\n    </tr>\n  </thead>\n  <tbody>\n    <tr>\n      <th>0</th>\n      <td>NP_001171800</td>\n      <td>UPI0001D39582</td>\n      <td>A481C1809EA0F67F</td>\n      <td>ENSP00000344808.2</td>\n      <td>F8W743.1;Q7L513-15.1</td>\n      <td>NP_001171800.1</td>\n    </tr>\n    <tr>\n      <th>1</th>\n      <td>NP_003422</td>\n      <td>UPI00001A818D</td>\n      <td>0E0E795F61327F89</td>\n      <td>ENSP00000340749.3</td>\n      <td>Q15973-4.1</td>\n      <td>NP_003422.2</td>\n    </tr>\n    <tr>\n      <th>2</th>\n      <td>NP_001004434</td>\n      <td>UPI0000049F98</td>\n      <td>0B004533D3B6D29C</td>\n      <td>ENSP00000363394.1</td>\n      <td>Q9BRI3-2.1</td>\n      <td>NP_001004434.1</td>\n    </tr>\n    <tr>\n      <th>3</th>\n      <td>NP_660321</td>\n      <td>UPI000004EBD8</td>\n      <td>51875AF9D14FBD53</td>\n      <td>ENSP00000355444.1;ENSP00000446460.2</td>\n      <td>Q5JQS6.1;Q5JQS6-1.1</td>\n      <td>XP_005273129.1;NP_660321.1;NP_001268782.1;XP_0...</td>\n    </tr>\n    <tr>\n      <th>4</th>\n      <td>NP_001107580</td>\n      <td>UPI0000470B73</td>\n      <td>95AFA00228FF6402</td>\n      <td>ENSP00000360323.1</td>\n      <td>Q5TAA0.1;Q5TAA0-1.1</td>\n      <td>NP_001107580.1</td>\n    </tr>\n  </tbody>\n</table>\n</div>"
     },
     "metadata": {},
     "execution_count": 3
    }
   ],
   "source": [
    "df = pd.read_table('../../intermediates/refseq_20130727/refseq_uniparc_mapping.tsv.gz')\n",
    "df.head()"
   ]
  },
  {
   "cell_type": "code",
   "execution_count": 4,
   "metadata": {},
   "outputs": [],
   "source": [
    "def find_id_ver(t):\n",
    "    refseq_map = {\n",
    "        x.split('.', 1)[0]: x\n",
    "        for x in t.refseq_prot_ids.split(';')\n",
    "    }\n",
    "    try:\n",
    "        id_ver = refseq_map[t.original_prot_id]\n",
    "    except KeyError:\n",
    "        logger.error(f'{original_prot_id} cannot be found')\n",
    "        id_ver = None\n",
    "    return id_ver"
   ]
  },
  {
   "cell_type": "code",
   "execution_count": 5,
   "metadata": {},
   "outputs": [],
   "source": [
    "df['refseq_prot_id_ver'] = list(map(find_id_ver, df.itertuples(index=False)))"
   ]
  },
  {
   "cell_type": "code",
   "execution_count": 6,
   "metadata": {},
   "outputs": [
    {
     "output_type": "execute_result",
     "data": {
      "text/plain": "  original_prot_id     uniparc_id  uniparc_checksum  \\\n0     NP_001171800  UPI0001D39582  A481C1809EA0F67F   \n1        NP_003422  UPI00001A818D  0E0E795F61327F89   \n2     NP_001004434  UPI0000049F98  0B004533D3B6D29C   \n3        NP_660321  UPI000004EBD8  51875AF9D14FBD53   \n4     NP_001107580  UPI0000470B73  95AFA00228FF6402   \n\n                      ensembl_prot_ids           uniprot_ids  \\\n0                    ENSP00000344808.2  F8W743.1;Q7L513-15.1   \n1                    ENSP00000340749.3            Q15973-4.1   \n2                    ENSP00000363394.1            Q9BRI3-2.1   \n3  ENSP00000355444.1;ENSP00000446460.2   Q5JQS6.1;Q5JQS6-1.1   \n4                    ENSP00000360323.1   Q5TAA0.1;Q5TAA0-1.1   \n\n                                     refseq_prot_ids refseq_prot_id_ver  \n0                                     NP_001171800.1     NP_001171800.1  \n1                                        NP_003422.2        NP_003422.2  \n2                                     NP_001004434.1     NP_001004434.1  \n3  XP_005273129.1;NP_660321.1;NP_001268782.1;XP_0...        NP_660321.1  \n4                                     NP_001107580.1     NP_001107580.1  ",
      "text/html": "<div>\n<style scoped>\n    .dataframe tbody tr th:only-of-type {\n        vertical-align: middle;\n    }\n\n    .dataframe tbody tr th {\n        vertical-align: top;\n    }\n\n    .dataframe thead th {\n        text-align: right;\n    }\n</style>\n<table border=\"1\" class=\"dataframe\">\n  <thead>\n    <tr style=\"text-align: right;\">\n      <th></th>\n      <th>original_prot_id</th>\n      <th>uniparc_id</th>\n      <th>uniparc_checksum</th>\n      <th>ensembl_prot_ids</th>\n      <th>uniprot_ids</th>\n      <th>refseq_prot_ids</th>\n      <th>refseq_prot_id_ver</th>\n    </tr>\n  </thead>\n  <tbody>\n    <tr>\n      <th>0</th>\n      <td>NP_001171800</td>\n      <td>UPI0001D39582</td>\n      <td>A481C1809EA0F67F</td>\n      <td>ENSP00000344808.2</td>\n      <td>F8W743.1;Q7L513-15.1</td>\n      <td>NP_001171800.1</td>\n      <td>NP_001171800.1</td>\n    </tr>\n    <tr>\n      <th>1</th>\n      <td>NP_003422</td>\n      <td>UPI00001A818D</td>\n      <td>0E0E795F61327F89</td>\n      <td>ENSP00000340749.3</td>\n      <td>Q15973-4.1</td>\n      <td>NP_003422.2</td>\n      <td>NP_003422.2</td>\n    </tr>\n    <tr>\n      <th>2</th>\n      <td>NP_001004434</td>\n      <td>UPI0000049F98</td>\n      <td>0B004533D3B6D29C</td>\n      <td>ENSP00000363394.1</td>\n      <td>Q9BRI3-2.1</td>\n      <td>NP_001004434.1</td>\n      <td>NP_001004434.1</td>\n    </tr>\n    <tr>\n      <th>3</th>\n      <td>NP_660321</td>\n      <td>UPI000004EBD8</td>\n      <td>51875AF9D14FBD53</td>\n      <td>ENSP00000355444.1;ENSP00000446460.2</td>\n      <td>Q5JQS6.1;Q5JQS6-1.1</td>\n      <td>XP_005273129.1;NP_660321.1;NP_001268782.1;XP_0...</td>\n      <td>NP_660321.1</td>\n    </tr>\n    <tr>\n      <th>4</th>\n      <td>NP_001107580</td>\n      <td>UPI0000470B73</td>\n      <td>95AFA00228FF6402</td>\n      <td>ENSP00000360323.1</td>\n      <td>Q5TAA0.1;Q5TAA0-1.1</td>\n      <td>NP_001107580.1</td>\n      <td>NP_001107580.1</td>\n    </tr>\n  </tbody>\n</table>\n</div>"
     },
     "metadata": {},
     "execution_count": 6
    }
   ],
   "source": [
    "df.head()"
   ]
  },
  {
   "cell_type": "code",
   "execution_count": 7,
   "metadata": {},
   "outputs": [
    {
     "output_type": "execute_result",
     "data": {
      "text/plain": "Index(['original_prot_id', 'uniparc_id', 'uniparc_checksum',\n       'ensembl_prot_ids', 'uniprot_ids', 'refseq_prot_ids',\n       'refseq_prot_id_ver'],\n      dtype='object')"
     },
     "metadata": {},
     "execution_count": 7
    }
   ],
   "source": [
    "df.columns"
   ]
  },
  {
   "cell_type": "code",
   "execution_count": 8,
   "metadata": {},
   "outputs": [],
   "source": [
    "df = df[['original_prot_id', 'refseq_prot_id_ver', 'uniparc_id', 'uniparc_checksum', \n",
    "    'ensembl_prot_ids', 'uniprot_ids', 'refseq_prot_ids',]]"
   ]
  },
  {
   "cell_type": "code",
   "execution_count": 9,
   "metadata": {},
   "outputs": [],
   "source": [
    "df.to_csv('../../intermediates/refseq_20130727/refseq_uniparc_mapping_with_id_ver.tsv.gz', sep='\\t', index=False)"
   ]
  },
  {
   "cell_type": "code",
   "execution_count": null,
   "metadata": {},
   "outputs": [],
   "source": []
  }
 ],
 "metadata": {
  "kernelspec": {
   "display_name": "Python 3.8.3 64-bit ('cptac': conda)",
   "language": "python",
   "name": "python38364bitcptacconda6b41eb8517bc45dab5416ff48a3921dc"
  },
  "language_info": {
   "codemirror_mode": {
    "name": "ipython",
    "version": 3
   },
   "file_extension": ".py",
   "mimetype": "text/x-python",
   "name": "python",
   "nbconvert_exporter": "python",
   "pygments_lexer": "ipython3",
   "version": "3.8.3-final"
  }
 },
 "nbformat": 4,
 "nbformat_minor": 2
}