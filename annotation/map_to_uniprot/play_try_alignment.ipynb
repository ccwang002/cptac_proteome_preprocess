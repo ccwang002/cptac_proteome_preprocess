{
 "metadata": {
  "language_info": {
   "codemirror_mode": {
    "name": "ipython",
    "version": 3
   },
   "file_extension": ".py",
   "mimetype": "text/x-python",
   "name": "python",
   "nbconvert_exporter": "python",
   "pygments_lexer": "ipython3",
   "version": "3.8.3-final"
  },
  "orig_nbformat": 2,
  "kernelspec": {
   "name": "python38364bitcptacconda6b41eb8517bc45dab5416ff48a3921dc",
   "display_name": "Python 3.8.3 64-bit ('cptac': conda)"
  }
 },
 "nbformat": 4,
 "nbformat_minor": 2,
 "cells": [
  {
   "cell_type": "code",
   "execution_count": 1,
   "metadata": {},
   "outputs": [],
   "source": [
    "import itertools\n",
    "\n",
    "import pandas as pd\n",
    "from pysam import FastaFile\n",
    "from Bio import Align\n",
    "from Bio.Align import substitution_matrices\n",
    "import orjson"
   ]
  },
  {
   "cell_type": "code",
   "execution_count": 2,
   "metadata": {},
   "outputs": [],
   "source": [
    "source_fa = FastaFile('/Users/liang/Box/MyCPTAC/CPTAC_proteome_v2.0/DCC/RefSeq_20180629/RefSeq.20180629_Human_ucsc_hg38_cpdbnr_mito_264contams.fasta.gz')\n",
    "target_fa = FastaFile('tracked_results/uniprot_reviewed_human_proteome_hgnc_only.v2020_03.fasta.gz')"
   ]
  },
  {
   "cell_type": "code",
   "execution_count": 3,
   "metadata": {},
   "outputs": [],
   "source": [
    "aligner = Align.PairwiseAligner()\n",
    "aligner.mode = \"global\"\n",
    "aligner.open_gap_score = -10\n",
    "aligner.extend_gap_score = -0.5\n",
    "aligner.substitution_matrix = substitution_matrices.load(\"BLOSUM62\")"
   ]
  },
  {
   "cell_type": "code",
   "execution_count": 4,
   "metadata": {
    "tags": []
   },
   "outputs": [
    {
     "output_type": "stream",
     "name": "stdout",
     "text": "Pairwise sequence aligner with parameters\n  substitution_matrix: <Array object at 0x7fe7984e1eb0>\n  target_internal_open_gap_score: -10.000000\n  target_internal_extend_gap_score: -0.500000\n  target_left_open_gap_score: -10.000000\n  target_left_extend_gap_score: -0.500000\n  target_right_open_gap_score: -10.000000\n  target_right_extend_gap_score: -0.500000\n  query_internal_open_gap_score: -10.000000\n  query_internal_extend_gap_score: -0.500000\n  query_left_open_gap_score: -10.000000\n  query_left_extend_gap_score: -0.500000\n  query_right_open_gap_score: -10.000000\n  query_right_extend_gap_score: -0.500000\n  mode: global\n\n"
    }
   ],
   "source": [
    "print(aligner)"
   ]
  },
  {
   "cell_type": "code",
   "execution_count": 5,
   "metadata": {},
   "outputs": [],
   "source": [
    "def make_match_only_coords(alignment):\n",
    "    # Extract the alignment to collect the matched coordinate segments.\n",
    "    # This is done by tracing the alignment.path\n",
    "    # using the code from Bio.Align.PairwiseAlignment.__format__\n",
    "    # https://github.com/biopython/biopython/blob/14bf4f2aef448aff47b7b27cf1387eb4272f61db/Bio/Align/__init__.py#L1051\n",
    "    aln_coords = []\n",
    "\n",
    "    seq1 = alignment.target\n",
    "    seq2 = alignment.query\n",
    "    path = alignment.path\n",
    "    end1, end2 = path[0]\n",
    "\n",
    "    start1 = end1\n",
    "    start2 = end2\n",
    "    for end1, end2 in path[1:]:\n",
    "        if end1 != start1 and end2 != start2:\n",
    "            # Match or mismatch\n",
    "            match_grps = itertools.groupby(\n",
    "                c1 == c2 \n",
    "                for c1, c2 in zip(seq1[start1:end1], seq2[start2:end2])\n",
    "            )\n",
    "            c1_start = start1\n",
    "            c2_start = start2\n",
    "            for m, cs in match_grps:\n",
    "                l = len(list(cs))\n",
    "                c1_end = c1_start + l\n",
    "                c2_end = c2_start + l\n",
    "                # Only take in the matching segments\n",
    "                if m:\n",
    "                    aln_coords.append((\n",
    "                        (c1_start, c1_end),\n",
    "                        (c2_start, c2_end)\n",
    "                    ))\n",
    "                c1_start = c1_end\n",
    "                c2_start = c2_end\n",
    "        start1 = end1\n",
    "        start2 = end2\n",
    "    return aln_coords"
   ]
  },
  {
   "cell_type": "code",
   "execution_count": 6,
   "metadata": {},
   "outputs": [
    {
     "output_type": "execute_result",
     "data": {
      "text/plain": "  refseq_prot_id    hgnc_id source_uniparc_id uniprot_acc target_uniparc_id  \\\n0    NP_000005.2     HGNC:7     UPI0000155718      P01023     UPI000014038F   \n1    NP_000006.2  HGNC:7646     UPI000013DE51      P11245     UPI000011F28B   \n2    NP_000007.1    HGNC:89     UPI00001251E6      P11310     UPI00001251E6   \n3    NP_000008.1    HGNC:90     UPI000004A863      P16219     UPI000004A863   \n4    NP_000009.1    HGNC:92     UPI00001251EF      P49748     UPI00001251EF   \n\n     mapping_approach  \n0    global_seq_align  \n1    global_seq_align  \n2  identical_sequence  \n3  identical_sequence  \n4  identical_sequence  ",
      "text/html": "<div>\n<style scoped>\n    .dataframe tbody tr th:only-of-type {\n        vertical-align: middle;\n    }\n\n    .dataframe tbody tr th {\n        vertical-align: top;\n    }\n\n    .dataframe thead th {\n        text-align: right;\n    }\n</style>\n<table border=\"1\" class=\"dataframe\">\n  <thead>\n    <tr style=\"text-align: right;\">\n      <th></th>\n      <th>refseq_prot_id</th>\n      <th>hgnc_id</th>\n      <th>source_uniparc_id</th>\n      <th>uniprot_acc</th>\n      <th>target_uniparc_id</th>\n      <th>mapping_approach</th>\n    </tr>\n  </thead>\n  <tbody>\n    <tr>\n      <th>0</th>\n      <td>NP_000005.2</td>\n      <td>HGNC:7</td>\n      <td>UPI0000155718</td>\n      <td>P01023</td>\n      <td>UPI000014038F</td>\n      <td>global_seq_align</td>\n    </tr>\n    <tr>\n      <th>1</th>\n      <td>NP_000006.2</td>\n      <td>HGNC:7646</td>\n      <td>UPI000013DE51</td>\n      <td>P11245</td>\n      <td>UPI000011F28B</td>\n      <td>global_seq_align</td>\n    </tr>\n    <tr>\n      <th>2</th>\n      <td>NP_000007.1</td>\n      <td>HGNC:89</td>\n      <td>UPI00001251E6</td>\n      <td>P11310</td>\n      <td>UPI00001251E6</td>\n      <td>identical_sequence</td>\n    </tr>\n    <tr>\n      <th>3</th>\n      <td>NP_000008.1</td>\n      <td>HGNC:90</td>\n      <td>UPI000004A863</td>\n      <td>P16219</td>\n      <td>UPI000004A863</td>\n      <td>identical_sequence</td>\n    </tr>\n    <tr>\n      <th>4</th>\n      <td>NP_000009.1</td>\n      <td>HGNC:92</td>\n      <td>UPI00001251EF</td>\n      <td>P49748</td>\n      <td>UPI00001251EF</td>\n      <td>identical_sequence</td>\n    </tr>\n  </tbody>\n</table>\n</div>"
     },
     "metadata": {},
     "execution_count": 6
    }
   ],
   "source": [
    "mapping_df = pd.read_table('tracked_results/mappings/refseq_20180629_to_uniprot_2020_03_mappable.tsv.gz')\n",
    "mapping_df.head()"
   ]
  },
  {
   "cell_type": "code",
   "execution_count": 7,
   "metadata": {},
   "outputs": [],
   "source": [
    "source_seq = source_fa.fetch('NP_001007024.1').replace('U', 'X')\n",
    "target_seq = target_fa.fetch('Q92813').replace('U', 'X')"
   ]
  },
  {
   "cell_type": "code",
   "execution_count": 18,
   "metadata": {},
   "outputs": [],
   "source": [
    "alignment = aligner.align(source_seq, target_seq)[0]"
   ]
  },
  {
   "cell_type": "code",
   "execution_count": 19,
   "metadata": {},
   "outputs": [
    {
     "output_type": "execute_result",
     "data": {
      "text/plain": "[((0, 74), (0, 74)), ((110, 309), (74, 273))]"
     },
     "metadata": {},
     "execution_count": 19
    }
   ],
   "source": [
    "aln_coords = make_match_only_coords(alignment)\n",
    "aln_coords"
   ]
  },
  {
   "cell_type": "code",
   "execution_count": 20,
   "metadata": {
    "tags": []
   },
   "outputs": [],
   "source": [
    "for source_slice, target_slice in aln_coords:\n",
    "    assert source_seq[slice(*source_slice)] == target_seq[slice(*target_slice)]"
   ]
  },
  {
   "cell_type": "code",
   "execution_count": 22,
   "metadata": {
    "tags": []
   },
   "outputs": [
    {
     "output_type": "execute_result",
     "data": {
      "text/plain": "'[[[0,74],[0,74]],[[110,309],[74,273]]]'"
     },
     "metadata": {},
     "execution_count": 22
    }
   ],
   "source": [
    "coord_str = orjson.dumps(aln_coords).decode()\n",
    "coord_str"
   ]
  },
  {
   "cell_type": "code",
   "execution_count": 13,
   "metadata": {},
   "outputs": [],
   "source": [
    "to_align_df = mapping_df[mapping_df['mapping_approach'] == 'global_seq_align']"
   ]
  },
  {
   "cell_type": "code",
   "execution_count": 14,
   "metadata": {},
   "outputs": [],
   "source": [
    "def gen_align_coord_str(source_id, target_id):\n",
    "    # Read it up about U (Selenocysteine)\n",
    "    # https://en.wikipedia.org/wiki/Selenocysteine\n",
    "    source_seq = source_fa.fetch(source_id).replace('U', 'X')\n",
    "    target_seq = target_fa.fetch(target_id).replace('U', 'X')\n",
    "    alignment = aligner.align(source_seq, target_seq)[0]\n",
    "    aln_coords = make_match_only_coords(alignment)\n",
    "    coord_str = orjson.dumps(aln_coords).decode()\n",
    "    return coord_str"
   ]
  },
  {
   "cell_type": "code",
   "execution_count": 15,
   "metadata": {
    "tags": []
   },
   "outputs": [
    {
     "output_type": "stream",
     "name": "stdout",
     "text": "10.7 ms ± 12.7 µs per loop (mean ± std. dev. of 7 runs, 100 loops each)\n"
    }
   ],
   "source": [
    "%%timeit\n",
    "gen_align_coord_str('NP_009297.2', 'P00519')"
   ]
  },
  {
   "cell_type": "code",
   "execution_count": 16,
   "metadata": {
    "tags": []
   },
   "outputs": [
    {
     "output_type": "stream",
     "name": "stdout",
     "text": "... processed 1000 / 23441 mappings\n... processed 2000 / 23441 mappings\n... processed 3000 / 23441 mappings\n... processed 4000 / 23441 mappings\n... processed 5000 / 23441 mappings\n... processed 6000 / 23441 mappings\n... processed 7000 / 23441 mappings\n... processed 8000 / 23441 mappings\n... processed 9000 / 23441 mappings\n... processed 10000 / 23441 mappings\n... processed 11000 / 23441 mappings\n... processed 12000 / 23441 mappings\n... processed 13000 / 23441 mappings\n... processed 14000 / 23441 mappings\n... processed 15000 / 23441 mappings\n... processed 16000 / 23441 mappings\n... processed 17000 / 23441 mappings\n... processed 18000 / 23441 mappings\n... processed 19000 / 23441 mappings\n... processed 20000 / 23441 mappings\n... processed 21000 / 23441 mappings\n... processed 22000 / 23441 mappings\n... processed 23000 / 23441 mappings\nCPU times: user 3min 6s, sys: 5.83 s, total: 3min 11s\nWall time: 3min 11s\n"
    }
   ],
   "source": [
    "%%time\n",
    "aln_results = []\n",
    "for i, (source_id, target_id) in enumerate(zip(to_align_df['refseq_prot_id'], to_align_df['uniprot_acc']), 1):\n",
    "    coord_str = gen_align_coord_str(source_id, target_id)\n",
    "    aln_results.append(coord_str)\n",
    "    if i % 1000 == 0:\n",
    "        print(f\"... processed {i:d} / {len(to_align_df)} mappings\")\n",
    "\n",
    "align_coord_series = pd.Series(\n",
    "    aln_results,\n",
    "    index=to_align_df.index,\n",
    "    name='align_coord',\n",
    "    dtype='string'\n",
    ")\n",
    "out_df = mapping_df.join(align_coord_series)"
   ]
  },
  {
   "cell_type": "code",
   "execution_count": 24,
   "metadata": {},
   "outputs": [],
   "source": [
    "out_df.to_csv('tracked_results/mappings/refseq_20180629_to_uniprot_2020_03_mappable.coord_mapping.tsv.gz')"
   ]
  },
  {
   "cell_type": "code",
   "execution_count": null,
   "metadata": {},
   "outputs": [],
   "source": []
  }
 ]
}