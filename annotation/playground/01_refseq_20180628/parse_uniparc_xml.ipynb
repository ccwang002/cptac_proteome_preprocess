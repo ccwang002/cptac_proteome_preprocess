{
 "cells": [
  {
   "cell_type": "code",
   "execution_count": 2,
   "metadata": {},
   "outputs": [],
   "source": [
    "import json\n",
    "import logging\n",
    "from pathlib import Path\n",
    "import pandas as pd\n",
    "import xmlschema"
   ]
  },
  {
   "cell_type": "code",
   "execution_count": 11,
   "metadata": {},
   "outputs": [],
   "source": [
    "xs = xmlschema.XMLSchema('https://www.uniprot.org/docs/uniparc.xsd')"
   ]
  },
  {
   "cell_type": "code",
   "execution_count": 5,
   "metadata": {},
   "outputs": [
    {
     "output_type": "execute_result",
     "data": {
      "text/plain": "  original_protein_id  uniparc_checksum\n0         NP_000330.2  B6044AA3206A94E0\n1      NP_001006933.2  6AFE830C9FC909A2\n2      NP_001008738.2  6DF41100700F9C40\n3      NP_001012415.2  0DBA3BDAB8DB71B8\n4      NP_001013666.2  F10186546D4527EB",
      "text/html": "<div>\n<style scoped>\n    .dataframe tbody tr th:only-of-type {\n        vertical-align: middle;\n    }\n\n    .dataframe tbody tr th {\n        vertical-align: top;\n    }\n\n    .dataframe thead th {\n        text-align: right;\n    }\n</style>\n<table border=\"1\" class=\"dataframe\">\n  <thead>\n    <tr style=\"text-align: right;\">\n      <th></th>\n      <th>original_protein_id</th>\n      <th>uniparc_checksum</th>\n    </tr>\n  </thead>\n  <tbody>\n    <tr>\n      <th>0</th>\n      <td>NP_000330.2</td>\n      <td>B6044AA3206A94E0</td>\n    </tr>\n    <tr>\n      <th>1</th>\n      <td>NP_001006933.2</td>\n      <td>6AFE830C9FC909A2</td>\n    </tr>\n    <tr>\n      <th>2</th>\n      <td>NP_001008738.2</td>\n      <td>6DF41100700F9C40</td>\n    </tr>\n    <tr>\n      <th>3</th>\n      <td>NP_001012415.2</td>\n      <td>0DBA3BDAB8DB71B8</td>\n    </tr>\n    <tr>\n      <th>4</th>\n      <td>NP_001013666.2</td>\n      <td>F10186546D4527EB</td>\n    </tr>\n  </tbody>\n</table>\n</div>"
     },
     "metadata": {},
     "execution_count": 5
    }
   ],
   "source": [
    "df = pd.read_table('../../intermediates/refseq_20180629/ebi_api_missing/refseq_checksums.tsv')\n",
    "df.head()"
   ]
  },
  {
   "cell_type": "code",
   "execution_count": null,
   "metadata": {},
   "outputs": [],
   "source": [
    "records = []\n",
    "\n",
    "for row in df.itertuples(index=False):\n",
    "    xml_pth = f'../../intermediates/refseq_20180629/ebi_api_missing/xmls/{row.original_protein_id}.xml'"
   ]
  },
  {
   "cell_type": "code",
   "execution_count": 41,
   "metadata": {},
   "outputs": [],
   "source": [
    "row = next(df.itertuples(index=False))"
   ]
  },
  {
   "cell_type": "code",
   "execution_count": 42,
   "metadata": {},
   "outputs": [],
   "source": [
    "xml_pth = f'../../intermediates/refseq_20180629/ebi_api_missing/xmls/{row.original_protein_id}.xml'"
   ]
  },
  {
   "cell_type": "code",
   "execution_count": 44,
   "metadata": {},
   "outputs": [
    {
     "output_type": "execute_result",
     "data": {
      "text/plain": "[XMLSchemaChildrenValidationError(reason=\"Unexpected child with tag '{http://uniprot.org/uniparc}signatureSequenceMatch' at position 6.\")]"
     },
     "metadata": {},
     "execution_count": 44
    }
   ],
   "source": [
    "data, errors = xs.to_dict(xml_pth, validation='lax')"
   ]
  },
  {
   "cell_type": "code",
   "execution_count": 45,
   "metadata": {},
   "outputs": [],
   "source": [
    "if len(data['entry']) > 1:\n",
    "    ids = [x['accession'] for x in data['entry']]\n",
    "    logger.warning(f'{prot_id} got multiple uniparc entries: {\" \".join(ids)}')"
   ]
  },
  {
   "cell_type": "code",
   "execution_count": 46,
   "metadata": {},
   "outputs": [],
   "source": [
    "entry = data['entry'][0]"
   ]
  },
  {
   "cell_type": "code",
   "execution_count": 47,
   "metadata": {},
   "outputs": [],
   "source": [
    "uniparc_id = entry['accession']"
   ]
  },
  {
   "cell_type": "code",
   "execution_count": 62,
   "metadata": {},
   "outputs": [
    {
     "output_type": "execute_result",
     "data": {
      "text/plain": "'B6044AA3206A94E0'"
     },
     "metadata": {},
     "execution_count": 62
    }
   ],
   "source": [
    "entry['sequence']['@checksum']"
   ]
  },
  {
   "cell_type": "code",
   "execution_count": 48,
   "metadata": {},
   "outputs": [
    {
     "output_type": "execute_result",
     "data": {
      "text/plain": "[{'@type': 'UniProtKB/Swiss-Prot protein isoforms',\n  '@id': 'P55017-2',\n  '@version_i': 1,\n  '@active': 'N',\n  '@created': '2009-02-10',\n  '@last': '2010-11-02',\n  'property': [{'@type': 'NCBI_taxonomy_id', '@value': '9606'}]},\n {'@type': 'RefSeq',\n  '@id': 'NP_000330',\n  '@version_i': 2,\n  '@active': 'N',\n  '@version': 2,\n  '@created': '2008-04-29',\n  '@last': '2019-06-02',\n  'property': [{'@type': 'NCBI_GI', '@value': '186910315'},\n   {'@type': 'NCBI_taxonomy_id', '@value': '9606'},\n   {'@type': 'protein_name',\n    '@value': 'solute carrier family 12 member 3 isoform 1'},\n   {'@type': 'gene_name', '@value': 'SLC12A3'}]},\n {'@type': 'IPI',\n  '@id': 'IPI00646907',\n  '@version_i': 2,\n  '@active': 'N',\n  '@version': 2,\n  '@created': '2009-02-12',\n  '@last': '2010-11-05',\n  'property': [{'@type': 'NCBI_taxonomy_id', '@value': '9606'}]}]"
     },
     "metadata": {},
     "execution_count": 48
    }
   ],
   "source": [
    "entry['dbReference']"
   ]
  },
  {
   "cell_type": "code",
   "execution_count": 54,
   "metadata": {},
   "outputs": [],
   "source": [
    "ref_ids = {}\n",
    "for db_type in [\"Ensembl\", \"UniProt\", \"RefSeq\"]:\n",
    "    ids = set()\n",
    "    for d in entry['dbReference']:\n",
    "        if d[\"@type\"].startswith(db_type):\n",
    "            if db_type == 'UniProt':\n",
    "                id_str = f\"{d['@id']}.{d['@version_i']}\"\n",
    "            else:\n",
    "                id_str = f\"{d['@id']}.{d['@version']}\"\n",
    "            ids.add(id_str)\n",
    "    ref_ids[db_type] = \";\".join(ids) or None"
   ]
  },
  {
   "cell_type": "code",
   "execution_count": 55,
   "metadata": {},
   "outputs": [
    {
     "output_type": "execute_result",
     "data": {
      "text/plain": "{'Ensembl': None, 'UniProt': 'P55017-2.1', 'RefSeq': 'NP_000330.2'}"
     },
     "metadata": {},
     "execution_count": 55
    }
   ],
   "source": [
    "ref_ids"
   ]
  },
  {
   "cell_type": "code",
   "execution_count": 60,
   "metadata": {},
   "outputs": [
    {
     "output_type": "execute_result",
     "data": {
      "text/plain": "{'original_prot_id': 'NP_000330.2',\n 'uniparc_id': 'UPI000173ABE6',\n 'uniparc_checksum': 'B6044AA3206A94E0',\n 'ensembl_prot_ids': None,\n 'uniprot_ids': 'P55017-2.1',\n 'refseq_prot_ids': 'NP_000330.2'}"
     },
     "metadata": {},
     "execution_count": 60
    }
   ],
   "source": [
    "record = {\n",
    "    \"original_prot_id\": row.original_protein_id,\n",
    "    \"uniparc_id\": uniparc_id,\n",
    "    \"uniparc_checksum\": row.uniparc_checksum,\n",
    "    \"ensembl_prot_ids\": ref_ids[\"Ensembl\"],\n",
    "    \"uniprot_ids\": ref_ids[\"UniProt\"],\n",
    "    \"refseq_prot_ids\": ref_ids[\"RefSeq\"],\n",
    "}\n",
    "record"
   ]
  },
  {
   "cell_type": "code",
   "execution_count": null,
   "metadata": {},
   "outputs": [],
   "source": []
  }
 ],
 "metadata": {
  "language_info": {
   "codemirror_mode": {
    "name": "ipython",
    "version": 3
   },
   "file_extension": ".py",
   "mimetype": "text/x-python",
   "name": "python",
   "nbconvert_exporter": "python",
   "pygments_lexer": "ipython3",
   "version": "3.8.3-final"
  },
  "orig_nbformat": 2,
  "kernelspec": {
   "name": "python38364bitcptacconda6b41eb8517bc45dab5416ff48a3921dc",
   "display_name": "Python 3.8.3 64-bit ('cptac': conda)"
  }
 },
 "nbformat": 4,
 "nbformat_minor": 2
}