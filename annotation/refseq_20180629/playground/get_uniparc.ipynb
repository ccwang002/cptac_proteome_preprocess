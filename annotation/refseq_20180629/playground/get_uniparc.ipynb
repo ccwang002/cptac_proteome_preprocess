{
 "cells": [
  {
   "cell_type": "code",
   "execution_count": 1,
   "metadata": {},
   "outputs": [],
   "source": [
    "import pandas as pd\n",
    "from pysam import FastaFile\n",
    "import aiohttp\n",
    "import json\n",
    "import logging"
   ]
  },
  {
   "cell_type": "code",
   "execution_count": 2,
   "metadata": {},
   "outputs": [],
   "source": [
    "logger = logging.getLogger(__name__)"
   ]
  },
  {
   "cell_type": "code",
   "execution_count": 3,
   "metadata": {},
   "outputs": [],
   "source": [
    "refseq_protein_fa = FastaFile('/Users/liang/Box/MyCPTAC/CPTAC_data_collection_v1/DCC/RefSeq_20180629/RefSeq.20180629_Human_ucsc_hg38_cpdbnr_mito_264contams.fasta.gz')"
   ]
  },
  {
   "cell_type": "code",
   "execution_count": 4,
   "metadata": {},
   "outputs": [
    {
     "output_type": "execute_result",
     "data": {
      "text/plain": "41734"
     },
     "metadata": {},
     "execution_count": 4
    }
   ],
   "source": [
    "refseq_protein_fa.nreferences"
   ]
  },
  {
   "cell_type": "code",
   "execution_count": 5,
   "metadata": {},
   "outputs": [
    {
     "output_type": "execute_result",
     "data": {
      "text/plain": "  seqnames   start      end  width strand   symbol  refseq_tx_id  \\\n0     chr1   69091    70008    918      +    OR4F5  NM_001005484   \n1     chr1  450740   451678    939      -   OR4F29  NM_001005221   \n2     chr1  925741   944581  18841      +   SAMD11     NM_152486   \n3     chr1  944203   959299  15097      -    NOC2L     NM_015658   \n4     chr1  960587   965719   5133      +   KLHL17     NM_198317   \n5     chr1  966497   975104   8608      +  PLEKHN1  NM_001160184   \n6     chr1  966497   975104   8608      +  PLEKHN1     NM_032129   \n7     chr1  975199   982117   6919      -    PERM1  NM_001291366   \n8     chr1  975199   982117   6919      -    PERM1  NM_001291367   \n9     chr1  998962  1000172   1211      -     HES4     NM_021170   \n\n   refseq_prot_id     hgnc_id  entrez_id  ensembl_gene_id  multi_genomic_loci  \\\n0  NP_001005484.1  HGNC:14825      79501  ENSG00000186092               False   \n1  NP_001005221.2  HGNC:31275     729759  ENSG00000284733                True   \n2     NP_689699.2  HGNC:28706     148398  ENSG00000187634               False   \n3     NP_056473.2  HGNC:24517      26155  ENSG00000188976               False   \n4     NP_938073.1  HGNC:24023     339451  ENSG00000187961               False   \n5  NP_001153656.1  HGNC:25284      84069  ENSG00000187583               False   \n6     NP_115505.2  HGNC:25284      84069  ENSG00000187583               False   \n7  NP_001278295.1  HGNC:28208      84808  ENSG00000187642               False   \n8  NP_001278296.1  HGNC:28208      84808  ENSG00000187642               False   \n9     NP_066993.1  HGNC:24149      57801  ENSG00000188290               False   \n\n   num_exons  aa_len  tx_len  cds_len  \n0          1     305     918      918  \n1          1     312     939      939  \n2         14     681    2554     2046  \n3         19     749    2800     2250  \n4         12     642    2564     1929  \n5         15     576    2295     1731  \n6         16     611    2400     1836  \n7          4     790    3417     2373  \n8          5     696    3064     2091  \n9          4     221     962      666  ",
      "text/html": "<div>\n<style scoped>\n    .dataframe tbody tr th:only-of-type {\n        vertical-align: middle;\n    }\n\n    .dataframe tbody tr th {\n        vertical-align: top;\n    }\n\n    .dataframe thead th {\n        text-align: right;\n    }\n</style>\n<table border=\"1\" class=\"dataframe\">\n  <thead>\n    <tr style=\"text-align: right;\">\n      <th></th>\n      <th>seqnames</th>\n      <th>start</th>\n      <th>end</th>\n      <th>width</th>\n      <th>strand</th>\n      <th>symbol</th>\n      <th>refseq_tx_id</th>\n      <th>refseq_prot_id</th>\n      <th>hgnc_id</th>\n      <th>entrez_id</th>\n      <th>ensembl_gene_id</th>\n      <th>multi_genomic_loci</th>\n      <th>num_exons</th>\n      <th>aa_len</th>\n      <th>tx_len</th>\n      <th>cds_len</th>\n    </tr>\n  </thead>\n  <tbody>\n    <tr>\n      <th>0</th>\n      <td>chr1</td>\n      <td>69091</td>\n      <td>70008</td>\n      <td>918</td>\n      <td>+</td>\n      <td>OR4F5</td>\n      <td>NM_001005484</td>\n      <td>NP_001005484.1</td>\n      <td>HGNC:14825</td>\n      <td>79501</td>\n      <td>ENSG00000186092</td>\n      <td>False</td>\n      <td>1</td>\n      <td>305</td>\n      <td>918</td>\n      <td>918</td>\n    </tr>\n    <tr>\n      <th>1</th>\n      <td>chr1</td>\n      <td>450740</td>\n      <td>451678</td>\n      <td>939</td>\n      <td>-</td>\n      <td>OR4F29</td>\n      <td>NM_001005221</td>\n      <td>NP_001005221.2</td>\n      <td>HGNC:31275</td>\n      <td>729759</td>\n      <td>ENSG00000284733</td>\n      <td>True</td>\n      <td>1</td>\n      <td>312</td>\n      <td>939</td>\n      <td>939</td>\n    </tr>\n    <tr>\n      <th>2</th>\n      <td>chr1</td>\n      <td>925741</td>\n      <td>944581</td>\n      <td>18841</td>\n      <td>+</td>\n      <td>SAMD11</td>\n      <td>NM_152486</td>\n      <td>NP_689699.2</td>\n      <td>HGNC:28706</td>\n      <td>148398</td>\n      <td>ENSG00000187634</td>\n      <td>False</td>\n      <td>14</td>\n      <td>681</td>\n      <td>2554</td>\n      <td>2046</td>\n    </tr>\n    <tr>\n      <th>3</th>\n      <td>chr1</td>\n      <td>944203</td>\n      <td>959299</td>\n      <td>15097</td>\n      <td>-</td>\n      <td>NOC2L</td>\n      <td>NM_015658</td>\n      <td>NP_056473.2</td>\n      <td>HGNC:24517</td>\n      <td>26155</td>\n      <td>ENSG00000188976</td>\n      <td>False</td>\n      <td>19</td>\n      <td>749</td>\n      <td>2800</td>\n      <td>2250</td>\n    </tr>\n    <tr>\n      <th>4</th>\n      <td>chr1</td>\n      <td>960587</td>\n      <td>965719</td>\n      <td>5133</td>\n      <td>+</td>\n      <td>KLHL17</td>\n      <td>NM_198317</td>\n      <td>NP_938073.1</td>\n      <td>HGNC:24023</td>\n      <td>339451</td>\n      <td>ENSG00000187961</td>\n      <td>False</td>\n      <td>12</td>\n      <td>642</td>\n      <td>2564</td>\n      <td>1929</td>\n    </tr>\n    <tr>\n      <th>5</th>\n      <td>chr1</td>\n      <td>966497</td>\n      <td>975104</td>\n      <td>8608</td>\n      <td>+</td>\n      <td>PLEKHN1</td>\n      <td>NM_001160184</td>\n      <td>NP_001153656.1</td>\n      <td>HGNC:25284</td>\n      <td>84069</td>\n      <td>ENSG00000187583</td>\n      <td>False</td>\n      <td>15</td>\n      <td>576</td>\n      <td>2295</td>\n      <td>1731</td>\n    </tr>\n    <tr>\n      <th>6</th>\n      <td>chr1</td>\n      <td>966497</td>\n      <td>975104</td>\n      <td>8608</td>\n      <td>+</td>\n      <td>PLEKHN1</td>\n      <td>NM_032129</td>\n      <td>NP_115505.2</td>\n      <td>HGNC:25284</td>\n      <td>84069</td>\n      <td>ENSG00000187583</td>\n      <td>False</td>\n      <td>16</td>\n      <td>611</td>\n      <td>2400</td>\n      <td>1836</td>\n    </tr>\n    <tr>\n      <th>7</th>\n      <td>chr1</td>\n      <td>975199</td>\n      <td>982117</td>\n      <td>6919</td>\n      <td>-</td>\n      <td>PERM1</td>\n      <td>NM_001291366</td>\n      <td>NP_001278295.1</td>\n      <td>HGNC:28208</td>\n      <td>84808</td>\n      <td>ENSG00000187642</td>\n      <td>False</td>\n      <td>4</td>\n      <td>790</td>\n      <td>3417</td>\n      <td>2373</td>\n    </tr>\n    <tr>\n      <th>8</th>\n      <td>chr1</td>\n      <td>975199</td>\n      <td>982117</td>\n      <td>6919</td>\n      <td>-</td>\n      <td>PERM1</td>\n      <td>NM_001291367</td>\n      <td>NP_001278296.1</td>\n      <td>HGNC:28208</td>\n      <td>84808</td>\n      <td>ENSG00000187642</td>\n      <td>False</td>\n      <td>5</td>\n      <td>696</td>\n      <td>3064</td>\n      <td>2091</td>\n    </tr>\n    <tr>\n      <th>9</th>\n      <td>chr1</td>\n      <td>998962</td>\n      <td>1000172</td>\n      <td>1211</td>\n      <td>-</td>\n      <td>HES4</td>\n      <td>NM_021170</td>\n      <td>NP_066993.1</td>\n      <td>HGNC:24149</td>\n      <td>57801</td>\n      <td>ENSG00000188290</td>\n      <td>False</td>\n      <td>4</td>\n      <td>221</td>\n      <td>962</td>\n      <td>666</td>\n    </tr>\n  </tbody>\n</table>\n</div>"
     },
     "metadata": {},
     "execution_count": 5
    }
   ],
   "source": [
    "refseq_df = pd.read_table('../custom_sources/cptac3_refseq_20180629/refseq_20180629_human_only_unique_loci.tsv.gz')\n",
    "refseq_df.head(10)"
   ]
  },
  {
   "cell_type": "code",
   "execution_count": 16,
   "metadata": {},
   "outputs": [
    {
     "output_type": "execute_result",
     "data": {
      "text/plain": "41470"
     },
     "metadata": {},
     "execution_count": 16
    }
   ],
   "source": [
    "len(set(refseq_df.refseq_prot_id) & set(refseq_protein_fa.references))"
   ]
  },
  {
   "cell_type": "code",
   "execution_count": 6,
   "metadata": {},
   "outputs": [],
   "source": [
    "conn = aiohttp.TCPConnector(limit_per_host=10)\n",
    "session = aiohttp.ClientSession(\n",
    "    connector=conn,\n",
    "    headers={\n",
    "        'Accept': 'application/json',\n",
    "        'Content-type': 'application/json',\n",
    "    }\n",
    ")"
   ]
  },
  {
   "cell_type": "code",
   "execution_count": 7,
   "metadata": {},
   "outputs": [],
   "source": [
    "async def retry_post(session, max_retry=3, **kwargs):\n",
    "    for retry in range(max_retry):\n",
    "        try:\n",
    "            resp = await session.post(**kwargs)\n",
    "            resp.raise_for_status()\n",
    "            return resp\n",
    "        except aiohttp.ClientResponseError as e:\n",
    "            logger.error(f'Request failed with response {e.status} {e.message} [retry={retry}]')\n",
    "            logger.exception(e)\n",
    "            if retry == max_retry - 1:\n",
    "                raise ValueError('Reach maximal retries') from e"
   ]
  },
  {
   "cell_type": "code",
   "execution_count": 8,
   "metadata": {},
   "outputs": [],
   "source": [
    "async def query_uniparc(prot_id, prot_seq):\n",
    "    try:\n",
    "        resp = await retry_post(\n",
    "            session,\n",
    "            url='https://www.ebi.ac.uk/proteins/api/uniparc/sequence',\n",
    "            params={\n",
    "                # 'rfActive': 'true',\n",
    "                'rfTaxId': '9606',\n",
    "            },\n",
    "            json={'sequence': prot_seq}\n",
    "        )\n",
    "    except ValueError:\n",
    "        logger.error(f'UniParc query of {prot_id} failed after maximal retries')\n",
    "        return None\n",
    "    t = await resp.text()\n",
    "    # Write the raw JSON response to external file\n",
    "\n",
    "    j = await resp.json()\n",
    "    uniparc_id = j['accession']\n",
    "    uniparc_checksum = j['sequence']['checksum']\n",
    "    dbrefs = [d for d in j['dbReference'] if d['type'] not in ['JPO', 'EPO', 'VEGA', 'EMBL']]\n",
    "    ref_ids = {}\n",
    "    for db_type in ['Ensembl', 'UniProt', 'RefSeq']:\n",
    "        ids = set(\n",
    "            f\"{d['id']}.{d['versionI']}\" for d in dbrefs\n",
    "            if d['type'].startswith(db_type)\n",
    "        )\n",
    "        ref_ids[db_type] = \";\".join(ids) or None\n",
    "\n",
    "    return {\n",
    "        'original_prot_id': prot_id,\n",
    "        'uniparc_id': uniparc_id,\n",
    "        'uniparc_checksum': uniparc_checksum,\n",
    "        'ensembl_prot_ids': ref_ids['Ensembl'],\n",
    "        'uniprot_ids': ref_ids['UniProt'],\n",
    "        'refseq_prot_ids': ref_ids['RefSeq'],\n",
    "    }"
   ]
  },
  {
   "cell_type": "code",
   "execution_count": 9,
   "metadata": {},
   "outputs": [],
   "source": [
    "prot_id = 'NP_001278296.1'\n",
    "prot_seq = refseq_protein_fa.fetch(prot_id)"
   ]
  },
  {
   "cell_type": "code",
   "execution_count": 10,
   "metadata": {},
   "outputs": [
    {
     "output_type": "execute_result",
     "data": {
      "text/plain": "{'original_prot_id': 'NP_001278296.1',\n 'uniparc_id': 'UPI0000418FB0',\n 'uniparc_checksum': 'A90060DB855C2EAD',\n 'ensembl_prot_ids': 'ENSP00000414022.1',\n 'uniprot_ids': 'Q5SV97.3;Q5SV97-1.1',\n 'refseq_prot_ids': 'NP_001278296.1'}"
     },
     "metadata": {},
     "execution_count": 10
    }
   ],
   "source": [
    "await query_uniparc(prot_id, prot_seq)"
   ]
  },
  {
   "cell_type": "code",
   "execution_count": 11,
   "metadata": {},
   "outputs": [],
   "source": [
    "records = []\n",
    "for prot_id in refseq_df.head(10)['refseq_prot_id']:\n",
    "    prot_seq = refseq_protein_fa.fetch(prot_id)\n",
    "    records.append(await query_uniparc(prot_id, prot_seq))"
   ]
  },
  {
   "cell_type": "code",
   "execution_count": 12,
   "metadata": {},
   "outputs": [
    {
     "output_type": "execute_result",
     "data": {
      "text/plain": "  original_prot_id     uniparc_id  uniparc_checksum  \\\n0   NP_001005484.1  UPI0000041BC1  70E99D068AB2DD59   \n1   NP_001005221.2  UPI0000041D3C  08285B196DC638FB   \n2      NP_689699.2  UPI00005C3DB1  A9C65DE8AD561C63   \n3      NP_056473.2  UPI000013C171  825CD88441B5ACFF   \n4      NP_938073.1  UPI00001DFBF0  FE37BBCCD32131BF   \n5   NP_001153656.1  UPI00005764FF  323FF81C7963CB97   \n6      NP_115505.2  UPI00001416D8  4163BA09DF9525C9   \n7   NP_001278295.1  UPI0003E30FA7  EE1E33651D99CEA3   \n8   NP_001278296.1  UPI0000418FB0  A90060DB855C2EAD   \n9      NP_066993.1  UPI000006EC19  ADFAE485C36EEBC4   \n\n                                    ensembl_prot_ids  \\\n0  ENSP00000317482.1;ENSP00000334393.3;ENSP000004...   \n1  ENSP00000329982.1;ENSP00000394282.1;ENSP000004...   \n2                                               None   \n3                                               None   \n4                                  ENSP00000343930.3   \n5                                  ENSP00000368717.1   \n6                                  ENSP00000368720.1   \n7                                  ENSP00000414022.2   \n8                                  ENSP00000414022.1   \n9                                  ENSP00000304595.3   \n\n                      uniprot_ids  \\\n0                        Q8NH21.1   \n1           Q6IEY1.1;A0A126GV92.1   \n2                            None   \n3                        Q9Y3T9.3   \n4                        Q6TDP4.1   \n5                      Q494U1-3.1   \n6  Q494U1-1.2;Q494U1.3;Q494U1-2.1   \n7             Q5SV97-1.2;Q5SV97.4   \n8             Q5SV97.3;Q5SV97-1.1   \n9                        Q9HCC6.1   \n\n                                     refseq_prot_ids  \n0                                     NP_001005484.1  \n1  XP_024305755.1;XP_016857900.1;NP_001005221.2;N...  \n2                                        NP_689699.2  \n3                                        NP_056473.2  \n4                                        NP_938073.1  \n5                                     NP_001153656.1  \n6                                        NP_115505.2  \n7  NP_001356826.1;XP_011540609.1;NP_001278295.1;X...  \n8                                     NP_001278296.1  \n9                                        NP_066993.1  ",
      "text/html": "<div>\n<style scoped>\n    .dataframe tbody tr th:only-of-type {\n        vertical-align: middle;\n    }\n\n    .dataframe tbody tr th {\n        vertical-align: top;\n    }\n\n    .dataframe thead th {\n        text-align: right;\n    }\n</style>\n<table border=\"1\" class=\"dataframe\">\n  <thead>\n    <tr style=\"text-align: right;\">\n      <th></th>\n      <th>original_prot_id</th>\n      <th>uniparc_id</th>\n      <th>uniparc_checksum</th>\n      <th>ensembl_prot_ids</th>\n      <th>uniprot_ids</th>\n      <th>refseq_prot_ids</th>\n    </tr>\n  </thead>\n  <tbody>\n    <tr>\n      <th>0</th>\n      <td>NP_001005484.1</td>\n      <td>UPI0000041BC1</td>\n      <td>70E99D068AB2DD59</td>\n      <td>ENSP00000317482.1;ENSP00000334393.3;ENSP000004...</td>\n      <td>Q8NH21.1</td>\n      <td>NP_001005484.1</td>\n    </tr>\n    <tr>\n      <th>1</th>\n      <td>NP_001005221.2</td>\n      <td>UPI0000041D3C</td>\n      <td>08285B196DC638FB</td>\n      <td>ENSP00000329982.1;ENSP00000394282.1;ENSP000004...</td>\n      <td>Q6IEY1.1;A0A126GV92.1</td>\n      <td>XP_024305755.1;XP_016857900.1;NP_001005221.2;N...</td>\n    </tr>\n    <tr>\n      <th>2</th>\n      <td>NP_689699.2</td>\n      <td>UPI00005C3DB1</td>\n      <td>A9C65DE8AD561C63</td>\n      <td>None</td>\n      <td>None</td>\n      <td>NP_689699.2</td>\n    </tr>\n    <tr>\n      <th>3</th>\n      <td>NP_056473.2</td>\n      <td>UPI000013C171</td>\n      <td>825CD88441B5ACFF</td>\n      <td>None</td>\n      <td>Q9Y3T9.3</td>\n      <td>NP_056473.2</td>\n    </tr>\n    <tr>\n      <th>4</th>\n      <td>NP_938073.1</td>\n      <td>UPI00001DFBF0</td>\n      <td>FE37BBCCD32131BF</td>\n      <td>ENSP00000343930.3</td>\n      <td>Q6TDP4.1</td>\n      <td>NP_938073.1</td>\n    </tr>\n    <tr>\n      <th>5</th>\n      <td>NP_001153656.1</td>\n      <td>UPI00005764FF</td>\n      <td>323FF81C7963CB97</td>\n      <td>ENSP00000368717.1</td>\n      <td>Q494U1-3.1</td>\n      <td>NP_001153656.1</td>\n    </tr>\n    <tr>\n      <th>6</th>\n      <td>NP_115505.2</td>\n      <td>UPI00001416D8</td>\n      <td>4163BA09DF9525C9</td>\n      <td>ENSP00000368720.1</td>\n      <td>Q494U1-1.2;Q494U1.3;Q494U1-2.1</td>\n      <td>NP_115505.2</td>\n    </tr>\n    <tr>\n      <th>7</th>\n      <td>NP_001278295.1</td>\n      <td>UPI0003E30FA7</td>\n      <td>EE1E33651D99CEA3</td>\n      <td>ENSP00000414022.2</td>\n      <td>Q5SV97-1.2;Q5SV97.4</td>\n      <td>NP_001356826.1;XP_011540609.1;NP_001278295.1;X...</td>\n    </tr>\n    <tr>\n      <th>8</th>\n      <td>NP_001278296.1</td>\n      <td>UPI0000418FB0</td>\n      <td>A90060DB855C2EAD</td>\n      <td>ENSP00000414022.1</td>\n      <td>Q5SV97.3;Q5SV97-1.1</td>\n      <td>NP_001278296.1</td>\n    </tr>\n    <tr>\n      <th>9</th>\n      <td>NP_066993.1</td>\n      <td>UPI000006EC19</td>\n      <td>ADFAE485C36EEBC4</td>\n      <td>ENSP00000304595.3</td>\n      <td>Q9HCC6.1</td>\n      <td>NP_066993.1</td>\n    </tr>\n  </tbody>\n</table>\n</div>"
     },
     "metadata": {},
     "execution_count": 12
    }
   ],
   "source": [
    "result_df = pd.DataFrame.from_records(records)\n",
    "result_df"
   ]
  },
  {
   "cell_type": "code",
   "execution_count": 13,
   "metadata": {},
   "outputs": [
    {
     "output_type": "execute_result",
     "data": {
      "text/plain": "{'original_prot_id': 'NP_001005221.2',\n 'uniparc_id': 'UPI0000041D3C',\n 'uniparc_checksum': '08285B196DC638FB',\n 'ensembl_prot_ids': 'ENSP00000329982.1;ENSP00000394282.1;ENSP00000409316.1',\n 'uniprot_ids': 'Q6IEY1.1;A0A126GV92.1',\n 'refseq_prot_ids': 'XP_024305755.1;XP_016857900.1;NP_001005221.2;NP_001005277.1;XP_016857899.1;XP_024305761.1;XP_016857897.1;XP_016857898.1;XP_016864827.1;XP_024305760.1;NP_001005224.1'}"
     },
     "metadata": {},
     "execution_count": 13
    }
   ],
   "source": [
    "records[1]"
   ]
  },
  {
   "cell_type": "code",
   "execution_count": null,
   "metadata": {},
   "outputs": [],
   "source": []
  }
 ],
 "metadata": {
  "language_info": {
   "codemirror_mode": {
    "name": "ipython",
    "version": 3
   },
   "file_extension": ".py",
   "mimetype": "text/x-python",
   "name": "python",
   "nbconvert_exporter": "python",
   "pygments_lexer": "ipython3",
   "version": "3.8.3-final"
  },
  "orig_nbformat": 2,
  "kernelspec": {
   "name": "python38364bitcptacconda6b41eb8517bc45dab5416ff48a3921dc",
   "display_name": "Python 3.8.3 64-bit ('cptac': conda)"
  }
 },
 "nbformat": 4,
 "nbformat_minor": 2
}