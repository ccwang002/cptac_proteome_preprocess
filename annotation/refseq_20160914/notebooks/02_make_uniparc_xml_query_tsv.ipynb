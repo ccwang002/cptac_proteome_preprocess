{
 "cells": [
  {
   "cell_type": "code",
   "execution_count": 1,
   "metadata": {},
   "outputs": [],
   "source": [
    "import pandas as pd\n",
    "from pysam import FastaFile\n",
    "import json\n",
    "import logging\n",
    "from crc64iso import crc64iso"
   ]
  },
  {
   "cell_type": "code",
   "execution_count": 2,
   "metadata": {},
   "outputs": [],
   "source": [
    "logger = logging.getLogger(__name__)"
   ]
  },
  {
   "cell_type": "code",
   "execution_count": 3,
   "metadata": {},
   "outputs": [],
   "source": [
    "protein_fa = FastaFile('/Users/liang/Box/MyCPTAC/CPTAC_proteome_v1/DCC/RefSeq_20160914/RefSeq.20160914_Human_ucsc_hg19_customProDBnr_mito_150contams.fasta.gz')"
   ]
  },
  {
   "cell_type": "code",
   "execution_count": 4,
   "metadata": {},
   "outputs": [
    {
     "output_type": "execute_result",
     "data": {
      "text/plain": "37592"
     },
     "metadata": {},
     "execution_count": 4
    }
   ],
   "source": [
    "with open('../../intermediates/refseq_20160914/refseq_protein_ids.list') as f:\n",
    "    refseq_ids = f.read().splitlines()\n",
    "\n",
    "len(refseq_ids)"
   ]
  },
  {
   "cell_type": "code",
   "execution_count": 5,
   "metadata": {},
   "outputs": [],
   "source": [
    "prot_id = refseq_ids[0]\n",
    "prot_seq = protein_fa.fetch(prot_id)"
   ]
  },
  {
   "cell_type": "code",
   "execution_count": 6,
   "metadata": {},
   "outputs": [],
   "source": [
    "df = pd.DataFrame({'original_protein_id': refseq_ids})\n",
    "df['uniparc_checksum'] = df['original_protein_id'].apply(protein_fa.fetch).apply(crc64iso.crc64)"
   ]
  },
  {
   "cell_type": "code",
   "execution_count": 7,
   "metadata": {},
   "outputs": [],
   "source": [
    "df.to_csv('../../intermediates/refseq_20160914/refseq_crc64_checksums.tsv', sep='\\t', index=False)"
   ]
  },
  {
   "cell_type": "markdown",
   "metadata": {},
   "source": [
    "```\n",
    "tail -n+2 refseq_checksums.tsv \\\n",
    "    | parallel --bar -j5 --colsep \\t \\\n",
    "        \"curl -L 'https://www.uniprot.org/uniparc/?query=checksum%3A{2}&format=xml' > xmls/{1}.xml\"\n",
    "```"
   ]
  },
  {
   "cell_type": "code",
   "execution_count": 7,
   "metadata": {},
   "outputs": [],
   "source": [
    "with open('../../intermediates/refseq_20160914/uniparc_aria2_downloads.links', 'w') as f:\n",
    "    for t in df.itertuples(index=False):\n",
    "        print(\n",
    "            f'https://www.uniprot.org/uniparc/?query=checksum%3A{t.uniparc_checksum}&format=xml\\n'\n",
    "            f'  out=xmls/{t.original_protein_id}.xml',\n",
    "            file=f\n",
    "        )"
   ]
  },
  {
   "cell_type": "code",
   "execution_count": null,
   "metadata": {},
   "outputs": [],
   "source": []
  }
 ],
 "metadata": {
  "language_info": {
   "codemirror_mode": {
    "name": "ipython",
    "version": 3
   },
   "file_extension": ".py",
   "mimetype": "text/x-python",
   "name": "python",
   "nbconvert_exporter": "python",
   "pygments_lexer": "ipython3",
   "version": "3.8.3-final"
  },
  "orig_nbformat": 2,
  "kernelspec": {
   "name": "python38364bitcptacconda6b41eb8517bc45dab5416ff48a3921dc",
   "display_name": "Python 3.8.3 64-bit ('cptac': conda)"
  }
 },
 "nbformat": 4,
 "nbformat_minor": 2
}
