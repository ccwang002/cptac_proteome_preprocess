{
 "metadata": {
  "language_info": {
   "codemirror_mode": {
    "name": "ipython",
    "version": 3
   },
   "file_extension": ".py",
   "mimetype": "text/x-python",
   "name": "python",
   "nbconvert_exporter": "python",
   "pygments_lexer": "ipython3",
   "version": "3.8.3-final"
  },
  "orig_nbformat": 2,
  "kernelspec": {
   "name": "python38364bitcptacconda6b41eb8517bc45dab5416ff48a3921dc",
   "display_name": "Python 3.8.3 64-bit ('cptac': conda)"
  }
 },
 "nbformat": 4,
 "nbformat_minor": 2,
 "cells": [
  {
   "cell_type": "code",
   "execution_count": 1,
   "metadata": {},
   "outputs": [],
   "source": [
    "import pandas as pd\n",
    "import zstandard as zstd\n",
    "import orjson"
   ]
  },
  {
   "cell_type": "code",
   "execution_count": 2,
   "metadata": {},
   "outputs": [],
   "source": [
    "_zstd_dctx = zstd.ZstdDecompressor()"
   ]
  },
  {
   "cell_type": "code",
   "execution_count": 8,
   "metadata": {},
   "outputs": [],
   "source": [
    "json_pth = '../intermediates/uniprot_release_2020_03/parsed_jsons/Q9Y3F1.json.zst'\n",
    "entry_d = orjson.loads(_zstd_dctx.decompress(open(json_pth, 'rb').read()))"
   ]
  },
  {
   "cell_type": "code",
   "execution_count": 9,
   "metadata": {},
   "outputs": [
    {
     "output_type": "error",
     "ename": "KeyError",
     "evalue": "'gene'",
     "traceback": [
      "\u001b[0;31m---------------------------------------------------------------------------\u001b[0m",
      "\u001b[0;31mKeyError\u001b[0m                                  Traceback (most recent call last)",
      "\u001b[0;32m<ipython-input-9-1e4ed8e106fc>\u001b[0m in \u001b[0;36m<module>\u001b[0;34m\u001b[0m\n\u001b[1;32m      5\u001b[0m     \u001b[0mprotein_name\u001b[0m \u001b[0;34m=\u001b[0m \u001b[0mprotein_name\u001b[0m\u001b[0;34m[\u001b[0m\u001b[0;34m'$'\u001b[0m\u001b[0;34m]\u001b[0m\u001b[0;34m\u001b[0m\u001b[0;34m\u001b[0m\u001b[0m\n\u001b[1;32m      6\u001b[0m \u001b[0;34m\u001b[0m\u001b[0m\n\u001b[0;32m----> 7\u001b[0;31m \u001b[0mgene_name\u001b[0m \u001b[0;34m=\u001b[0m \u001b[0mentry_d\u001b[0m\u001b[0;34m[\u001b[0m\u001b[0;34m'gene'\u001b[0m\u001b[0;34m]\u001b[0m\u001b[0;34m[\u001b[0m\u001b[0;36m0\u001b[0m\u001b[0;34m]\u001b[0m\u001b[0;34m[\u001b[0m\u001b[0;34m'name'\u001b[0m\u001b[0;34m]\u001b[0m\u001b[0;34m[\u001b[0m\u001b[0;36m0\u001b[0m\u001b[0;34m]\u001b[0m\u001b[0;34m[\u001b[0m\u001b[0;34m'$'\u001b[0m\u001b[0;34m]\u001b[0m\u001b[0;34m\u001b[0m\u001b[0;34m\u001b[0m\u001b[0m\n\u001b[0m",
      "\u001b[0;31mKeyError\u001b[0m: 'gene'"
     ]
    }
   ],
   "source": [
    "uniprot_acc = entry_d['accession'][0]\n",
    "uniprot_name = entry_d['name'][0]\n",
    "protein_name = entry_d['protein']['recommendedName']['fullName']\n",
    "if not isinstance(protein_name, str):\n",
    "    protein_name = protein_name['$']\n",
    "\n",
    "gene_name = entry_d['gene'][0]['name'][0]['$']"
   ]
  },
  {
   "cell_type": "code",
   "execution_count": 5,
   "metadata": {},
   "outputs": [],
   "source": [
    "hgnc_d = next(d for d in entry_d['dbReference'] if d['@type'] == 'HGNC')"
   ]
  },
  {
   "cell_type": "code",
   "execution_count": 6,
   "metadata": {},
   "outputs": [
    {
     "output_type": "execute_result",
     "data": {
      "text/plain": "{'@type': 'HGNC',\n '@id': 'HGNC:5661',\n 'property': [{'@type': 'gene designation', '@value': 'IGHV5-10-1'}]}"
     },
     "metadata": {},
     "execution_count": 6
    }
   ],
   "source": [
    "hgnc_d"
   ]
  },
  {
   "cell_type": "code",
   "execution_count": 7,
   "metadata": {},
   "outputs": [],
   "source": [
    "hgnc_gene_id = hgnc_d['@id']\n",
    "hgnc_gene_name = next(\n",
    "    (d['@value'] for d in hgnc_d['property'] if d['@type'] == 'gene designation'),\n",
    "    None\n",
    ")"
   ]
  },
  {
   "cell_type": "code",
   "execution_count": 8,
   "metadata": {},
   "outputs": [
    {
     "output_type": "execute_result",
     "data": {
      "text/plain": "{'@length': 117,\n '@mass': 12773,\n '@checksum': 'CE54AEC68F01615A',\n '@modified': '2015-10-14',\n '@version': 1,\n '@precursor': True,\n '$': 'MGSTAILALLLAVLQGVCAEVQLVQSGAEVKKPGESLRISCKGSGYSFTSYWISWVRQMPGKGLEWMGRIDPSDSYTNYSPSFQGHVTISADKSISTAYLQWSSLKASDTAMYYCAR'}"
     },
     "metadata": {},
     "execution_count": 8
    }
   ],
   "source": [
    "seq_d = entry_d['sequence']\n",
    "seq_d"
   ]
  },
  {
   "cell_type": "code",
   "execution_count": 9,
   "metadata": {},
   "outputs": [],
   "source": [
    "out_d = {\n",
    "    'uniprot_acc': uniprot_acc,\n",
    "    'uniprot_name': uniprot_name,\n",
    "    'uniprot_protein_name': protein_name,\n",
    "    'uniprot_gene_name': gene_name,\n",
    "    'hgnc_gene_id': hgnc_gene_id,\n",
    "    'hgnc_gene_name': hgnc_gene_name,\n",
    "    'sequence_modified_date': seq_d['@modified'],\n",
    "    'sequence_crc64_checksum': seq_d['@checksum'],\n",
    "    'sequence': seq_d['$']\n",
    "}"
   ]
  },
  {
   "cell_type": "code",
   "execution_count": 10,
   "metadata": {},
   "outputs": [
    {
     "output_type": "execute_result",
     "data": {
      "text/plain": "{'uniprot_acc': 'A0A0J9YXX1',\n 'uniprot_name': 'HV5X1_HUMAN',\n 'uniprot_protein_name': 'Immunoglobulin heavy variable 5-10-1',\n 'uniprot_gene_name': 'IGHV5-10-1',\n 'hgnc_gene_id': 'HGNC:5661',\n 'hgnc_gene_name': 'IGHV5-10-1',\n 'sequence_modified_date': '2015-10-14',\n 'sequence_crc64_checksum': 'CE54AEC68F01615A',\n 'sequence': 'MGSTAILALLLAVLQGVCAEVQLVQSGAEVKKPGESLRISCKGSGYSFTSYWISWVRQMPGKGLEWMGRIDPSDSYTNYSPSFQGHVTISADKSISTAYLQWSSLKASDTAMYYCAR'}"
     },
     "metadata": {},
     "execution_count": 10
    }
   ],
   "source": [
    "out_d"
   ]
  },
  {
   "cell_type": "code",
   "execution_count": 11,
   "metadata": {},
   "outputs": [],
   "source": [
    "df = pd.DataFrame.from_records(\n",
    "    [out_d],\n",
    "    columns=['uniprot_acc', 'uniprot_name', 'uniprot_protein_name',\n",
    "       'uniprot_gene_name', 'hgnc_gene_id', 'hgnc_gene_name',\n",
    "       'sequence_modified_date', 'sequence_crc64_checksum', 'sequence'])"
   ]
  },
  {
   "cell_type": "code",
   "execution_count": 12,
   "metadata": {},
   "outputs": [
    {
     "output_type": "execute_result",
     "data": {
      "text/plain": "  uniprot_acc uniprot_name                  uniprot_protein_name  \\\n0  A0A0J9YXX1  HV5X1_HUMAN  Immunoglobulin heavy variable 5-10-1   \n\n  uniprot_gene_name hgnc_gene_id hgnc_gene_name sequence_modified_date  \\\n0        IGHV5-10-1    HGNC:5661     IGHV5-10-1             2015-10-14   \n\n  sequence_crc64_checksum                                           sequence  \n0        CE54AEC68F01615A  MGSTAILALLLAVLQGVCAEVQLVQSGAEVKKPGESLRISCKGSGY...  ",
      "text/html": "<div>\n<style scoped>\n    .dataframe tbody tr th:only-of-type {\n        vertical-align: middle;\n    }\n\n    .dataframe tbody tr th {\n        vertical-align: top;\n    }\n\n    .dataframe thead th {\n        text-align: right;\n    }\n</style>\n<table border=\"1\" class=\"dataframe\">\n  <thead>\n    <tr style=\"text-align: right;\">\n      <th></th>\n      <th>uniprot_acc</th>\n      <th>uniprot_name</th>\n      <th>uniprot_protein_name</th>\n      <th>uniprot_gene_name</th>\n      <th>hgnc_gene_id</th>\n      <th>hgnc_gene_name</th>\n      <th>sequence_modified_date</th>\n      <th>sequence_crc64_checksum</th>\n      <th>sequence</th>\n    </tr>\n  </thead>\n  <tbody>\n    <tr>\n      <th>0</th>\n      <td>A0A0J9YXX1</td>\n      <td>HV5X1_HUMAN</td>\n      <td>Immunoglobulin heavy variable 5-10-1</td>\n      <td>IGHV5-10-1</td>\n      <td>HGNC:5661</td>\n      <td>IGHV5-10-1</td>\n      <td>2015-10-14</td>\n      <td>CE54AEC68F01615A</td>\n      <td>MGSTAILALLLAVLQGVCAEVQLVQSGAEVKKPGESLRISCKGSGY...</td>\n    </tr>\n  </tbody>\n</table>\n</div>"
     },
     "metadata": {},
     "execution_count": 12
    }
   ],
   "source": [
    "df"
   ]
  },
  {
   "cell_type": "code",
   "execution_count": null,
   "metadata": {},
   "outputs": [],
   "source": []
  }
 ]
}