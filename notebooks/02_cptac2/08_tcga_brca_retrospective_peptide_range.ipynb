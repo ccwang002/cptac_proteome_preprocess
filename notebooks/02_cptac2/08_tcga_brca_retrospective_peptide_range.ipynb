{
 "cells": [
  {
   "cell_type": "code",
   "execution_count": 1,
   "metadata": {},
   "outputs": [],
   "source": [
    "from pathlib import Path\n",
    "import re\n",
    "\n",
    "from pysam import FastaFile\n",
    "import pandas as pd"
   ]
  },
  {
   "cell_type": "code",
   "execution_count": 2,
   "metadata": {},
   "outputs": [],
   "source": [
    "DATA_ROOT = Path('/Users/liang/Box/MyCPTAC/CPTAC_proteome_v3.0/')\n",
    "\n",
    "refseq_fasta_pth = DATA_ROOT / 'DCC/RefSeq_20130727/RefSeq.20130727-Human.contams.fasta.gz'\n",
    "\n",
    "phospho_pth = DATA_ROOT / 'CPTAC2/TCGA_BRCA_retrospective/phosphoproteome_P3_peptide_annotation.tsv.gz'"
   ]
  },
  {
   "cell_type": "code",
   "execution_count": 3,
   "metadata": {},
   "outputs": [],
   "source": [
    "protein_fa = FastaFile(str(refseq_fasta_pth))"
   ]
  },
  {
   "cell_type": "code",
   "execution_count": 4,
   "metadata": {},
   "outputs": [],
   "source": [
    "def calc_peptide_start_end(peptide, protein_id, sites):\n",
    "    # Make sure the peptide is part of the protein sequence\n",
    "    protein_seq = protein_fa.fetch(protein_id)\n",
    "    if not peptide.upper() in protein_seq:\n",
    "        return [None, None, False, 'Peptide not found in protein']\n",
    "    \n",
    "    first_res = sites[0][0].lower()\n",
    "    first_res_loc = int(sites[0][1:])\n",
    "    first_res_ix = peptide.find(first_res) \n",
    "    \n",
    "    peptide_start = first_res_loc - first_res_ix\n",
    "    peptide_end = first_res_loc + len(peptide) - first_res_ix - 1\n",
    "    if protein_seq[peptide_start - 1:peptide_end] != peptide.upper():\n",
    "        return [None, None, False, 'Invalid location']\n",
    "    return [peptide_start, peptide_end, True, None]"
   ]
  },
  {
   "cell_type": "code",
   "execution_count": 5,
   "metadata": {},
   "outputs": [
    {
     "data": {
      "text/plain": [
       "Index(['original_site_id', 'geneName', 'accession_number', 'variableSites',\n",
       "       'sequence'],\n",
       "      dtype='object')"
      ]
     },
     "execution_count": 5,
     "metadata": {},
     "output_type": "execute_result"
    }
   ],
   "source": [
    "peptide_df = pd.read_table(phospho_pth)\n",
    "peptide_df.columns"
   ]
  },
  {
   "cell_type": "code",
   "execution_count": 6,
   "metadata": {},
   "outputs": [
    {
     "data": {
      "text/html": [
       "<div>\n",
       "<style scoped>\n",
       "    .dataframe tbody tr th:only-of-type {\n",
       "        vertical-align: middle;\n",
       "    }\n",
       "\n",
       "    .dataframe tbody tr th {\n",
       "        vertical-align: top;\n",
       "    }\n",
       "\n",
       "    .dataframe thead th {\n",
       "        text-align: right;\n",
       "    }\n",
       "</style>\n",
       "<table border=\"1\" class=\"dataframe\">\n",
       "  <thead>\n",
       "    <tr style=\"text-align: right;\">\n",
       "      <th></th>\n",
       "      <th>original_site_id</th>\n",
       "      <th>geneName</th>\n",
       "      <th>accession_number</th>\n",
       "      <th>variableSites</th>\n",
       "      <th>sequence</th>\n",
       "      <th>phosphosites</th>\n",
       "    </tr>\n",
       "  </thead>\n",
       "  <tbody>\n",
       "    <tr>\n",
       "      <th>0</th>\n",
       "      <td>NP_055955_S15s _1_0_15_16</td>\n",
       "      <td>TTLL12</td>\n",
       "      <td>NP_055955</td>\n",
       "      <td>S15s</td>\n",
       "      <td>RPAERsSPGQTPEEGAQALAEFAALHGPALR</td>\n",
       "      <td>[S15s]</td>\n",
       "    </tr>\n",
       "    <tr>\n",
       "      <th>1</th>\n",
       "      <td>NP_680780_T31t _1_0_31_32</td>\n",
       "      <td>ATXN2L</td>\n",
       "      <td>NP_680780</td>\n",
       "      <td>T31t</td>\n",
       "      <td>RPPGGtSPPNGGLPGPLATSAAPPGPPAAASPCLGPVAAAGSGLRR</td>\n",
       "      <td>[T31t]</td>\n",
       "    </tr>\n",
       "    <tr>\n",
       "      <th>2</th>\n",
       "      <td>NP_002511_S125s _1_1_125_125</td>\n",
       "      <td>NPM1P21</td>\n",
       "      <td>NP_002511</td>\n",
       "      <td>S125s</td>\n",
       "      <td>CGSGPVHISGQHLVAVEEDAEsEDEEEEDVK</td>\n",
       "      <td>[S125s]</td>\n",
       "    </tr>\n",
       "    <tr>\n",
       "      <th>3</th>\n",
       "      <td>NP_001116539_S84s _1_1_84_84</td>\n",
       "      <td>MAPT</td>\n",
       "      <td>NP_001116539</td>\n",
       "      <td>S84s</td>\n",
       "      <td>STPTAEAEEAGIGDTPsLEDEAAGHVTQAR</td>\n",
       "      <td>[S84s]</td>\n",
       "    </tr>\n",
       "    <tr>\n",
       "      <th>4</th>\n",
       "      <td>NP_001135452_S299s _1_1_299_299</td>\n",
       "      <td>TP53BP1</td>\n",
       "      <td>NP_001135452</td>\n",
       "      <td>S299s</td>\n",
       "      <td>EQLSAQELMESGLQIQKsPEPEVLSTQEDLFDQSNK</td>\n",
       "      <td>[S299s]</td>\n",
       "    </tr>\n",
       "    <tr>\n",
       "      <th>5</th>\n",
       "      <td>NP_004454_S48s _1_0_48_50</td>\n",
       "      <td>FGD1</td>\n",
       "      <td>NP_004454</td>\n",
       "      <td>S48s</td>\n",
       "      <td>RGsGSALGGPLDPQFVGPSDTSLGAAPGHR</td>\n",
       "      <td>[S48s]</td>\n",
       "    </tr>\n",
       "    <tr>\n",
       "      <th>6</th>\n",
       "      <td>NP_056425_S413s _1_0_412_415</td>\n",
       "      <td>WIPI2</td>\n",
       "      <td>NP_056425</td>\n",
       "      <td>S413s</td>\n",
       "      <td>GTYVPSsPTRLAYTDDLGAVGGACLEDEASALRLDEDSEHPPMILR</td>\n",
       "      <td>[S413s]</td>\n",
       "    </tr>\n",
       "    <tr>\n",
       "      <th>7</th>\n",
       "      <td>NP_002826_S673s _1_1_673_673</td>\n",
       "      <td>PTPN12</td>\n",
       "      <td>NP_002826</td>\n",
       "      <td>S673s</td>\n",
       "      <td>DVDVSEDsPPPLPERTPESFVLASEHNTPVR</td>\n",
       "      <td>[S673s]</td>\n",
       "    </tr>\n",
       "    <tr>\n",
       "      <th>8</th>\n",
       "      <td>NP_001348_S87s _1_1_87_87</td>\n",
       "      <td>DHX9</td>\n",
       "      <td>NP_001348</td>\n",
       "      <td>S87s</td>\n",
       "      <td>SEEVPAFGVAsPPPLTDTPDTTANAEGDLPTTMGGPLPPHLALK</td>\n",
       "      <td>[S87s]</td>\n",
       "    </tr>\n",
       "    <tr>\n",
       "      <th>9</th>\n",
       "      <td>NP_004517_S40s _1_0_39_41</td>\n",
       "      <td>MCM2</td>\n",
       "      <td>NP_004517</td>\n",
       "      <td>S40s</td>\n",
       "      <td>RTDALTsSPGRDLPPFEDESEGLLGTEGPLEEEEDGEELIGDGMERDYR</td>\n",
       "      <td>[S40s]</td>\n",
       "    </tr>\n",
       "  </tbody>\n",
       "</table>\n",
       "</div>"
      ],
      "text/plain": [
       "                  original_site_id geneName accession_number variableSites  \\\n",
       "0        NP_055955_S15s _1_0_15_16   TTLL12        NP_055955          S15s   \n",
       "1        NP_680780_T31t _1_0_31_32   ATXN2L        NP_680780          T31t   \n",
       "2     NP_002511_S125s _1_1_125_125  NPM1P21        NP_002511         S125s   \n",
       "3     NP_001116539_S84s _1_1_84_84     MAPT     NP_001116539          S84s   \n",
       "4  NP_001135452_S299s _1_1_299_299  TP53BP1     NP_001135452         S299s   \n",
       "5        NP_004454_S48s _1_0_48_50     FGD1        NP_004454          S48s   \n",
       "6     NP_056425_S413s _1_0_412_415    WIPI2        NP_056425         S413s   \n",
       "7     NP_002826_S673s _1_1_673_673   PTPN12        NP_002826         S673s   \n",
       "8        NP_001348_S87s _1_1_87_87     DHX9        NP_001348          S87s   \n",
       "9        NP_004517_S40s _1_0_39_41     MCM2        NP_004517          S40s   \n",
       "\n",
       "                                            sequence phosphosites  \n",
       "0                    RPAERsSPGQTPEEGAQALAEFAALHGPALR       [S15s]  \n",
       "1     RPPGGtSPPNGGLPGPLATSAAPPGPPAAASPCLGPVAAAGSGLRR       [T31t]  \n",
       "2                    CGSGPVHISGQHLVAVEEDAEsEDEEEEDVK      [S125s]  \n",
       "3                     STPTAEAEEAGIGDTPsLEDEAAGHVTQAR       [S84s]  \n",
       "4               EQLSAQELMESGLQIQKsPEPEVLSTQEDLFDQSNK      [S299s]  \n",
       "5                     RGsGSALGGPLDPQFVGPSDTSLGAAPGHR       [S48s]  \n",
       "6     GTYVPSsPTRLAYTDDLGAVGGACLEDEASALRLDEDSEHPPMILR      [S413s]  \n",
       "7                    DVDVSEDsPPPLPERTPESFVLASEHNTPVR      [S673s]  \n",
       "8       SEEVPAFGVAsPPPLTDTPDTTANAEGDLPTTMGGPLPPHLALK       [S87s]  \n",
       "9  RTDALTsSPGRDLPPFEDESEGLLGTEGPLEEEEDGEELIGDGMERDYR       [S40s]  "
      ]
     },
     "execution_count": 6,
     "metadata": {},
     "output_type": "execute_result"
    }
   ],
   "source": [
    "peptide_df = peptide_df\n",
    "peptide_df['phosphosites'] = peptide_df['variableSites'].str.findall(r'[A-Z]\\d+[a-z]')\n",
    "peptide_df.head(10)"
   ]
  },
  {
   "cell_type": "markdown",
   "metadata": {},
   "source": [
    "Check what residues are modified"
   ]
  },
  {
   "cell_type": "code",
   "execution_count": 7,
   "metadata": {},
   "outputs": [
    {
     "data": {
      "text/plain": [
       "S    32056\n",
       "T     5052\n",
       "M      353\n",
       "Y      235\n",
       "Q      217\n",
       "C       98\n",
       "Name: phosphosites, dtype: int64"
      ]
     },
     "execution_count": 7,
     "metadata": {},
     "output_type": "execute_result"
    }
   ],
   "source": [
    "peptide_df['phosphosites'].explode().apply(lambda x: x[0]).value_counts()"
   ]
  },
  {
   "cell_type": "code",
   "execution_count": 8,
   "metadata": {},
   "outputs": [],
   "source": [
    "# Keep only STY that are phosphosites\n",
    "peptide_df['phosphosites'] = peptide_df['phosphosites'].apply(\n",
    "    lambda l: [x[:-1] for x in l if x[0] in 'STY']\n",
    ")"
   ]
  },
  {
   "cell_type": "code",
   "execution_count": 9,
   "metadata": {},
   "outputs": [],
   "source": [
    "# Calculate the peptide location\n",
    "peptide_loc_range_df = pd.DataFrame(\n",
    "    map(calc_peptide_start_end, \n",
    "        peptide_df.sequence, peptide_df.accession_number, peptide_df.phosphosites),\n",
    "    index=peptide_df.index,\n",
    "    columns=['peptide_start', 'peptide_end', 'peptide_loc_valid', 'peptide_loc_invalid_reason'],\n",
    ").astype({\n",
    "    'peptide_start': pd.Int64Dtype(),\n",
    "    'peptide_end': pd.Int64Dtype(),\n",
    "})"
   ]
  },
  {
   "cell_type": "code",
   "execution_count": 10,
   "metadata": {},
   "outputs": [
    {
     "data": {
      "text/html": [
       "<div>\n",
       "<style scoped>\n",
       "    .dataframe tbody tr th:only-of-type {\n",
       "        vertical-align: middle;\n",
       "    }\n",
       "\n",
       "    .dataframe tbody tr th {\n",
       "        vertical-align: top;\n",
       "    }\n",
       "\n",
       "    .dataframe thead th {\n",
       "        text-align: right;\n",
       "    }\n",
       "</style>\n",
       "<table border=\"1\" class=\"dataframe\">\n",
       "  <thead>\n",
       "    <tr style=\"text-align: right;\">\n",
       "      <th></th>\n",
       "      <th>original_site_id</th>\n",
       "      <th>geneName</th>\n",
       "      <th>accession_number</th>\n",
       "      <th>variableSites</th>\n",
       "      <th>sequence</th>\n",
       "      <th>phosphosites</th>\n",
       "      <th>peptide_start</th>\n",
       "      <th>peptide_end</th>\n",
       "      <th>peptide_loc_valid</th>\n",
       "      <th>peptide_loc_invalid_reason</th>\n",
       "    </tr>\n",
       "  </thead>\n",
       "  <tbody>\n",
       "  </tbody>\n",
       "</table>\n",
       "</div>"
      ],
      "text/plain": [
       "Empty DataFrame\n",
       "Columns: [original_site_id, geneName, accession_number, variableSites, sequence, phosphosites, peptide_start, peptide_end, peptide_loc_valid, peptide_loc_invalid_reason]\n",
       "Index: []"
      ]
     },
     "execution_count": 10,
     "metadata": {},
     "output_type": "execute_result"
    }
   ],
   "source": [
    "# Combine the location and peptide information\n",
    "peptide_with_loc_df = pd.concat([peptide_df, peptide_loc_range_df], axis=1)\n",
    "# List all the invalid peptides\n",
    "peptide_with_loc_df[~peptide_loc_range_df['peptide_loc_valid']]"
   ]
  },
  {
   "cell_type": "code",
   "execution_count": 11,
   "metadata": {},
   "outputs": [],
   "source": [
    "def compression_aware_with_suffix(p: Path, suffix: str):\n",
    "    if p.suffix in ['.gz', '.bz2', '.xz', '.zst']:\n",
    "        p = p.parent / p.stem\n",
    "    return p.with_suffix(suffix)"
   ]
  },
  {
   "cell_type": "code",
   "execution_count": 12,
   "metadata": {},
   "outputs": [],
   "source": [
    "out_df = peptide_with_loc_df.loc[\n",
    "    :,\n",
    "    ['original_site_id', \n",
    "     'phosphosites', \n",
    "     'peptide_start', 'peptide_end', 'peptide_loc_valid', 'peptide_loc_invalid_reason']\n",
    "]\n",
    "out_df['phosphosites'] = out_df['phosphosites'].str.join(';')\n",
    "out_df.to_csv(\n",
    "    compression_aware_with_suffix(phospho_pth, '.peptide_location.tsv.gz'),\n",
    "    sep='\\t',\n",
    "    index=False\n",
    ")"
   ]
  },
  {
   "cell_type": "code",
   "execution_count": 13,
   "metadata": {},
   "outputs": [
    {
     "data": {
      "text/html": [
       "<div>\n",
       "<style scoped>\n",
       "    .dataframe tbody tr th:only-of-type {\n",
       "        vertical-align: middle;\n",
       "    }\n",
       "\n",
       "    .dataframe tbody tr th {\n",
       "        vertical-align: top;\n",
       "    }\n",
       "\n",
       "    .dataframe thead th {\n",
       "        text-align: right;\n",
       "    }\n",
       "</style>\n",
       "<table border=\"1\" class=\"dataframe\">\n",
       "  <thead>\n",
       "    <tr style=\"text-align: right;\">\n",
       "      <th></th>\n",
       "      <th>original_site_id</th>\n",
       "      <th>phosphosites</th>\n",
       "      <th>peptide_start</th>\n",
       "      <th>peptide_end</th>\n",
       "      <th>peptide_loc_valid</th>\n",
       "      <th>peptide_loc_invalid_reason</th>\n",
       "    </tr>\n",
       "  </thead>\n",
       "  <tbody>\n",
       "    <tr>\n",
       "      <th>0</th>\n",
       "      <td>NP_055955_S15s _1_0_15_16</td>\n",
       "      <td>S15</td>\n",
       "      <td>10</td>\n",
       "      <td>40</td>\n",
       "      <td>True</td>\n",
       "      <td>None</td>\n",
       "    </tr>\n",
       "    <tr>\n",
       "      <th>1</th>\n",
       "      <td>NP_680780_T31t _1_0_31_32</td>\n",
       "      <td>T31</td>\n",
       "      <td>26</td>\n",
       "      <td>71</td>\n",
       "      <td>True</td>\n",
       "      <td>None</td>\n",
       "    </tr>\n",
       "    <tr>\n",
       "      <th>2</th>\n",
       "      <td>NP_002511_S125s _1_1_125_125</td>\n",
       "      <td>S125</td>\n",
       "      <td>104</td>\n",
       "      <td>134</td>\n",
       "      <td>True</td>\n",
       "      <td>None</td>\n",
       "    </tr>\n",
       "    <tr>\n",
       "      <th>3</th>\n",
       "      <td>NP_001116539_S84s _1_1_84_84</td>\n",
       "      <td>S84</td>\n",
       "      <td>68</td>\n",
       "      <td>97</td>\n",
       "      <td>True</td>\n",
       "      <td>None</td>\n",
       "    </tr>\n",
       "    <tr>\n",
       "      <th>4</th>\n",
       "      <td>NP_001135452_S299s _1_1_299_299</td>\n",
       "      <td>S299</td>\n",
       "      <td>282</td>\n",
       "      <td>317</td>\n",
       "      <td>True</td>\n",
       "      <td>None</td>\n",
       "    </tr>\n",
       "  </tbody>\n",
       "</table>\n",
       "</div>"
      ],
      "text/plain": [
       "                  original_site_id phosphosites  peptide_start  peptide_end  \\\n",
       "0        NP_055955_S15s _1_0_15_16          S15             10           40   \n",
       "1        NP_680780_T31t _1_0_31_32          T31             26           71   \n",
       "2     NP_002511_S125s _1_1_125_125         S125            104          134   \n",
       "3     NP_001116539_S84s _1_1_84_84          S84             68           97   \n",
       "4  NP_001135452_S299s _1_1_299_299         S299            282          317   \n",
       "\n",
       "   peptide_loc_valid peptide_loc_invalid_reason  \n",
       "0               True                       None  \n",
       "1               True                       None  \n",
       "2               True                       None  \n",
       "3               True                       None  \n",
       "4               True                       None  "
      ]
     },
     "execution_count": 13,
     "metadata": {},
     "output_type": "execute_result"
    }
   ],
   "source": [
    "out_df.head()"
   ]
  },
  {
   "cell_type": "code",
   "execution_count": null,
   "metadata": {},
   "outputs": [],
   "source": []
  }
 ],
 "metadata": {
  "kernelspec": {
   "display_name": "Python 3",
   "language": "python",
   "name": "python3"
  },
  "language_info": {
   "codemirror_mode": {
    "name": "ipython",
    "version": 3
   },
   "file_extension": ".py",
   "mimetype": "text/x-python",
   "name": "python",
   "nbconvert_exporter": "python",
   "pygments_lexer": "ipython3",
   "version": "3.8.3"
  }
 },
 "nbformat": 4,
 "nbformat_minor": 4
}
