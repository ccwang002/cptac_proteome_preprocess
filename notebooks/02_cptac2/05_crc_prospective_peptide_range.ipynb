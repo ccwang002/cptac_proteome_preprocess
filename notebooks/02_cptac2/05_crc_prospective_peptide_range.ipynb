{
 "cells": [
  {
   "cell_type": "code",
   "execution_count": 1,
   "metadata": {},
   "outputs": [],
   "source": [
    "from pathlib import Path\n",
    "import re\n",
    "\n",
    "from pysam import FastaFile\n",
    "import pandas as pd"
   ]
  },
  {
   "cell_type": "code",
   "execution_count": 2,
   "metadata": {},
   "outputs": [],
   "source": [
    "DATA_ROOT = Path('/Users/liang/Box/MyCPTAC/CPTAC_proteome_v2.1/')\n",
    "\n",
    "refseq_2016_fasta_pth = DATA_ROOT / 'DCC/RefSeq_20160914/RefSeq.20160914_Human_ucsc_hg19_customProDBnr_mito_150contams.fasta.gz'\n",
    "refseq_2018_fasta_pth = DATA_ROOT / 'DCC/RefSeq_20180629/RefSeq.20180629_Human_ucsc_hg38_cpdbnr_mito_264contams.fasta.gz'\n",
    "\n",
    "phospho_pth = DATA_ROOT / 'CPTAC2/CRC_prospective/CPTAC2_Colon_Prospective_Collection_PNNL_Phosphoproteome.phosphosite.tmt10.tsv.gz'"
   ]
  },
  {
   "cell_type": "code",
   "execution_count": 3,
   "metadata": {},
   "outputs": [],
   "source": [
    "protein_fa = FastaFile(str(refseq_2018_fasta_pth))"
   ]
  },
  {
   "cell_type": "code",
   "execution_count": 4,
   "metadata": {},
   "outputs": [],
   "source": [
    "def calc_peptide_start_end(peptide, protein_id, sites):\n",
    "    # Make sure the peptide is part of the protein sequence\n",
    "    protein_seq = protein_fa.fetch(protein_id)\n",
    "    if not peptide.upper() in protein_seq:\n",
    "        return [None, None, False, 'Peptide not found in protein']\n",
    "    \n",
    "    first_res = sites[0][0].lower()\n",
    "    first_res_loc = int(sites[0][1:])\n",
    "    first_res_ix = peptide.find(first_res) \n",
    "    \n",
    "    peptide_start = first_res_loc - first_res_ix\n",
    "    peptide_end = first_res_loc + len(peptide) - first_res_ix - 1\n",
    "    if protein_seq[peptide_start - 1:peptide_end] != peptide.upper():\n",
    "        return [None, None, False, 'Invalid location']\n",
    "    return [peptide_start, peptide_end, True, None]"
   ]
  },
  {
   "cell_type": "code",
   "execution_count": 5,
   "metadata": {},
   "outputs": [
    {
     "data": {
      "text/plain": [
       "Index(['Phosphosite', '853ecf90-71e6-4156-a56f-a34b65_D2 Log Ratio',\n",
       "       '8cc7e656-0152-4359-8566-0581c3 Log Ratio',\n",
       "       'b3696374-c6c0-49dd-833e-596e26_D2 Log Ratio',\n",
       "       'f635496c-0046-4ecd-89bc-7a4f33_D2 Log Ratio',\n",
       "       'e1cd3d70-132b-452f-ba10-026721_D2 Log Ratio',\n",
       "       'bd67de01-ad7d-431a-9ad6-4dd5a1 Log Ratio',\n",
       "       '21cab01c-e968-42cc-9651-1e53c0_D3 Log Ratio',\n",
       "       'ec9afcc4-ccf7-4226-b0e8-d6897d_D3 Log Ratio',\n",
       "       '573048dd-2502-40e0-8e8c-c41bb8_D3 Log Ratio',\n",
       "       ...\n",
       "       '7bdfa5c9-d11f-4600-9c44-a87996_D2 Log Ratio',\n",
       "       '515040a4-bbfb-4a15-9e53-e7b6e6_D2 Log Ratio',\n",
       "       '6e0d04fc-e6a8-41ed-b6f3-45537d_D2 Log Ratio',\n",
       "       '0d5554d1-1653-4589-a44f-43113e_D2 Log Ratio',\n",
       "       '1bf00d93-240f-47e8-8055-f546b0_D2 Log Ratio',\n",
       "       '1f79fed9-f0d4-4c45-acd2-ea1441_D2 Log Ratio',\n",
       "       'fc9b09af-23b8-4ffe-b6c6-41236d_D2 Log Ratio', 'Peptide', 'Gene',\n",
       "       'Organism'],\n",
       "      dtype='object', length=202)"
      ]
     },
     "execution_count": 5,
     "metadata": {},
     "output_type": "execute_result"
    }
   ],
   "source": [
    "raw_phospho_df = pd.read_table(phospho_pth)\n",
    "raw_phospho_df.columns"
   ]
  },
  {
   "cell_type": "code",
   "execution_count": 6,
   "metadata": {},
   "outputs": [
    {
     "data": {
      "text/plain": [
       "0                       sLGHPEPLSNGRPQGNSR:NP_000012.1:s43\n",
       "1                          VSKNSKYNAEStER:NP_000012.1:t320\n",
       "2          YNAESTERESQDtVAENDDGGFSEEWEAQR:NP_000012.1:t327\n",
       "3        YNAESTERESQDtVAENDDGGFsEEWEAQR:NP_000012.1:t32...\n",
       "4                          DSHLGPHRStPESR:NP_000012.1:t354\n",
       "                               ...                        \n",
       "44944               sATAsPQQPQAQQR:XP_016871004.1:s872s876\n",
       "44945                   SAtASPQQPQAQQR:XP_016871004.1:t874\n",
       "44946               SAtAsPQQPQAQQR:XP_016871004.1:t874s876\n",
       "44947                   SATAsPQQPQAQQR:XP_016871004.1:s876\n",
       "44948                       IFEMGPVFtL:YP_003024029.1:t226\n",
       "Length: 44949, dtype: object"
      ]
     },
     "execution_count": 6,
     "metadata": {},
     "output_type": "execute_result"
    }
   ],
   "source": [
    "raw_phospho_df['Peptide'] + ':' + raw_phospho_df['Phosphosite']"
   ]
  },
  {
   "cell_type": "code",
   "execution_count": 7,
   "metadata": {},
   "outputs": [
    {
     "data": {
      "text/html": [
       "<div>\n",
       "<style scoped>\n",
       "    .dataframe tbody tr th:only-of-type {\n",
       "        vertical-align: middle;\n",
       "    }\n",
       "\n",
       "    .dataframe tbody tr th {\n",
       "        vertical-align: top;\n",
       "    }\n",
       "\n",
       "    .dataframe thead th {\n",
       "        text-align: right;\n",
       "    }\n",
       "</style>\n",
       "<table border=\"1\" class=\"dataframe\">\n",
       "  <thead>\n",
       "    <tr style=\"text-align: right;\">\n",
       "      <th></th>\n",
       "      <th>refseq_prot_id</th>\n",
       "      <th>phosphosites</th>\n",
       "      <th>original_id</th>\n",
       "      <th>peptide</th>\n",
       "    </tr>\n",
       "  </thead>\n",
       "  <tbody>\n",
       "    <tr>\n",
       "      <th>0</th>\n",
       "      <td>NP_000012.1</td>\n",
       "      <td>[S43]</td>\n",
       "      <td>sLGHPEPLSNGRPQGNSR:NP_000012.1:s43</td>\n",
       "      <td>sLGHPEPLSNGRPQGNSR</td>\n",
       "    </tr>\n",
       "    <tr>\n",
       "      <th>1</th>\n",
       "      <td>NP_000012.1</td>\n",
       "      <td>[T320]</td>\n",
       "      <td>VSKNSKYNAEStER:NP_000012.1:t320</td>\n",
       "      <td>VSKNSKYNAEStER</td>\n",
       "    </tr>\n",
       "    <tr>\n",
       "      <th>2</th>\n",
       "      <td>NP_000012.1</td>\n",
       "      <td>[T327]</td>\n",
       "      <td>YNAESTERESQDtVAENDDGGFSEEWEAQR:NP_000012.1:t327</td>\n",
       "      <td>YNAESTERESQDtVAENDDGGFSEEWEAQR</td>\n",
       "    </tr>\n",
       "    <tr>\n",
       "      <th>3</th>\n",
       "      <td>NP_000012.1</td>\n",
       "      <td>[T327, S337]</td>\n",
       "      <td>YNAESTERESQDtVAENDDGGFsEEWEAQR:NP_000012.1:t32...</td>\n",
       "      <td>YNAESTERESQDtVAENDDGGFsEEWEAQR</td>\n",
       "    </tr>\n",
       "    <tr>\n",
       "      <th>4</th>\n",
       "      <td>NP_000012.1</td>\n",
       "      <td>[T354]</td>\n",
       "      <td>DSHLGPHRStPESR:NP_000012.1:t354</td>\n",
       "      <td>DSHLGPHRStPESR</td>\n",
       "    </tr>\n",
       "    <tr>\n",
       "      <th>5</th>\n",
       "      <td>NP_000012.1</td>\n",
       "      <td>[S365]</td>\n",
       "      <td>AAVQELsSSILAGEDPEER:NP_000012.1:s365</td>\n",
       "      <td>AAVQELsSSILAGEDPEER</td>\n",
       "    </tr>\n",
       "    <tr>\n",
       "      <th>6</th>\n",
       "      <td>NP_000012.1</td>\n",
       "      <td>[S365, S366]</td>\n",
       "      <td>AAVQELssSILAGEDPEER:NP_000012.1:s365s366</td>\n",
       "      <td>AAVQELssSILAGEDPEER</td>\n",
       "    </tr>\n",
       "    <tr>\n",
       "      <th>7</th>\n",
       "      <td>NP_000012.1</td>\n",
       "      <td>[S365, S367]</td>\n",
       "      <td>AAVQELsSsILAGEDPEER:NP_000012.1:s365s367</td>\n",
       "      <td>AAVQELsSsILAGEDPEER</td>\n",
       "    </tr>\n",
       "    <tr>\n",
       "      <th>8</th>\n",
       "      <td>NP_000012.1</td>\n",
       "      <td>[S366]</td>\n",
       "      <td>AAVQELSsSILAGEDPEER:NP_000012.1:s366</td>\n",
       "      <td>AAVQELSsSILAGEDPEER</td>\n",
       "    </tr>\n",
       "    <tr>\n",
       "      <th>9</th>\n",
       "      <td>NP_000012.1</td>\n",
       "      <td>[S366, S367]</td>\n",
       "      <td>AAVQELSssILAGEDPEER:NP_000012.1:s366s367</td>\n",
       "      <td>AAVQELSssILAGEDPEER</td>\n",
       "    </tr>\n",
       "  </tbody>\n",
       "</table>\n",
       "</div>"
      ],
      "text/plain": [
       "  refseq_prot_id  phosphosites  \\\n",
       "0    NP_000012.1         [S43]   \n",
       "1    NP_000012.1        [T320]   \n",
       "2    NP_000012.1        [T327]   \n",
       "3    NP_000012.1  [T327, S337]   \n",
       "4    NP_000012.1        [T354]   \n",
       "5    NP_000012.1        [S365]   \n",
       "6    NP_000012.1  [S365, S366]   \n",
       "7    NP_000012.1  [S365, S367]   \n",
       "8    NP_000012.1        [S366]   \n",
       "9    NP_000012.1  [S366, S367]   \n",
       "\n",
       "                                         original_id  \\\n",
       "0                 sLGHPEPLSNGRPQGNSR:NP_000012.1:s43   \n",
       "1                    VSKNSKYNAEStER:NP_000012.1:t320   \n",
       "2    YNAESTERESQDtVAENDDGGFSEEWEAQR:NP_000012.1:t327   \n",
       "3  YNAESTERESQDtVAENDDGGFsEEWEAQR:NP_000012.1:t32...   \n",
       "4                    DSHLGPHRStPESR:NP_000012.1:t354   \n",
       "5               AAVQELsSSILAGEDPEER:NP_000012.1:s365   \n",
       "6           AAVQELssSILAGEDPEER:NP_000012.1:s365s366   \n",
       "7           AAVQELsSsILAGEDPEER:NP_000012.1:s365s367   \n",
       "8               AAVQELSsSILAGEDPEER:NP_000012.1:s366   \n",
       "9           AAVQELSssILAGEDPEER:NP_000012.1:s366s367   \n",
       "\n",
       "                          peptide  \n",
       "0              sLGHPEPLSNGRPQGNSR  \n",
       "1                  VSKNSKYNAEStER  \n",
       "2  YNAESTERESQDtVAENDDGGFSEEWEAQR  \n",
       "3  YNAESTERESQDtVAENDDGGFsEEWEAQR  \n",
       "4                  DSHLGPHRStPESR  \n",
       "5             AAVQELsSSILAGEDPEER  \n",
       "6             AAVQELssSILAGEDPEER  \n",
       "7             AAVQELsSsILAGEDPEER  \n",
       "8             AAVQELSsSILAGEDPEER  \n",
       "9             AAVQELSssILAGEDPEER  "
      ]
     },
     "execution_count": 7,
     "metadata": {},
     "output_type": "execute_result"
    }
   ],
   "source": [
    "peptide_df = pd.concat([\n",
    "    raw_phospho_df.loc[:, ['Peptide']],\n",
    "    raw_phospho_df['Phosphosite'].str.extract(\n",
    "        r'^(?P<refseq_prot_id>[^:]+):'\n",
    "        r'(?P<phosphosites>(?:[a-z]\\d+)*)$',\n",
    "        expand = True\n",
    "    )\n",
    "], axis = 'columns')\n",
    "peptide_df['original_id'] = raw_phospho_df['Peptide'] + ':' + raw_phospho_df['Phosphosite']\n",
    "peptide_df['phosphosites'] = peptide_df['phosphosites'].str.upper().str.findall(r'[A-Z]\\d+')\n",
    "# Multiple peptides per site. Take the first one\n",
    "peptide_df['peptide'] = peptide_df['Peptide'].str.split(';').apply(lambda x: x[0])\n",
    "del peptide_df['Peptide']\n",
    "peptide_df.head(10)"
   ]
  },
  {
   "cell_type": "markdown",
   "metadata": {},
   "source": [
    "The reference is more similar to RefSeq 2018 than to RefSeq 2016"
   ]
  },
  {
   "cell_type": "code",
   "execution_count": 8,
   "metadata": {},
   "outputs": [
    {
     "data": {
      "text/plain": [
       "51"
      ]
     },
     "execution_count": 8,
     "metadata": {},
     "output_type": "execute_result"
    }
   ],
   "source": [
    "missing_prot_ids_in_refseq_2018 = set(peptide_df['refseq_prot_id']) - set(protein_fa.references)\n",
    "len(missing_prot_ids_in_refseq_2018)"
   ]
  },
  {
   "cell_type": "code",
   "execution_count": 9,
   "metadata": {},
   "outputs": [
    {
     "data": {
      "text/plain": [
       "413"
      ]
     },
     "execution_count": 9,
     "metadata": {},
     "output_type": "execute_result"
    }
   ],
   "source": [
    "len(set(peptide_df['refseq_prot_id']) - set(FastaFile(refseq_2016_fasta_pth).references))"
   ]
  },
  {
   "cell_type": "markdown",
   "metadata": {},
   "source": [
    "Number of peptides being excluded"
   ]
  },
  {
   "cell_type": "code",
   "execution_count": 10,
   "metadata": {},
   "outputs": [
    {
     "data": {
      "text/plain": [
       "1005"
      ]
     },
     "execution_count": 10,
     "metadata": {},
     "output_type": "execute_result"
    }
   ],
   "source": [
    "(~peptide_df['refseq_prot_id'].isin(protein_fa.references)).sum()"
   ]
  },
  {
   "cell_type": "code",
   "execution_count": 11,
   "metadata": {},
   "outputs": [
    {
     "data": {
      "text/plain": [
       "4029"
      ]
     },
     "execution_count": 11,
     "metadata": {},
     "output_type": "execute_result"
    }
   ],
   "source": [
    "(~peptide_df['refseq_prot_id'].isin(FastaFile(refseq_2016_fasta_pth).references)).sum()"
   ]
  },
  {
   "cell_type": "markdown",
   "metadata": {},
   "source": [
    "Only keep the entries found in RefSeq 2018"
   ]
  },
  {
   "cell_type": "code",
   "execution_count": 12,
   "metadata": {},
   "outputs": [],
   "source": [
    "peptide_df = peptide_df[peptide_df['refseq_prot_id'].isin(protein_fa.references)]"
   ]
  },
  {
   "cell_type": "code",
   "execution_count": 13,
   "metadata": {},
   "outputs": [],
   "source": [
    "# Export the missing RefSeq IDs\n",
    "(\n",
    "    pd.DataFrame({'refseq_prot_id': sorted(missing_prot_ids_in_refseq_2018)})\n",
    "    .to_csv(\n",
    "        phospho_pth.with_name('phospho_missing_ids_in_refseq_2018_database.tsv'),\n",
    "        sep='\\t',\n",
    "        index=False\n",
    "    )\n",
    ")"
   ]
  },
  {
   "cell_type": "markdown",
   "metadata": {},
   "source": [
    "Check what residues are modified"
   ]
  },
  {
   "cell_type": "code",
   "execution_count": 14,
   "metadata": {},
   "outputs": [
    {
     "data": {
      "text/plain": [
       "S    42680\n",
       "T     9698\n",
       "Y     1863\n",
       "Name: phosphosites, dtype: int64"
      ]
     },
     "execution_count": 14,
     "metadata": {},
     "output_type": "execute_result"
    }
   ],
   "source": [
    "peptide_df['phosphosites'].explode().apply(lambda x: x[0]).value_counts()"
   ]
  },
  {
   "cell_type": "code",
   "execution_count": 15,
   "metadata": {},
   "outputs": [],
   "source": [
    "# Keep only STY that are phosphosites\n",
    "peptide_df['phosphosites'] = peptide_df['phosphosites'].apply(\n",
    "    lambda l: [x for x in l if x[0] in 'STY']\n",
    ")"
   ]
  },
  {
   "cell_type": "code",
   "execution_count": 16,
   "metadata": {},
   "outputs": [],
   "source": [
    "# Calculate the peptide location\n",
    "peptide_loc_range_df = pd.DataFrame(\n",
    "    map(calc_peptide_start_end, \n",
    "        peptide_df.peptide, peptide_df.refseq_prot_id, peptide_df.phosphosites),\n",
    "    index=peptide_df.index,\n",
    "    columns=['peptide_start', 'peptide_end', 'peptide_loc_valid', 'peptide_loc_invalid_reason'],\n",
    ").astype({\n",
    "    'peptide_start': pd.Int64Dtype(),\n",
    "    'peptide_end': pd.Int64Dtype(),\n",
    "})"
   ]
  },
  {
   "cell_type": "code",
   "execution_count": 17,
   "metadata": {},
   "outputs": [
    {
     "data": {
      "text/html": [
       "<div>\n",
       "<style scoped>\n",
       "    .dataframe tbody tr th:only-of-type {\n",
       "        vertical-align: middle;\n",
       "    }\n",
       "\n",
       "    .dataframe tbody tr th {\n",
       "        vertical-align: top;\n",
       "    }\n",
       "\n",
       "    .dataframe thead th {\n",
       "        text-align: right;\n",
       "    }\n",
       "</style>\n",
       "<table border=\"1\" class=\"dataframe\">\n",
       "  <thead>\n",
       "    <tr style=\"text-align: right;\">\n",
       "      <th></th>\n",
       "      <th>refseq_prot_id</th>\n",
       "      <th>phosphosites</th>\n",
       "      <th>original_id</th>\n",
       "      <th>peptide</th>\n",
       "      <th>peptide_start</th>\n",
       "      <th>peptide_end</th>\n",
       "      <th>peptide_loc_valid</th>\n",
       "      <th>peptide_loc_invalid_reason</th>\n",
       "    </tr>\n",
       "  </thead>\n",
       "  <tbody>\n",
       "  </tbody>\n",
       "</table>\n",
       "</div>"
      ],
      "text/plain": [
       "Empty DataFrame\n",
       "Columns: [refseq_prot_id, phosphosites, original_id, peptide, peptide_start, peptide_end, peptide_loc_valid, peptide_loc_invalid_reason]\n",
       "Index: []"
      ]
     },
     "execution_count": 17,
     "metadata": {},
     "output_type": "execute_result"
    }
   ],
   "source": [
    "# Combine the location and peptide information\n",
    "peptide_with_loc_df = pd.concat([peptide_df, peptide_loc_range_df], axis=1)\n",
    "# List all the invalid peptides\n",
    "peptide_with_loc_df[~peptide_loc_range_df['peptide_loc_valid']]"
   ]
  },
  {
   "cell_type": "code",
   "execution_count": 18,
   "metadata": {},
   "outputs": [],
   "source": [
    "out_df = peptide_with_loc_df.loc[:,[\n",
    "    'original_id', 'peptide', 'refseq_prot_id',\n",
    "    'phosphosites', 'peptide_start', 'peptide_end', 'peptide_loc_valid', 'peptide_loc_invalid_reason'\n",
    "]]\n",
    "out_df['phosphosites'] = out_df['phosphosites'].str.join(';')\n",
    "out_df.to_csv(\n",
    "    phospho_pth.with_suffix('.peptide_location.tsv.gz'),\n",
    "    sep='\\t',\n",
    "    index=False\n",
    ")"
   ]
  },
  {
   "cell_type": "code",
   "execution_count": 19,
   "metadata": {},
   "outputs": [
    {
     "data": {
      "text/html": [
       "<div>\n",
       "<style scoped>\n",
       "    .dataframe tbody tr th:only-of-type {\n",
       "        vertical-align: middle;\n",
       "    }\n",
       "\n",
       "    .dataframe tbody tr th {\n",
       "        vertical-align: top;\n",
       "    }\n",
       "\n",
       "    .dataframe thead th {\n",
       "        text-align: right;\n",
       "    }\n",
       "</style>\n",
       "<table border=\"1\" class=\"dataframe\">\n",
       "  <thead>\n",
       "    <tr style=\"text-align: right;\">\n",
       "      <th></th>\n",
       "      <th>original_id</th>\n",
       "      <th>peptide</th>\n",
       "      <th>refseq_prot_id</th>\n",
       "      <th>phosphosites</th>\n",
       "      <th>peptide_start</th>\n",
       "      <th>peptide_end</th>\n",
       "      <th>peptide_loc_valid</th>\n",
       "      <th>peptide_loc_invalid_reason</th>\n",
       "    </tr>\n",
       "  </thead>\n",
       "  <tbody>\n",
       "    <tr>\n",
       "      <th>0</th>\n",
       "      <td>sLGHPEPLSNGRPQGNSR:NP_000012.1:s43</td>\n",
       "      <td>sLGHPEPLSNGRPQGNSR</td>\n",
       "      <td>NP_000012.1</td>\n",
       "      <td>S43</td>\n",
       "      <td>43</td>\n",
       "      <td>60</td>\n",
       "      <td>True</td>\n",
       "      <td>None</td>\n",
       "    </tr>\n",
       "    <tr>\n",
       "      <th>1</th>\n",
       "      <td>VSKNSKYNAEStER:NP_000012.1:t320</td>\n",
       "      <td>VSKNSKYNAEStER</td>\n",
       "      <td>NP_000012.1</td>\n",
       "      <td>T320</td>\n",
       "      <td>309</td>\n",
       "      <td>322</td>\n",
       "      <td>True</td>\n",
       "      <td>None</td>\n",
       "    </tr>\n",
       "    <tr>\n",
       "      <th>2</th>\n",
       "      <td>YNAESTERESQDtVAENDDGGFSEEWEAQR:NP_000012.1:t327</td>\n",
       "      <td>YNAESTERESQDtVAENDDGGFSEEWEAQR</td>\n",
       "      <td>NP_000012.1</td>\n",
       "      <td>T327</td>\n",
       "      <td>315</td>\n",
       "      <td>344</td>\n",
       "      <td>True</td>\n",
       "      <td>None</td>\n",
       "    </tr>\n",
       "    <tr>\n",
       "      <th>3</th>\n",
       "      <td>YNAESTERESQDtVAENDDGGFsEEWEAQR:NP_000012.1:t32...</td>\n",
       "      <td>YNAESTERESQDtVAENDDGGFsEEWEAQR</td>\n",
       "      <td>NP_000012.1</td>\n",
       "      <td>T327;S337</td>\n",
       "      <td>315</td>\n",
       "      <td>344</td>\n",
       "      <td>True</td>\n",
       "      <td>None</td>\n",
       "    </tr>\n",
       "    <tr>\n",
       "      <th>4</th>\n",
       "      <td>DSHLGPHRStPESR:NP_000012.1:t354</td>\n",
       "      <td>DSHLGPHRStPESR</td>\n",
       "      <td>NP_000012.1</td>\n",
       "      <td>T354</td>\n",
       "      <td>345</td>\n",
       "      <td>358</td>\n",
       "      <td>True</td>\n",
       "      <td>None</td>\n",
       "    </tr>\n",
       "  </tbody>\n",
       "</table>\n",
       "</div>"
      ],
      "text/plain": [
       "                                         original_id  \\\n",
       "0                 sLGHPEPLSNGRPQGNSR:NP_000012.1:s43   \n",
       "1                    VSKNSKYNAEStER:NP_000012.1:t320   \n",
       "2    YNAESTERESQDtVAENDDGGFSEEWEAQR:NP_000012.1:t327   \n",
       "3  YNAESTERESQDtVAENDDGGFsEEWEAQR:NP_000012.1:t32...   \n",
       "4                    DSHLGPHRStPESR:NP_000012.1:t354   \n",
       "\n",
       "                          peptide refseq_prot_id phosphosites  peptide_start  \\\n",
       "0              sLGHPEPLSNGRPQGNSR    NP_000012.1          S43             43   \n",
       "1                  VSKNSKYNAEStER    NP_000012.1         T320            309   \n",
       "2  YNAESTERESQDtVAENDDGGFSEEWEAQR    NP_000012.1         T327            315   \n",
       "3  YNAESTERESQDtVAENDDGGFsEEWEAQR    NP_000012.1    T327;S337            315   \n",
       "4                  DSHLGPHRStPESR    NP_000012.1         T354            345   \n",
       "\n",
       "   peptide_end  peptide_loc_valid peptide_loc_invalid_reason  \n",
       "0           60               True                       None  \n",
       "1          322               True                       None  \n",
       "2          344               True                       None  \n",
       "3          344               True                       None  \n",
       "4          358               True                       None  "
      ]
     },
     "execution_count": 19,
     "metadata": {},
     "output_type": "execute_result"
    }
   ],
   "source": [
    "out_df.head()"
   ]
  },
  {
   "cell_type": "code",
   "execution_count": null,
   "metadata": {},
   "outputs": [],
   "source": []
  }
 ],
 "metadata": {
  "kernelspec": {
   "display_name": "Python 3",
   "language": "python",
   "name": "python3"
  },
  "language_info": {
   "codemirror_mode": {
    "name": "ipython",
    "version": 3
   },
   "file_extension": ".py",
   "mimetype": "text/x-python",
   "name": "python",
   "nbconvert_exporter": "python",
   "pygments_lexer": "ipython3",
   "version": "3.8.3"
  }
 },
 "nbformat": 4,
 "nbformat_minor": 4
}
