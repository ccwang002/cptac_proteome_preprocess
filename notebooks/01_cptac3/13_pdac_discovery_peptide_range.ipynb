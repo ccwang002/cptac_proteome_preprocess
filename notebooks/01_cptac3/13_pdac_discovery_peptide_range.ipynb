{
 "cells": [
  {
   "cell_type": "code",
   "execution_count": 1,
   "metadata": {},
   "outputs": [],
   "source": [
    "from pathlib import Path\n",
    "import re\n",
    "\n",
    "from pysam import FastaFile\n",
    "import pandas as pd"
   ]
  },
  {
   "cell_type": "code",
   "execution_count": 2,
   "metadata": {},
   "outputs": [],
   "source": [
    "DATA_ROOT = Path('/Users/liang/Box/MyCPTAC/CPTAC_proteome_v3.0/')\n",
    "\n",
    "refseq_fasta_pth = DATA_ROOT / 'DCC/RefSeq_20180629/RefSeq.20180629_Human_ucsc_hg38_cpdbnr_mito_264contams.fasta.gz'\n",
    "\n",
    "phospho_pth = DATA_ROOT / 'CPTAC3/PDAC_discovery/phosphoproteomics_MultiSite_level_MD_abundance_tumor.cct.gz'"
   ]
  },
  {
   "cell_type": "code",
   "execution_count": 3,
   "metadata": {},
   "outputs": [],
   "source": [
    "protein_fa = FastaFile(str(refseq_fasta_pth))"
   ]
  },
  {
   "cell_type": "code",
   "execution_count": 4,
   "metadata": {},
   "outputs": [],
   "source": [
    "def calc_peptide_start_end(peptide, protein_id, sites):\n",
    "    # Make sure the peptide is part of the protein sequence\n",
    "    protein_seq = protein_fa.fetch(protein_id)\n",
    "    if not peptide.upper() in protein_seq:\n",
    "        return [None, None, False, 'Peptide not found in protein']\n",
    "    \n",
    "    first_res = sites[0][0].lower()\n",
    "    first_res_loc = int(sites[0][1:])\n",
    "    first_res_ix = peptide.find(first_res) \n",
    "    \n",
    "    peptide_start = first_res_loc - first_res_ix\n",
    "    peptide_end = first_res_loc + len(peptide) - first_res_ix - 1\n",
    "    if protein_seq[peptide_start - 1:peptide_end] != peptide.upper():\n",
    "        return [None, None, False, 'Invalid location']\n",
    "    return [peptide_start, peptide_end, True, None]"
   ]
  },
  {
   "cell_type": "markdown",
   "metadata": {},
   "source": [
    "## Phospho"
   ]
  },
  {
   "cell_type": "code",
   "execution_count": 5,
   "metadata": {},
   "outputs": [
    {
     "output_type": "execute_result",
     "data": {
      "text/plain": [
       "Index(['Index', 'Gene', 'Peptide', 'C3N-03884', 'C3L-03123', 'C3L-01687',\n",
       "       'C3L-00589', 'C3L-00599', 'C3L-01054', 'C3L-03356',\n",
       "       ...\n",
       "       'C3N-01375', 'C3N-01381', 'C3L-00401', 'C3L-02118', 'C3N-00511',\n",
       "       'C3L-02613', 'C3N-00512', 'C3L-02899', 'C3N-03006', 'C3N-03069'],\n",
       "      dtype='object', length=143)"
      ]
     },
     "metadata": {},
     "execution_count": 5
    }
   ],
   "source": [
    "raw_phospho_df = pd.read_table(phospho_pth)\n",
    "raw_phospho_df.columns"
   ]
  },
  {
   "cell_type": "code",
   "execution_count": 6,
   "metadata": {},
   "outputs": [],
   "source": [
    "parsed_index_df = raw_phospho_df['Index'].str.split('_', expand=True)\n",
    "raw_phospho_df['refseq_prot_id'] = parsed_index_df[0] + '_' + parsed_index_df[1]\n",
    "raw_phospho_df['phosphosites'] = parsed_index_df.iloc[:, -1].str.findall(r'[A-Z]\\d+')"
   ]
  },
  {
   "cell_type": "code",
   "execution_count": 7,
   "metadata": {},
   "outputs": [
    {
     "output_type": "execute_result",
     "data": {
      "text/plain": [
       "                          Index    Gene                 Peptide  C3N-03884  \\\n",
       "0       NP_000005.2_240_256_2_0     A2M   IITILEEEMNVSVCGLYTYGK        NaN   \n",
       "1  NP_000005.2_914_932_1_1_S928     A2M  ETTFNSLLCPSGGEVsEELSLK        NaN   \n",
       "2  NP_000009.1_485_489_1_1_S489  ACADVL              ELSGLGsALK  13.842216   \n",
       "3  NP_000010.1_167_170_1_1_Y170   ACAT1               GSTPyGGVK        NaN   \n",
       "4  NP_000011.2_155_161_1_1_S160  ACVRL1          GLHSELGEsSLILK        NaN   \n",
       "\n",
       "   C3L-03123  C3L-01687  C3L-00589  C3L-00599  C3L-01054  C3L-03356  ...  \\\n",
       "0        NaN        NaN        NaN        NaN        NaN        NaN  ...   \n",
       "1        NaN        NaN        NaN        NaN        NaN        NaN  ...   \n",
       "2  13.643395  14.259207  13.972216    13.8341        NaN        NaN  ...   \n",
       "3        NaN        NaN        NaN        NaN        NaN        NaN  ...   \n",
       "4        NaN        NaN        NaN        NaN        NaN        NaN  ...   \n",
       "\n",
       "   C3L-00401  C3L-02118  C3N-00511  C3L-02613  C3N-00512  C3L-02899  \\\n",
       "0        NaN        NaN        NaN        NaN        NaN        NaN   \n",
       "1        NaN        NaN        NaN        NaN        NaN        NaN   \n",
       "2        NaN        NaN        NaN        NaN        NaN        NaN   \n",
       "3        NaN        NaN        NaN        NaN        NaN        NaN   \n",
       "4        NaN        NaN  18.011339  18.828547  18.324068  18.500011   \n",
       "\n",
       "   C3N-03006  C3N-03069  refseq_prot_id  phosphosites  \n",
       "0        NaN        NaN     NP_000005.2          None  \n",
       "1        NaN        NaN     NP_000005.2        [S928]  \n",
       "2        NaN        NaN     NP_000009.1        [S489]  \n",
       "3        NaN        NaN     NP_000010.1        [Y170]  \n",
       "4   18.10603  18.594276     NP_000011.2        [S160]  \n",
       "\n",
       "[5 rows x 145 columns]"
      ],
      "text/html": "<div>\n<style scoped>\n    .dataframe tbody tr th:only-of-type {\n        vertical-align: middle;\n    }\n\n    .dataframe tbody tr th {\n        vertical-align: top;\n    }\n\n    .dataframe thead th {\n        text-align: right;\n    }\n</style>\n<table border=\"1\" class=\"dataframe\">\n  <thead>\n    <tr style=\"text-align: right;\">\n      <th></th>\n      <th>Index</th>\n      <th>Gene</th>\n      <th>Peptide</th>\n      <th>C3N-03884</th>\n      <th>C3L-03123</th>\n      <th>C3L-01687</th>\n      <th>C3L-00589</th>\n      <th>C3L-00599</th>\n      <th>C3L-01054</th>\n      <th>C3L-03356</th>\n      <th>...</th>\n      <th>C3L-00401</th>\n      <th>C3L-02118</th>\n      <th>C3N-00511</th>\n      <th>C3L-02613</th>\n      <th>C3N-00512</th>\n      <th>C3L-02899</th>\n      <th>C3N-03006</th>\n      <th>C3N-03069</th>\n      <th>refseq_prot_id</th>\n      <th>phosphosites</th>\n    </tr>\n  </thead>\n  <tbody>\n    <tr>\n      <th>0</th>\n      <td>NP_000005.2_240_256_2_0</td>\n      <td>A2M</td>\n      <td>IITILEEEMNVSVCGLYTYGK</td>\n      <td>NaN</td>\n      <td>NaN</td>\n      <td>NaN</td>\n      <td>NaN</td>\n      <td>NaN</td>\n      <td>NaN</td>\n      <td>NaN</td>\n      <td>...</td>\n      <td>NaN</td>\n      <td>NaN</td>\n      <td>NaN</td>\n      <td>NaN</td>\n      <td>NaN</td>\n      <td>NaN</td>\n      <td>NaN</td>\n      <td>NaN</td>\n      <td>NP_000005.2</td>\n      <td>None</td>\n    </tr>\n    <tr>\n      <th>1</th>\n      <td>NP_000005.2_914_932_1_1_S928</td>\n      <td>A2M</td>\n      <td>ETTFNSLLCPSGGEVsEELSLK</td>\n      <td>NaN</td>\n      <td>NaN</td>\n      <td>NaN</td>\n      <td>NaN</td>\n      <td>NaN</td>\n      <td>NaN</td>\n      <td>NaN</td>\n      <td>...</td>\n      <td>NaN</td>\n      <td>NaN</td>\n      <td>NaN</td>\n      <td>NaN</td>\n      <td>NaN</td>\n      <td>NaN</td>\n      <td>NaN</td>\n      <td>NaN</td>\n      <td>NP_000005.2</td>\n      <td>[S928]</td>\n    </tr>\n    <tr>\n      <th>2</th>\n      <td>NP_000009.1_485_489_1_1_S489</td>\n      <td>ACADVL</td>\n      <td>ELSGLGsALK</td>\n      <td>13.842216</td>\n      <td>13.643395</td>\n      <td>14.259207</td>\n      <td>13.972216</td>\n      <td>13.8341</td>\n      <td>NaN</td>\n      <td>NaN</td>\n      <td>...</td>\n      <td>NaN</td>\n      <td>NaN</td>\n      <td>NaN</td>\n      <td>NaN</td>\n      <td>NaN</td>\n      <td>NaN</td>\n      <td>NaN</td>\n      <td>NaN</td>\n      <td>NP_000009.1</td>\n      <td>[S489]</td>\n    </tr>\n    <tr>\n      <th>3</th>\n      <td>NP_000010.1_167_170_1_1_Y170</td>\n      <td>ACAT1</td>\n      <td>GSTPyGGVK</td>\n      <td>NaN</td>\n      <td>NaN</td>\n      <td>NaN</td>\n      <td>NaN</td>\n      <td>NaN</td>\n      <td>NaN</td>\n      <td>NaN</td>\n      <td>...</td>\n      <td>NaN</td>\n      <td>NaN</td>\n      <td>NaN</td>\n      <td>NaN</td>\n      <td>NaN</td>\n      <td>NaN</td>\n      <td>NaN</td>\n      <td>NaN</td>\n      <td>NP_000010.1</td>\n      <td>[Y170]</td>\n    </tr>\n    <tr>\n      <th>4</th>\n      <td>NP_000011.2_155_161_1_1_S160</td>\n      <td>ACVRL1</td>\n      <td>GLHSELGEsSLILK</td>\n      <td>NaN</td>\n      <td>NaN</td>\n      <td>NaN</td>\n      <td>NaN</td>\n      <td>NaN</td>\n      <td>NaN</td>\n      <td>NaN</td>\n      <td>...</td>\n      <td>NaN</td>\n      <td>NaN</td>\n      <td>18.011339</td>\n      <td>18.828547</td>\n      <td>18.324068</td>\n      <td>18.500011</td>\n      <td>18.10603</td>\n      <td>18.594276</td>\n      <td>NP_000011.2</td>\n      <td>[S160]</td>\n    </tr>\n  </tbody>\n</table>\n<p>5 rows × 145 columns</p>\n</div>"
     },
     "metadata": {},
     "execution_count": 7
    }
   ],
   "source": [
    "raw_phospho_df.head()"
   ]
  },
  {
   "cell_type": "code",
   "execution_count": 8,
   "metadata": {},
   "outputs": [
    {
     "output_type": "execute_result",
     "data": {
      "text/plain": [
       "                         original_id    Gene refseq_prot_id  \\\n",
       "1       NP_000005.2_914_932_1_1_S928     A2M    NP_000005.2   \n",
       "2       NP_000009.1_485_489_1_1_S489  ACADVL    NP_000009.1   \n",
       "3       NP_000010.1_167_170_1_1_Y170   ACAT1    NP_000010.1   \n",
       "4       NP_000011.2_155_161_1_1_S160  ACVRL1    NP_000011.2   \n",
       "5       NP_000011.2_155_161_1_1_S161  ACVRL1    NP_000011.2   \n",
       "6       NP_000011.2_493_495_1_1_S495  ACVRL1    NP_000011.2   \n",
       "8       NP_000012.1_365_367_1_1_S366   PSEN1    NP_000012.1   \n",
       "9       NP_000012.1_365_367_1_1_S367   PSEN1    NP_000012.1   \n",
       "10  NP_000012.1_365_367_2_2_S366S367   PSEN1    NP_000012.1   \n",
       "12         NP_000012.1_43_59_1_1_S43   PSEN1    NP_000012.1   \n",
       "\n",
       "                   peptide  phosphosites  \n",
       "1   ETTFNSLLCPSGGEVsEELSLK        [S928]  \n",
       "2               ELSGLGsALK        [S489]  \n",
       "3                GSTPyGGVK        [Y170]  \n",
       "4           GLHSELGEsSLILK        [S160]  \n",
       "5           GLHSELGESsLILK        [S161]  \n",
       "6                ISNsPEKPK        [S495]  \n",
       "8      AAVQELSsSILAGEDPEER        [S366]  \n",
       "9      AAVQELSSsILAGEDPEER        [S367]  \n",
       "10     AAVQELSssILAGEDPEER  [S366, S367]  \n",
       "12      sLGHPEPLSNGRPQGNSR         [S43]  "
      ],
      "text/html": "<div>\n<style scoped>\n    .dataframe tbody tr th:only-of-type {\n        vertical-align: middle;\n    }\n\n    .dataframe tbody tr th {\n        vertical-align: top;\n    }\n\n    .dataframe thead th {\n        text-align: right;\n    }\n</style>\n<table border=\"1\" class=\"dataframe\">\n  <thead>\n    <tr style=\"text-align: right;\">\n      <th></th>\n      <th>original_id</th>\n      <th>Gene</th>\n      <th>refseq_prot_id</th>\n      <th>peptide</th>\n      <th>phosphosites</th>\n    </tr>\n  </thead>\n  <tbody>\n    <tr>\n      <th>1</th>\n      <td>NP_000005.2_914_932_1_1_S928</td>\n      <td>A2M</td>\n      <td>NP_000005.2</td>\n      <td>ETTFNSLLCPSGGEVsEELSLK</td>\n      <td>[S928]</td>\n    </tr>\n    <tr>\n      <th>2</th>\n      <td>NP_000009.1_485_489_1_1_S489</td>\n      <td>ACADVL</td>\n      <td>NP_000009.1</td>\n      <td>ELSGLGsALK</td>\n      <td>[S489]</td>\n    </tr>\n    <tr>\n      <th>3</th>\n      <td>NP_000010.1_167_170_1_1_Y170</td>\n      <td>ACAT1</td>\n      <td>NP_000010.1</td>\n      <td>GSTPyGGVK</td>\n      <td>[Y170]</td>\n    </tr>\n    <tr>\n      <th>4</th>\n      <td>NP_000011.2_155_161_1_1_S160</td>\n      <td>ACVRL1</td>\n      <td>NP_000011.2</td>\n      <td>GLHSELGEsSLILK</td>\n      <td>[S160]</td>\n    </tr>\n    <tr>\n      <th>5</th>\n      <td>NP_000011.2_155_161_1_1_S161</td>\n      <td>ACVRL1</td>\n      <td>NP_000011.2</td>\n      <td>GLHSELGESsLILK</td>\n      <td>[S161]</td>\n    </tr>\n    <tr>\n      <th>6</th>\n      <td>NP_000011.2_493_495_1_1_S495</td>\n      <td>ACVRL1</td>\n      <td>NP_000011.2</td>\n      <td>ISNsPEKPK</td>\n      <td>[S495]</td>\n    </tr>\n    <tr>\n      <th>8</th>\n      <td>NP_000012.1_365_367_1_1_S366</td>\n      <td>PSEN1</td>\n      <td>NP_000012.1</td>\n      <td>AAVQELSsSILAGEDPEER</td>\n      <td>[S366]</td>\n    </tr>\n    <tr>\n      <th>9</th>\n      <td>NP_000012.1_365_367_1_1_S367</td>\n      <td>PSEN1</td>\n      <td>NP_000012.1</td>\n      <td>AAVQELSSsILAGEDPEER</td>\n      <td>[S367]</td>\n    </tr>\n    <tr>\n      <th>10</th>\n      <td>NP_000012.1_365_367_2_2_S366S367</td>\n      <td>PSEN1</td>\n      <td>NP_000012.1</td>\n      <td>AAVQELSssILAGEDPEER</td>\n      <td>[S366, S367]</td>\n    </tr>\n    <tr>\n      <th>12</th>\n      <td>NP_000012.1_43_59_1_1_S43</td>\n      <td>PSEN1</td>\n      <td>NP_000012.1</td>\n      <td>sLGHPEPLSNGRPQGNSR</td>\n      <td>[S43]</td>\n    </tr>\n  </tbody>\n</table>\n</div>"
     },
     "metadata": {},
     "execution_count": 8
    }
   ],
   "source": [
    "peptide_df = raw_phospho_df.loc[\n",
    "    # Filter peptides that don't have any phosphosites\n",
    "    ~raw_phospho_df.phosphosites.isnull(),\n",
    "    ['Index', 'Gene', 'refseq_prot_id', 'Peptide', 'phosphosites']]\n",
    "peptide_df = peptide_df.rename(columns = {'Index': 'original_id', 'Peptide': 'peptide'})\n",
    "peptide_df.head(10)"
   ]
  },
  {
   "cell_type": "code",
   "execution_count": 9,
   "metadata": {},
   "outputs": [
    {
     "output_type": "execute_result",
     "data": {
      "text/plain": [
       "S    68096\n",
       "T    10581\n",
       "Y     1170\n",
       "Name: phosphosites, dtype: int64"
      ]
     },
     "metadata": {},
     "execution_count": 9
    }
   ],
   "source": [
    "# Check what residues are modified\n",
    "peptide_df['phosphosites'].explode().apply(lambda x: x[0]).value_counts()"
   ]
  },
  {
   "cell_type": "code",
   "execution_count": 10,
   "metadata": {},
   "outputs": [],
   "source": [
    "# Keep only STY that are phosphosites\n",
    "peptide_df['phosphosites'] = peptide_df['phosphosites'].apply(\n",
    "    lambda l: [x for x in l if x[0] in 'STY']\n",
    ")"
   ]
  },
  {
   "cell_type": "code",
   "execution_count": 11,
   "metadata": {},
   "outputs": [],
   "source": [
    "# Calculate the peptide location\n",
    "peptide_loc_range_df = pd.DataFrame(\n",
    "    map(calc_peptide_start_end, \n",
    "        peptide_df.peptide, peptide_df.refseq_prot_id, peptide_df.phosphosites),\n",
    "    index=peptide_df.index,\n",
    "    columns=['peptide_start', 'peptide_end', 'peptide_loc_valid', 'peptide_loc_invalid_reason'],\n",
    ").astype({\n",
    "    'peptide_start': pd.Int64Dtype(),\n",
    "    'peptide_end': pd.Int64Dtype(),\n",
    "})"
   ]
  },
  {
   "cell_type": "code",
   "execution_count": 12,
   "metadata": {},
   "outputs": [
    {
     "output_type": "execute_result",
     "data": {
      "text/plain": [
       "       refseq_prot_id  phosphosites          peptide  \\\n",
       "18507  NP_001159477.1          [S1]          sQEELKK   \n",
       "28180  NP_001269877.1          [S1]         sPPPETLK   \n",
       "30761  NP_001278928.1          [T2]          DtLGLGK   \n",
       "33548  NP_001299602.1          [S6]         MLQALsPK   \n",
       "33773  NP_001304028.1          [S3]        GAsDEDLKK   \n",
       "34757  NP_001307374.1          [S1]          sSLLNAK   \n",
       "34758  NP_001307374.1          [S2]          SsLLNAK   \n",
       "35282  NP_001308037.1          [S6]     IPIVRsFADIGK   \n",
       "35434  NP_001308400.1  [S1, S3, S5]         sRsRsISR   \n",
       "35760  NP_001308849.1          [S3]          APsLQAK   \n",
       "45706     NP_003119.2          [S3]          RFsIFGK   \n",
       "46446     NP_003463.1          [S1]          sILVEGK   \n",
       "47827     NP_003904.3      [S4, S5]          RRIssPR   \n",
       "48233     NP_004136.2          [S3]         LQsIKEEK   \n",
       "50463     NP_004915.2         [S10]    ISNRPAFMPsEGK   \n",
       "50468     NP_004915.2          [S4]  LRIsNRPAFMPSEGK   \n",
       "50485     NP_004923.1          [S6]      EPLILsKEDIR   \n",
       "50486     NP_004923.1          [S7]         KEPLILsK   \n",
       "50490     NP_004923.1          [S8]        KKEPLILsK   \n",
       "50817     NP_005079.2          [S3]         ILsILLSK   \n",
       "56997     NP_008841.2          [S2]          IsSDLTR   \n",
       "73220     NP_067643.3          [S4]          QSPsPIR   \n",
       "74925     NP_075447.1          [S2]          GsIDLQK   \n",
       "78115     NP_116569.1          [S1]          sAGGLIR   \n",
       "79097     NP_443137.2          [S1]          sLEDIHR   \n",
       "81310     NP_683692.2          [S3]          KIsVLGK   \n",
       "82236     NP_733779.1          [T1]          tPEELRK   \n",
       "\n",
       "         peptide_loc_invalid_reason  \n",
       "18507  Peptide not found in protein  \n",
       "28180  Peptide not found in protein  \n",
       "30761  Peptide not found in protein  \n",
       "33548  Peptide not found in protein  \n",
       "33773  Peptide not found in protein  \n",
       "34757  Peptide not found in protein  \n",
       "34758  Peptide not found in protein  \n",
       "35282  Peptide not found in protein  \n",
       "35434  Peptide not found in protein  \n",
       "35760  Peptide not found in protein  \n",
       "45706  Peptide not found in protein  \n",
       "46446  Peptide not found in protein  \n",
       "47827  Peptide not found in protein  \n",
       "48233  Peptide not found in protein  \n",
       "50463  Peptide not found in protein  \n",
       "50468  Peptide not found in protein  \n",
       "50485  Peptide not found in protein  \n",
       "50486  Peptide not found in protein  \n",
       "50490  Peptide not found in protein  \n",
       "50817  Peptide not found in protein  \n",
       "56997  Peptide not found in protein  \n",
       "73220  Peptide not found in protein  \n",
       "74925  Peptide not found in protein  \n",
       "78115  Peptide not found in protein  \n",
       "79097  Peptide not found in protein  \n",
       "81310  Peptide not found in protein  \n",
       "82236  Peptide not found in protein  "
      ],
      "text/html": "<div>\n<style scoped>\n    .dataframe tbody tr th:only-of-type {\n        vertical-align: middle;\n    }\n\n    .dataframe tbody tr th {\n        vertical-align: top;\n    }\n\n    .dataframe thead th {\n        text-align: right;\n    }\n</style>\n<table border=\"1\" class=\"dataframe\">\n  <thead>\n    <tr style=\"text-align: right;\">\n      <th></th>\n      <th>refseq_prot_id</th>\n      <th>phosphosites</th>\n      <th>peptide</th>\n      <th>peptide_loc_invalid_reason</th>\n    </tr>\n  </thead>\n  <tbody>\n    <tr>\n      <th>18507</th>\n      <td>NP_001159477.1</td>\n      <td>[S1]</td>\n      <td>sQEELKK</td>\n      <td>Peptide not found in protein</td>\n    </tr>\n    <tr>\n      <th>28180</th>\n      <td>NP_001269877.1</td>\n      <td>[S1]</td>\n      <td>sPPPETLK</td>\n      <td>Peptide not found in protein</td>\n    </tr>\n    <tr>\n      <th>30761</th>\n      <td>NP_001278928.1</td>\n      <td>[T2]</td>\n      <td>DtLGLGK</td>\n      <td>Peptide not found in protein</td>\n    </tr>\n    <tr>\n      <th>33548</th>\n      <td>NP_001299602.1</td>\n      <td>[S6]</td>\n      <td>MLQALsPK</td>\n      <td>Peptide not found in protein</td>\n    </tr>\n    <tr>\n      <th>33773</th>\n      <td>NP_001304028.1</td>\n      <td>[S3]</td>\n      <td>GAsDEDLKK</td>\n      <td>Peptide not found in protein</td>\n    </tr>\n    <tr>\n      <th>34757</th>\n      <td>NP_001307374.1</td>\n      <td>[S1]</td>\n      <td>sSLLNAK</td>\n      <td>Peptide not found in protein</td>\n    </tr>\n    <tr>\n      <th>34758</th>\n      <td>NP_001307374.1</td>\n      <td>[S2]</td>\n      <td>SsLLNAK</td>\n      <td>Peptide not found in protein</td>\n    </tr>\n    <tr>\n      <th>35282</th>\n      <td>NP_001308037.1</td>\n      <td>[S6]</td>\n      <td>IPIVRsFADIGK</td>\n      <td>Peptide not found in protein</td>\n    </tr>\n    <tr>\n      <th>35434</th>\n      <td>NP_001308400.1</td>\n      <td>[S1, S3, S5]</td>\n      <td>sRsRsISR</td>\n      <td>Peptide not found in protein</td>\n    </tr>\n    <tr>\n      <th>35760</th>\n      <td>NP_001308849.1</td>\n      <td>[S3]</td>\n      <td>APsLQAK</td>\n      <td>Peptide not found in protein</td>\n    </tr>\n    <tr>\n      <th>45706</th>\n      <td>NP_003119.2</td>\n      <td>[S3]</td>\n      <td>RFsIFGK</td>\n      <td>Peptide not found in protein</td>\n    </tr>\n    <tr>\n      <th>46446</th>\n      <td>NP_003463.1</td>\n      <td>[S1]</td>\n      <td>sILVEGK</td>\n      <td>Peptide not found in protein</td>\n    </tr>\n    <tr>\n      <th>47827</th>\n      <td>NP_003904.3</td>\n      <td>[S4, S5]</td>\n      <td>RRIssPR</td>\n      <td>Peptide not found in protein</td>\n    </tr>\n    <tr>\n      <th>48233</th>\n      <td>NP_004136.2</td>\n      <td>[S3]</td>\n      <td>LQsIKEEK</td>\n      <td>Peptide not found in protein</td>\n    </tr>\n    <tr>\n      <th>50463</th>\n      <td>NP_004915.2</td>\n      <td>[S10]</td>\n      <td>ISNRPAFMPsEGK</td>\n      <td>Peptide not found in protein</td>\n    </tr>\n    <tr>\n      <th>50468</th>\n      <td>NP_004915.2</td>\n      <td>[S4]</td>\n      <td>LRIsNRPAFMPSEGK</td>\n      <td>Peptide not found in protein</td>\n    </tr>\n    <tr>\n      <th>50485</th>\n      <td>NP_004923.1</td>\n      <td>[S6]</td>\n      <td>EPLILsKEDIR</td>\n      <td>Peptide not found in protein</td>\n    </tr>\n    <tr>\n      <th>50486</th>\n      <td>NP_004923.1</td>\n      <td>[S7]</td>\n      <td>KEPLILsK</td>\n      <td>Peptide not found in protein</td>\n    </tr>\n    <tr>\n      <th>50490</th>\n      <td>NP_004923.1</td>\n      <td>[S8]</td>\n      <td>KKEPLILsK</td>\n      <td>Peptide not found in protein</td>\n    </tr>\n    <tr>\n      <th>50817</th>\n      <td>NP_005079.2</td>\n      <td>[S3]</td>\n      <td>ILsILLSK</td>\n      <td>Peptide not found in protein</td>\n    </tr>\n    <tr>\n      <th>56997</th>\n      <td>NP_008841.2</td>\n      <td>[S2]</td>\n      <td>IsSDLTR</td>\n      <td>Peptide not found in protein</td>\n    </tr>\n    <tr>\n      <th>73220</th>\n      <td>NP_067643.3</td>\n      <td>[S4]</td>\n      <td>QSPsPIR</td>\n      <td>Peptide not found in protein</td>\n    </tr>\n    <tr>\n      <th>74925</th>\n      <td>NP_075447.1</td>\n      <td>[S2]</td>\n      <td>GsIDLQK</td>\n      <td>Peptide not found in protein</td>\n    </tr>\n    <tr>\n      <th>78115</th>\n      <td>NP_116569.1</td>\n      <td>[S1]</td>\n      <td>sAGGLIR</td>\n      <td>Peptide not found in protein</td>\n    </tr>\n    <tr>\n      <th>79097</th>\n      <td>NP_443137.2</td>\n      <td>[S1]</td>\n      <td>sLEDIHR</td>\n      <td>Peptide not found in protein</td>\n    </tr>\n    <tr>\n      <th>81310</th>\n      <td>NP_683692.2</td>\n      <td>[S3]</td>\n      <td>KIsVLGK</td>\n      <td>Peptide not found in protein</td>\n    </tr>\n    <tr>\n      <th>82236</th>\n      <td>NP_733779.1</td>\n      <td>[T1]</td>\n      <td>tPEELRK</td>\n      <td>Peptide not found in protein</td>\n    </tr>\n  </tbody>\n</table>\n</div>"
     },
     "metadata": {},
     "execution_count": 12
    }
   ],
   "source": [
    "# Combine the location and peptide information\n",
    "peptide_with_loc_df = pd.concat([peptide_df, peptide_loc_range_df], axis=1)\n",
    "# List all the invalid peptides\n",
    "peptide_with_loc_df.loc[\n",
    "    ~peptide_loc_range_df['peptide_loc_valid'],\n",
    "    ['refseq_prot_id', 'phosphosites', 'peptide', 'peptide_loc_invalid_reason']\n",
    "]"
   ]
  },
  {
   "cell_type": "code",
   "execution_count": 13,
   "metadata": {},
   "outputs": [],
   "source": [
    "out_df = peptide_with_loc_df.loc[\n",
    "    :,\n",
    "    ['original_id', 'refseq_prot_id', 'peptide', 'phosphosites', 'peptide_start', 'peptide_end', 'peptide_loc_valid', 'peptide_loc_invalid_reason']\n",
    "]\n",
    "out_df['phosphosites'] = out_df['phosphosites'].str.join(';')\n",
    "out_df.to_csv(\n",
    "    phospho_pth.with_suffix('.peptide_location.tsv.gz'),\n",
    "    sep='\\t',\n",
    "    index=False\n",
    ")"
   ]
  },
  {
   "cell_type": "code",
   "execution_count": 14,
   "metadata": {},
   "outputs": [
    {
     "output_type": "execute_result",
     "data": {
      "text/plain": [
       "                    original_id refseq_prot_id                 peptide  \\\n",
       "1  NP_000005.2_914_932_1_1_S928    NP_000005.2  ETTFNSLLCPSGGEVsEELSLK   \n",
       "2  NP_000009.1_485_489_1_1_S489    NP_000009.1              ELSGLGsALK   \n",
       "3  NP_000010.1_167_170_1_1_Y170    NP_000010.1               GSTPyGGVK   \n",
       "4  NP_000011.2_155_161_1_1_S160    NP_000011.2          GLHSELGEsSLILK   \n",
       "5  NP_000011.2_155_161_1_1_S161    NP_000011.2          GLHSELGESsLILK   \n",
       "\n",
       "  phosphosites  peptide_start  peptide_end  peptide_loc_valid  \\\n",
       "1         S928            913          934               True   \n",
       "2         S489            483          492               True   \n",
       "3         Y170            166          174               True   \n",
       "4         S160            152          165               True   \n",
       "5         S161            152          165               True   \n",
       "\n",
       "  peptide_loc_invalid_reason  \n",
       "1                       None  \n",
       "2                       None  \n",
       "3                       None  \n",
       "4                       None  \n",
       "5                       None  "
      ],
      "text/html": "<div>\n<style scoped>\n    .dataframe tbody tr th:only-of-type {\n        vertical-align: middle;\n    }\n\n    .dataframe tbody tr th {\n        vertical-align: top;\n    }\n\n    .dataframe thead th {\n        text-align: right;\n    }\n</style>\n<table border=\"1\" class=\"dataframe\">\n  <thead>\n    <tr style=\"text-align: right;\">\n      <th></th>\n      <th>original_id</th>\n      <th>refseq_prot_id</th>\n      <th>peptide</th>\n      <th>phosphosites</th>\n      <th>peptide_start</th>\n      <th>peptide_end</th>\n      <th>peptide_loc_valid</th>\n      <th>peptide_loc_invalid_reason</th>\n    </tr>\n  </thead>\n  <tbody>\n    <tr>\n      <th>1</th>\n      <td>NP_000005.2_914_932_1_1_S928</td>\n      <td>NP_000005.2</td>\n      <td>ETTFNSLLCPSGGEVsEELSLK</td>\n      <td>S928</td>\n      <td>913</td>\n      <td>934</td>\n      <td>True</td>\n      <td>None</td>\n    </tr>\n    <tr>\n      <th>2</th>\n      <td>NP_000009.1_485_489_1_1_S489</td>\n      <td>NP_000009.1</td>\n      <td>ELSGLGsALK</td>\n      <td>S489</td>\n      <td>483</td>\n      <td>492</td>\n      <td>True</td>\n      <td>None</td>\n    </tr>\n    <tr>\n      <th>3</th>\n      <td>NP_000010.1_167_170_1_1_Y170</td>\n      <td>NP_000010.1</td>\n      <td>GSTPyGGVK</td>\n      <td>Y170</td>\n      <td>166</td>\n      <td>174</td>\n      <td>True</td>\n      <td>None</td>\n    </tr>\n    <tr>\n      <th>4</th>\n      <td>NP_000011.2_155_161_1_1_S160</td>\n      <td>NP_000011.2</td>\n      <td>GLHSELGEsSLILK</td>\n      <td>S160</td>\n      <td>152</td>\n      <td>165</td>\n      <td>True</td>\n      <td>None</td>\n    </tr>\n    <tr>\n      <th>5</th>\n      <td>NP_000011.2_155_161_1_1_S161</td>\n      <td>NP_000011.2</td>\n      <td>GLHSELGESsLILK</td>\n      <td>S161</td>\n      <td>152</td>\n      <td>165</td>\n      <td>True</td>\n      <td>None</td>\n    </tr>\n  </tbody>\n</table>\n</div>"
     },
     "metadata": {},
     "execution_count": 14
    }
   ],
   "source": [
    "out_df.head()"
   ]
  },
  {
   "cell_type": "code",
   "execution_count": null,
   "metadata": {},
   "outputs": [],
   "source": []
  }
 ],
 "metadata": {
  "kernelspec": {
   "name": "python3",
   "display_name": "Python 3.8.3 64-bit ('cptac': conda)"
  },
  "language_info": {
   "codemirror_mode": {
    "name": "ipython",
    "version": 3
   },
   "file_extension": ".py",
   "mimetype": "text/x-python",
   "name": "python",
   "nbconvert_exporter": "python",
   "pygments_lexer": "ipython3",
   "version": "3.8.3"
  },
  "interpreter": {
   "hash": "ad0c00ad63891de2cdf996d1b2ec53c4391ca28417984dfada5247c5a79653b6"
  }
 },
 "nbformat": 4,
 "nbformat_minor": 4
}