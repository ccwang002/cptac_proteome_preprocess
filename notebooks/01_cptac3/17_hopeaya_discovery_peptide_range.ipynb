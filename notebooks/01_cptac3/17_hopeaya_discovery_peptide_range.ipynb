{
 "cells": [
  {
   "cell_type": "code",
   "execution_count": 1,
   "metadata": {},
   "outputs": [],
   "source": [
    "from pathlib import Path\n",
    "import re\n",
    "\n",
    "from pysam import FastaFile\n",
    "import pandas as pd"
   ]
  },
  {
   "cell_type": "code",
   "execution_count": 2,
   "metadata": {},
   "outputs": [],
   "source": [
    "DATA_ROOT = Path('/Users/liang/Box/MyCPTAC/CPTAC_proteome_v3.1/')\n",
    "\n",
    "refseq_fasta_pth = DATA_ROOT / 'DCC/RefSeq_20180629/RefSeq.20180629_Human_ucsc_hg38_cpdbnr_mito_264contams.fasta.gz'\n",
    "\n",
    "phospho_pth = DATA_ROOT / 'CPTAC3/HOPEAYA_discovery/cptac_hope_aya_mssm_phospho_d6_clean.tsv.gz'"
   ]
  },
  {
   "cell_type": "code",
   "execution_count": 3,
   "metadata": {},
   "outputs": [],
   "source": [
    "protein_fa = FastaFile(str(refseq_fasta_pth))"
   ]
  },
  {
   "cell_type": "code",
   "execution_count": 4,
   "metadata": {},
   "outputs": [],
   "source": [
    "def calc_peptide_start_end(peptide, protein_id, sites):\n",
    "    # Make sure the peptide is part of the protein sequence\n",
    "    protein_seq = protein_fa.fetch(protein_id)\n",
    "    if not peptide.upper() in protein_seq:\n",
    "        return [None, None, False, 'Peptide not found in protein']\n",
    "    \n",
    "    first_res = sites[0][0].lower()\n",
    "    first_res_loc = int(sites[0][1:])\n",
    "    first_res_ix = peptide.find(first_res) \n",
    "    \n",
    "    peptide_start = first_res_loc - first_res_ix\n",
    "    peptide_end = first_res_loc + len(peptide) - first_res_ix - 1\n",
    "    if protein_seq[peptide_start - 1:peptide_end] != peptide.upper():\n",
    "        return [None, None, False, 'Invalid location']\n",
    "    return [peptide_start, peptide_end, True, None]"
   ]
  },
  {
   "cell_type": "markdown",
   "metadata": {},
   "source": [
    "## Phospho"
   ]
  },
  {
   "cell_type": "code",
   "execution_count": 5,
   "metadata": {},
   "outputs": [
    {
     "output_type": "execute_result",
     "data": {
      "text/plain": [
       "Index(['site', 'gene', 'refseq_id', 'peptide', '7316-288-TISS [894482]',\n",
       "       '7316-2660-TISS [894444]...2', '7316-89-TISS [894435]',\n",
       "       '7316-2536-TISS [894447]', '7316-2176-TISS [894450]',\n",
       "       '7316UP-904-TISS [900638]',\n",
       "       ...\n",
       "       '7316-3935-TISS [894427]', '7316-204-TISS [894456]',\n",
       "       '7316-2146-TISS [894407]', '7316-2594-TISS [862600]',\n",
       "       '7316-3303-TISS [894406]', '7316-1106-TISS [894468]',\n",
       "       '7316-2751-TISS [894442]', '7316-287-TISS [894483]',\n",
       "       '7316-1763-TISS [894464]', '7316-1455-TISS [894467]'],\n",
       "      dtype='object', length=104)"
      ]
     },
     "metadata": {},
     "execution_count": 5
    }
   ],
   "source": [
    "raw_phospho_df = pd.read_table(phospho_pth)\n",
    "raw_phospho_df.columns"
   ]
  },
  {
   "cell_type": "code",
   "execution_count": 6,
   "metadata": {},
   "outputs": [
    {
     "output_type": "execute_result",
     "data": {
      "text/plain": [
       "          site   gene    refseq_id  \\\n",
       "0   AAAS-S541s   AAAS  NP_056480.1   \n",
       "1   AAAS-S495s   AAAS  NP_056480.1   \n",
       "2   AAAS-S495s   AAAS  NP_056480.1   \n",
       "3   AAED1-S12s  AAED1  NP_714542.1   \n",
       "4  AAGAB-S311s  AAGAB  NP_078942.3   \n",
       "\n",
       "                                           peptide  7316-288-TISS [894482]  \\\n",
       "0  AQEPPAGGGGSIHDLPLFTETSPTSAPWDPLPGPPPVLPHS*PHSHL                0.678000   \n",
       "1                                         FS*PVLGR               -0.276214   \n",
       "2                          IAHIPLYFVNAQFPRFS*PVLGR                     NaN   \n",
       "3              QVS*GAAALVPAPSGPDSGQPLAAAVAELPVLDAR                     NaN   \n",
       "4                          AFWMAIGGDRDEIEGLSS*DEEH                     NaN   \n",
       "\n",
       "   7316-2660-TISS [894444]...2  7316-89-TISS [894435]  \\\n",
       "0                     0.926000                1.31000   \n",
       "1                    -0.557244               -1.48755   \n",
       "2                          NaN                    NaN   \n",
       "3                          NaN                    NaN   \n",
       "4                          NaN                    NaN   \n",
       "\n",
       "   7316-2536-TISS [894447]  7316-2176-TISS [894450]  7316UP-904-TISS [900638]  \\\n",
       "0                      NaN                 2.000000                       NaN   \n",
       "1                  1.30046                -0.770439                       NaN   \n",
       "2                      NaN                      NaN                       NaN   \n",
       "3                      NaN                      NaN                       NaN   \n",
       "4                      NaN                      NaN                       NaN   \n",
       "\n",
       "   ...  7316-3935-TISS [894427]  7316-204-TISS [894456]  \\\n",
       "0  ...                      NaN                     NaN   \n",
       "1  ...                 0.617376               -0.527861   \n",
       "2  ...                 0.562537               -0.150395   \n",
       "3  ...                -0.067878               -0.645812   \n",
       "4  ...                -0.336099               -0.310628   \n",
       "\n",
       "   7316-2146-TISS [894407]  7316-2594-TISS [862600]  7316-3303-TISS [894406]  \\\n",
       "0                      NaN                      NaN                      NaN   \n",
       "1                -0.725937                -0.675518                 0.653390   \n",
       "2                -0.612625                -0.601853                 1.270572   \n",
       "3                -0.529422                -0.249285                 0.036471   \n",
       "4                 0.453490                 0.030441                -0.134703   \n",
       "\n",
       "   7316-1106-TISS [894468]  7316-2751-TISS [894442]  7316-287-TISS [894483]  \\\n",
       "0                      NaN                      NaN                     NaN   \n",
       "1                -1.273346                -0.239751               -0.673117   \n",
       "2                 0.099327                 0.539033                1.133469   \n",
       "3                 0.785377                -0.221191                0.600760   \n",
       "4                -0.160766                 0.526348               -0.150697   \n",
       "\n",
       "   7316-1763-TISS [894464]  7316-1455-TISS [894467]  \n",
       "0                      NaN                      NaN  \n",
       "1                 0.821454                -0.084892  \n",
       "2                 0.005314                -0.466709  \n",
       "3                -0.297446                -0.282195  \n",
       "4                -0.642931                 0.439274  \n",
       "\n",
       "[5 rows x 104 columns]"
      ],
      "text/html": "<div>\n<style scoped>\n    .dataframe tbody tr th:only-of-type {\n        vertical-align: middle;\n    }\n\n    .dataframe tbody tr th {\n        vertical-align: top;\n    }\n\n    .dataframe thead th {\n        text-align: right;\n    }\n</style>\n<table border=\"1\" class=\"dataframe\">\n  <thead>\n    <tr style=\"text-align: right;\">\n      <th></th>\n      <th>site</th>\n      <th>gene</th>\n      <th>refseq_id</th>\n      <th>peptide</th>\n      <th>7316-288-TISS [894482]</th>\n      <th>7316-2660-TISS [894444]...2</th>\n      <th>7316-89-TISS [894435]</th>\n      <th>7316-2536-TISS [894447]</th>\n      <th>7316-2176-TISS [894450]</th>\n      <th>7316UP-904-TISS [900638]</th>\n      <th>...</th>\n      <th>7316-3935-TISS [894427]</th>\n      <th>7316-204-TISS [894456]</th>\n      <th>7316-2146-TISS [894407]</th>\n      <th>7316-2594-TISS [862600]</th>\n      <th>7316-3303-TISS [894406]</th>\n      <th>7316-1106-TISS [894468]</th>\n      <th>7316-2751-TISS [894442]</th>\n      <th>7316-287-TISS [894483]</th>\n      <th>7316-1763-TISS [894464]</th>\n      <th>7316-1455-TISS [894467]</th>\n    </tr>\n  </thead>\n  <tbody>\n    <tr>\n      <th>0</th>\n      <td>AAAS-S541s</td>\n      <td>AAAS</td>\n      <td>NP_056480.1</td>\n      <td>AQEPPAGGGGSIHDLPLFTETSPTSAPWDPLPGPPPVLPHS*PHSHL</td>\n      <td>0.678000</td>\n      <td>0.926000</td>\n      <td>1.31000</td>\n      <td>NaN</td>\n      <td>2.000000</td>\n      <td>NaN</td>\n      <td>...</td>\n      <td>NaN</td>\n      <td>NaN</td>\n      <td>NaN</td>\n      <td>NaN</td>\n      <td>NaN</td>\n      <td>NaN</td>\n      <td>NaN</td>\n      <td>NaN</td>\n      <td>NaN</td>\n      <td>NaN</td>\n    </tr>\n    <tr>\n      <th>1</th>\n      <td>AAAS-S495s</td>\n      <td>AAAS</td>\n      <td>NP_056480.1</td>\n      <td>FS*PVLGR</td>\n      <td>-0.276214</td>\n      <td>-0.557244</td>\n      <td>-1.48755</td>\n      <td>1.30046</td>\n      <td>-0.770439</td>\n      <td>NaN</td>\n      <td>...</td>\n      <td>0.617376</td>\n      <td>-0.527861</td>\n      <td>-0.725937</td>\n      <td>-0.675518</td>\n      <td>0.653390</td>\n      <td>-1.273346</td>\n      <td>-0.239751</td>\n      <td>-0.673117</td>\n      <td>0.821454</td>\n      <td>-0.084892</td>\n    </tr>\n    <tr>\n      <th>2</th>\n      <td>AAAS-S495s</td>\n      <td>AAAS</td>\n      <td>NP_056480.1</td>\n      <td>IAHIPLYFVNAQFPRFS*PVLGR</td>\n      <td>NaN</td>\n      <td>NaN</td>\n      <td>NaN</td>\n      <td>NaN</td>\n      <td>NaN</td>\n      <td>NaN</td>\n      <td>...</td>\n      <td>0.562537</td>\n      <td>-0.150395</td>\n      <td>-0.612625</td>\n      <td>-0.601853</td>\n      <td>1.270572</td>\n      <td>0.099327</td>\n      <td>0.539033</td>\n      <td>1.133469</td>\n      <td>0.005314</td>\n      <td>-0.466709</td>\n    </tr>\n    <tr>\n      <th>3</th>\n      <td>AAED1-S12s</td>\n      <td>AAED1</td>\n      <td>NP_714542.1</td>\n      <td>QVS*GAAALVPAPSGPDSGQPLAAAVAELPVLDAR</td>\n      <td>NaN</td>\n      <td>NaN</td>\n      <td>NaN</td>\n      <td>NaN</td>\n      <td>NaN</td>\n      <td>NaN</td>\n      <td>...</td>\n      <td>-0.067878</td>\n      <td>-0.645812</td>\n      <td>-0.529422</td>\n      <td>-0.249285</td>\n      <td>0.036471</td>\n      <td>0.785377</td>\n      <td>-0.221191</td>\n      <td>0.600760</td>\n      <td>-0.297446</td>\n      <td>-0.282195</td>\n    </tr>\n    <tr>\n      <th>4</th>\n      <td>AAGAB-S311s</td>\n      <td>AAGAB</td>\n      <td>NP_078942.3</td>\n      <td>AFWMAIGGDRDEIEGLSS*DEEH</td>\n      <td>NaN</td>\n      <td>NaN</td>\n      <td>NaN</td>\n      <td>NaN</td>\n      <td>NaN</td>\n      <td>NaN</td>\n      <td>...</td>\n      <td>-0.336099</td>\n      <td>-0.310628</td>\n      <td>0.453490</td>\n      <td>0.030441</td>\n      <td>-0.134703</td>\n      <td>-0.160766</td>\n      <td>0.526348</td>\n      <td>-0.150697</td>\n      <td>-0.642931</td>\n      <td>0.439274</td>\n    </tr>\n  </tbody>\n</table>\n<p>5 rows × 104 columns</p>\n</div>"
     },
     "metadata": {},
     "execution_count": 6
    }
   ],
   "source": [
    "raw_phospho_df.head()"
   ]
  },
  {
   "cell_type": "code",
   "execution_count": 7,
   "metadata": {},
   "outputs": [
    {
     "output_type": "execute_result",
     "data": {
      "text/plain": [
       "    gene    refseq_id                                         peptide  \\\n",
       "0   AAAS  NP_056480.1  AQEPPAGGGGSIHDLPLFTETSPTSAPWDPLPGPPPVLPHsPHSHL   \n",
       "1   AAAS  NP_056480.1                                         FsPVLGR   \n",
       "2   AAAS  NP_056480.1                          IAHIPLYFVNAQFPRFsPVLGR   \n",
       "3  AAED1  NP_714542.1              QVsGAAALVPAPSGPDSGQPLAAAVAELPVLDAR   \n",
       "4  AAGAB  NP_078942.3                          AFWMAIGGDRDEIEGLSsDEEH   \n",
       "5  AAGAB  NP_078942.3  NDRNQGFSLLNSLTGTNHSIGSADPCHPEQPHLPAADsTESLSDHR   \n",
       "6  AAGAB  NP_078942.3     NQGFSLLNSLTGTNHSIGsADPCHPEQPHLPAADSTESLSDHR   \n",
       "7  AAGAB  NP_078942.3     NQGFSLLNSLTGTNHSIGSADPCHPEQPHLPAADsTESLSDHR   \n",
       "8  AAGAB  NP_078942.3     NQGFSLLNSLTGTNHSIGSADPCHPEQPHLPAADStESLSDHR   \n",
       "9   AAK1  NP_055726.3                 ADVAVESLIPGLEPPVPQRLPSQtESVTSNR   \n",
       "\n",
       "          site                                      original_id phosphosites  \n",
       "0   AAAS-S541s  AQEPPAGGGGSIHDLPLFTETSPTSAPWDPLPGPPPVLPHS*PHSHL      [S541s]  \n",
       "1   AAAS-S495s                                         FS*PVLGR      [S495s]  \n",
       "2   AAAS-S495s                          IAHIPLYFVNAQFPRFS*PVLGR      [S495s]  \n",
       "3   AAED1-S12s              QVS*GAAALVPAPSGPDSGQPLAAAVAELPVLDAR       [S12s]  \n",
       "4  AAGAB-S311s                          AFWMAIGGDRDEIEGLSS*DEEH      [S311s]  \n",
       "5  AAGAB-S215s  NDRNQGFSLLNSLTGTNHSIGSADPCHPEQPHLPAADS*TESLSDHR      [S215s]  \n",
       "6  AAGAB-S199s     NQGFSLLNSLTGTNHSIGS*ADPCHPEQPHLPAADSTESLSDHR      [S199s]  \n",
       "7  AAGAB-S215s     NQGFSLLNSLTGTNHSIGSADPCHPEQPHLPAADS*TESLSDHR      [S215s]  \n",
       "8  AAGAB-T216t     NQGFSLLNSLTGTNHSIGSADPCHPEQPHLPAADST*ESLSDHR      [T216t]  \n",
       "9   AAK1-T848t                 ADVAVESLIPGLEPPVPQRLPSQT*ESVTSNR      [T848t]  "
      ],
      "text/html": "<div>\n<style scoped>\n    .dataframe tbody tr th:only-of-type {\n        vertical-align: middle;\n    }\n\n    .dataframe tbody tr th {\n        vertical-align: top;\n    }\n\n    .dataframe thead th {\n        text-align: right;\n    }\n</style>\n<table border=\"1\" class=\"dataframe\">\n  <thead>\n    <tr style=\"text-align: right;\">\n      <th></th>\n      <th>gene</th>\n      <th>refseq_id</th>\n      <th>peptide</th>\n      <th>site</th>\n      <th>original_id</th>\n      <th>phosphosites</th>\n    </tr>\n  </thead>\n  <tbody>\n    <tr>\n      <th>0</th>\n      <td>AAAS</td>\n      <td>NP_056480.1</td>\n      <td>AQEPPAGGGGSIHDLPLFTETSPTSAPWDPLPGPPPVLPHsPHSHL</td>\n      <td>AAAS-S541s</td>\n      <td>AQEPPAGGGGSIHDLPLFTETSPTSAPWDPLPGPPPVLPHS*PHSHL</td>\n      <td>[S541s]</td>\n    </tr>\n    <tr>\n      <th>1</th>\n      <td>AAAS</td>\n      <td>NP_056480.1</td>\n      <td>FsPVLGR</td>\n      <td>AAAS-S495s</td>\n      <td>FS*PVLGR</td>\n      <td>[S495s]</td>\n    </tr>\n    <tr>\n      <th>2</th>\n      <td>AAAS</td>\n      <td>NP_056480.1</td>\n      <td>IAHIPLYFVNAQFPRFsPVLGR</td>\n      <td>AAAS-S495s</td>\n      <td>IAHIPLYFVNAQFPRFS*PVLGR</td>\n      <td>[S495s]</td>\n    </tr>\n    <tr>\n      <th>3</th>\n      <td>AAED1</td>\n      <td>NP_714542.1</td>\n      <td>QVsGAAALVPAPSGPDSGQPLAAAVAELPVLDAR</td>\n      <td>AAED1-S12s</td>\n      <td>QVS*GAAALVPAPSGPDSGQPLAAAVAELPVLDAR</td>\n      <td>[S12s]</td>\n    </tr>\n    <tr>\n      <th>4</th>\n      <td>AAGAB</td>\n      <td>NP_078942.3</td>\n      <td>AFWMAIGGDRDEIEGLSsDEEH</td>\n      <td>AAGAB-S311s</td>\n      <td>AFWMAIGGDRDEIEGLSS*DEEH</td>\n      <td>[S311s]</td>\n    </tr>\n    <tr>\n      <th>5</th>\n      <td>AAGAB</td>\n      <td>NP_078942.3</td>\n      <td>NDRNQGFSLLNSLTGTNHSIGSADPCHPEQPHLPAADsTESLSDHR</td>\n      <td>AAGAB-S215s</td>\n      <td>NDRNQGFSLLNSLTGTNHSIGSADPCHPEQPHLPAADS*TESLSDHR</td>\n      <td>[S215s]</td>\n    </tr>\n    <tr>\n      <th>6</th>\n      <td>AAGAB</td>\n      <td>NP_078942.3</td>\n      <td>NQGFSLLNSLTGTNHSIGsADPCHPEQPHLPAADSTESLSDHR</td>\n      <td>AAGAB-S199s</td>\n      <td>NQGFSLLNSLTGTNHSIGS*ADPCHPEQPHLPAADSTESLSDHR</td>\n      <td>[S199s]</td>\n    </tr>\n    <tr>\n      <th>7</th>\n      <td>AAGAB</td>\n      <td>NP_078942.3</td>\n      <td>NQGFSLLNSLTGTNHSIGSADPCHPEQPHLPAADsTESLSDHR</td>\n      <td>AAGAB-S215s</td>\n      <td>NQGFSLLNSLTGTNHSIGSADPCHPEQPHLPAADS*TESLSDHR</td>\n      <td>[S215s]</td>\n    </tr>\n    <tr>\n      <th>8</th>\n      <td>AAGAB</td>\n      <td>NP_078942.3</td>\n      <td>NQGFSLLNSLTGTNHSIGSADPCHPEQPHLPAADStESLSDHR</td>\n      <td>AAGAB-T216t</td>\n      <td>NQGFSLLNSLTGTNHSIGSADPCHPEQPHLPAADST*ESLSDHR</td>\n      <td>[T216t]</td>\n    </tr>\n    <tr>\n      <th>9</th>\n      <td>AAK1</td>\n      <td>NP_055726.3</td>\n      <td>ADVAVESLIPGLEPPVPQRLPSQtESVTSNR</td>\n      <td>AAK1-T848t</td>\n      <td>ADVAVESLIPGLEPPVPQRLPSQT*ESVTSNR</td>\n      <td>[T848t]</td>\n    </tr>\n  </tbody>\n</table>\n</div>"
     },
     "metadata": {},
     "execution_count": 7
    }
   ],
   "source": [
    "peptide_df = raw_phospho_df.loc[:, ['gene', 'refseq_id', 'peptide', 'site']]\n",
    "peptide_df['original_id'] = peptide_df['peptide']\n",
    "peptide_df['peptide'] = peptide_df['peptide'].str.replace(r'([STY])\\*', lambda m: m.group(1).lower())\n",
    "peptide_df['phosphosites'] = peptide_df['site'].str.split('-', 1, expand=True).iloc[:, 1].str.findall(r'[A-Z]\\d+[a-z]')\n",
    "peptide_df.head(10)"
   ]
  },
  {
   "cell_type": "code",
   "execution_count": 8,
   "metadata": {},
   "outputs": [
    {
     "output_type": "execute_result",
     "data": {
      "text/plain": [
       "S    85708\n",
       "T    20574\n",
       "Y     3886\n",
       "C        1\n",
       "Name: phosphosites, dtype: int64"
      ]
     },
     "metadata": {},
     "execution_count": 8
    }
   ],
   "source": [
    "# Check what residues are modified\n",
    "peptide_df['phosphosites'].explode().apply(lambda x: x[0]).value_counts()"
   ]
  },
  {
   "cell_type": "code",
   "execution_count": 9,
   "metadata": {},
   "outputs": [],
   "source": [
    "# Keep only STY that are phosphosites\n",
    "peptide_df['phosphosites'] = peptide_df['phosphosites'].apply(\n",
    "    lambda l: [x[:-1] for x in l if x[0] in 'STY']\n",
    ")"
   ]
  },
  {
   "cell_type": "code",
   "execution_count": 10,
   "metadata": {},
   "outputs": [],
   "source": [
    "# Calculate the peptide location\n",
    "peptide_loc_range_df = pd.DataFrame(\n",
    "    map(calc_peptide_start_end, \n",
    "        peptide_df.peptide, peptide_df.refseq_id, peptide_df.phosphosites),\n",
    "    index=peptide_df.index,\n",
    "    columns=['peptide_start', 'peptide_end', 'peptide_loc_valid', 'peptide_loc_invalid_reason'],\n",
    ").astype({\n",
    "    'peptide_start': pd.Int64Dtype(),\n",
    "    'peptide_end': pd.Int64Dtype(),\n",
    "})"
   ]
  },
  {
   "cell_type": "code",
   "execution_count": 11,
   "metadata": {},
   "outputs": [
    {
     "output_type": "execute_result",
     "data": {
      "text/plain": [
       "Empty DataFrame\n",
       "Columns: [refseq_id, phosphosites, peptide, peptide_loc_invalid_reason]\n",
       "Index: []"
      ],
      "text/html": "<div>\n<style scoped>\n    .dataframe tbody tr th:only-of-type {\n        vertical-align: middle;\n    }\n\n    .dataframe tbody tr th {\n        vertical-align: top;\n    }\n\n    .dataframe thead th {\n        text-align: right;\n    }\n</style>\n<table border=\"1\" class=\"dataframe\">\n  <thead>\n    <tr style=\"text-align: right;\">\n      <th></th>\n      <th>refseq_id</th>\n      <th>phosphosites</th>\n      <th>peptide</th>\n      <th>peptide_loc_invalid_reason</th>\n    </tr>\n  </thead>\n  <tbody>\n  </tbody>\n</table>\n</div>"
     },
     "metadata": {},
     "execution_count": 11
    }
   ],
   "source": [
    "# Combine the location and peptide information\n",
    "peptide_with_loc_df = pd.concat([peptide_df, peptide_loc_range_df], axis=1)\n",
    "# List all the invalid peptides\n",
    "peptide_with_loc_df.loc[\n",
    "    ~peptide_loc_range_df['peptide_loc_valid'],\n",
    "    ['refseq_id', 'phosphosites', 'peptide', 'peptide_loc_invalid_reason']\n",
    "]"
   ]
  },
  {
   "cell_type": "code",
   "execution_count": 12,
   "metadata": {},
   "outputs": [],
   "source": [
    "out_df = peptide_with_loc_df.loc[\n",
    "    :,\n",
    "    ['original_id', 'peptide', 'phosphosites', 'peptide_start', 'peptide_end', 'peptide_loc_valid', 'peptide_loc_invalid_reason']\n",
    "]\n",
    "out_df['phosphosites'] = out_df['phosphosites'].str.join(';')\n",
    "out_df.to_csv(\n",
    "    phospho_pth.with_suffix('.peptide_location.tsv.gz'),\n",
    "    sep='\\t',\n",
    "    index=False\n",
    ")"
   ]
  },
  {
   "cell_type": "code",
   "execution_count": 13,
   "metadata": {},
   "outputs": [
    {
     "output_type": "execute_result",
     "data": {
      "text/plain": [
       "                                       original_id  \\\n",
       "0  AQEPPAGGGGSIHDLPLFTETSPTSAPWDPLPGPPPVLPHS*PHSHL   \n",
       "1                                         FS*PVLGR   \n",
       "2                          IAHIPLYFVNAQFPRFS*PVLGR   \n",
       "3              QVS*GAAALVPAPSGPDSGQPLAAAVAELPVLDAR   \n",
       "4                          AFWMAIGGDRDEIEGLSS*DEEH   \n",
       "\n",
       "                                          peptide phosphosites  peptide_start  \\\n",
       "0  AQEPPAGGGGSIHDLPLFTETSPTSAPWDPLPGPPPVLPHsPHSHL         S541            501   \n",
       "1                                         FsPVLGR         S495            494   \n",
       "2                          IAHIPLYFVNAQFPRFsPVLGR         S495            479   \n",
       "3              QVsGAAALVPAPSGPDSGQPLAAAVAELPVLDAR          S12             10   \n",
       "4                          AFWMAIGGDRDEIEGLSsDEEH         S311            294   \n",
       "\n",
       "   peptide_end  peptide_loc_valid peptide_loc_invalid_reason  \n",
       "0          546               True                       None  \n",
       "1          500               True                       None  \n",
       "2          500               True                       None  \n",
       "3           43               True                       None  \n",
       "4          315               True                       None  "
      ],
      "text/html": "<div>\n<style scoped>\n    .dataframe tbody tr th:only-of-type {\n        vertical-align: middle;\n    }\n\n    .dataframe tbody tr th {\n        vertical-align: top;\n    }\n\n    .dataframe thead th {\n        text-align: right;\n    }\n</style>\n<table border=\"1\" class=\"dataframe\">\n  <thead>\n    <tr style=\"text-align: right;\">\n      <th></th>\n      <th>original_id</th>\n      <th>peptide</th>\n      <th>phosphosites</th>\n      <th>peptide_start</th>\n      <th>peptide_end</th>\n      <th>peptide_loc_valid</th>\n      <th>peptide_loc_invalid_reason</th>\n    </tr>\n  </thead>\n  <tbody>\n    <tr>\n      <th>0</th>\n      <td>AQEPPAGGGGSIHDLPLFTETSPTSAPWDPLPGPPPVLPHS*PHSHL</td>\n      <td>AQEPPAGGGGSIHDLPLFTETSPTSAPWDPLPGPPPVLPHsPHSHL</td>\n      <td>S541</td>\n      <td>501</td>\n      <td>546</td>\n      <td>True</td>\n      <td>None</td>\n    </tr>\n    <tr>\n      <th>1</th>\n      <td>FS*PVLGR</td>\n      <td>FsPVLGR</td>\n      <td>S495</td>\n      <td>494</td>\n      <td>500</td>\n      <td>True</td>\n      <td>None</td>\n    </tr>\n    <tr>\n      <th>2</th>\n      <td>IAHIPLYFVNAQFPRFS*PVLGR</td>\n      <td>IAHIPLYFVNAQFPRFsPVLGR</td>\n      <td>S495</td>\n      <td>479</td>\n      <td>500</td>\n      <td>True</td>\n      <td>None</td>\n    </tr>\n    <tr>\n      <th>3</th>\n      <td>QVS*GAAALVPAPSGPDSGQPLAAAVAELPVLDAR</td>\n      <td>QVsGAAALVPAPSGPDSGQPLAAAVAELPVLDAR</td>\n      <td>S12</td>\n      <td>10</td>\n      <td>43</td>\n      <td>True</td>\n      <td>None</td>\n    </tr>\n    <tr>\n      <th>4</th>\n      <td>AFWMAIGGDRDEIEGLSS*DEEH</td>\n      <td>AFWMAIGGDRDEIEGLSsDEEH</td>\n      <td>S311</td>\n      <td>294</td>\n      <td>315</td>\n      <td>True</td>\n      <td>None</td>\n    </tr>\n  </tbody>\n</table>\n</div>"
     },
     "metadata": {},
     "execution_count": 13
    }
   ],
   "source": [
    "out_df.head()"
   ]
  },
  {
   "cell_type": "code",
   "execution_count": null,
   "metadata": {},
   "outputs": [],
   "source": []
  }
 ],
 "metadata": {
  "kernelspec": {
   "name": "python3",
   "display_name": "Python 3.8.3 64-bit ('cptac': conda)"
  },
  "language_info": {
   "codemirror_mode": {
    "name": "ipython",
    "version": 3
   },
   "file_extension": ".py",
   "mimetype": "text/x-python",
   "name": "python",
   "nbconvert_exporter": "python",
   "pygments_lexer": "ipython3",
   "version": "3.8.3"
  },
  "interpreter": {
   "hash": "ad0c00ad63891de2cdf996d1b2ec53c4391ca28417984dfada5247c5a79653b6"
  }
 },
 "nbformat": 4,
 "nbformat_minor": 4
}
