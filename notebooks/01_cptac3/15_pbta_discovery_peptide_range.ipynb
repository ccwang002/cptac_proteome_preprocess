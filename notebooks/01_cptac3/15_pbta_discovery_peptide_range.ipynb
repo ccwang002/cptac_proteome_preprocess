{
 "cells": [
  {
   "cell_type": "code",
   "execution_count": 1,
   "metadata": {},
   "outputs": [],
   "source": [
    "from pathlib import Path\n",
    "import re\n",
    "\n",
    "from pysam import FastaFile\n",
    "import pandas as pd"
   ]
  },
  {
   "cell_type": "code",
   "execution_count": 2,
   "metadata": {},
   "outputs": [],
   "source": [
    "DATA_ROOT = Path('/Users/liang/Box/MyCPTAC/CPTAC_proteome_v3.0/')\n",
    "\n",
    "refseq_fasta_pth = DATA_ROOT / 'DCC/RefSeq_20180629/RefSeq.20180629_Human_ucsc_hg38_cpdbnr_mito_264contams.fasta.gz'\n",
    "\n",
    "phospho_pth = DATA_ROOT / 'CPTAC3/PBTA_discovery/ProcessedPhosphoData/phospho_tumorall_nofilter_imputedA_03162020.tsv'"
   ]
  },
  {
   "cell_type": "code",
   "execution_count": 3,
   "metadata": {},
   "outputs": [],
   "source": [
    "protein_fa = FastaFile(str(refseq_fasta_pth))"
   ]
  },
  {
   "cell_type": "code",
   "execution_count": 4,
   "metadata": {},
   "outputs": [],
   "source": [
    "def calc_peptide_start_end(peptide, protein_id, sites):\n",
    "    # Make sure the peptide is part of the protein sequence\n",
    "    protein_seq = protein_fa.fetch(protein_id)\n",
    "    if not peptide.upper() in protein_seq:\n",
    "        return [None, None, False, 'Peptide not found in protein']\n",
    "    \n",
    "    first_res = sites[0][0].lower()\n",
    "    first_res_loc = int(sites[0][1:])\n",
    "    first_res_ix = peptide.find(first_res) \n",
    "    \n",
    "    peptide_start = first_res_loc - first_res_ix\n",
    "    peptide_end = first_res_loc + len(peptide) - first_res_ix - 1\n",
    "    if protein_seq[peptide_start - 1:peptide_end] != peptide.upper():\n",
    "        return [None, None, False, 'Invalid location']\n",
    "    return [peptide_start, peptide_end, True, None]"
   ]
  },
  {
   "cell_type": "markdown",
   "metadata": {},
   "source": [
    "## Phospho"
   ]
  },
  {
   "cell_type": "code",
   "execution_count": 5,
   "metadata": {},
   "outputs": [
    {
     "output_type": "execute_result",
     "data": {
      "text/plain": [
       "Index(['Index', 'gene_Symbol', 'Prot_Desc', 'X7316.1781', 'X7316.1790',\n",
       "       'X7316.878', 'X7316.2181', 'X7316.2141', 'X7316.918', 'X7316.479',\n",
       "       ...\n",
       "       'X7316.407', 'X7316.3025', 'X7316.347', 'X7316.178', 'X7316.302',\n",
       "       'X7316.2986', 'X7316.109', 'X7316.897', 'X7316.153', 'X7316.38'],\n",
       "      dtype='object', length=220)"
      ]
     },
     "metadata": {},
     "execution_count": 5
    }
   ],
   "source": [
    "raw_phospho_df = pd.read_table(phospho_pth)\n",
    "raw_phospho_df.columns"
   ]
  },
  {
   "cell_type": "code",
   "execution_count": 6,
   "metadata": {},
   "outputs": [],
   "source": [
    "parsed_index_df = raw_phospho_df['Index'].str.split('_', expand=True)\n",
    "raw_phospho_df['refseq_prot_id'] = parsed_index_df[0] + '_' + parsed_index_df[1]\n",
    "raw_phospho_df['phosphosites'] = parsed_index_df.iloc[:, -1].str.findall(r'[A-Z]\\d+')"
   ]
  },
  {
   "cell_type": "code",
   "execution_count": 7,
   "metadata": {},
   "outputs": [
    {
     "output_type": "execute_result",
     "data": {
      "text/plain": [
       "                             Index gene_Symbol       Prot_Desc  X7316.1781  \\\n",
       "0     NP_000022.3_214_215_1_1_S215        ALAD       SsPAFGDRR   -0.696372   \n",
       "1        NP_000025.1_36_39_1_1_S36       ALDOA  GILAADEsTGSIAK   -1.138552   \n",
       "2        NP_000025.1_36_39_1_1_S39       ALDOA  GILAADESTGsIAK   -0.980943   \n",
       "3        NP_000025.1_46_52_1_1_S46       ALDOA   LQsIGTENTEENR   -0.207991   \n",
       "4  NP_000028.3_1684_1693_1_1_S1686        ANK1   ITHsPTVSQVTER   -0.236494   \n",
       "\n",
       "   X7316.1790  X7316.878  X7316.2181  X7316.2141  X7316.918  X7316.479  ...  \\\n",
       "0   -0.890851  -1.115034   -0.819816   -1.103827  -0.860584   0.033700  ...   \n",
       "1   -1.253123  -1.199987   -1.167665   -1.304464  -0.275617   0.639204  ...   \n",
       "2   -1.138313  -1.242436   -1.348138   -1.046978  -0.373884   0.535637  ...   \n",
       "3   -0.330642  -0.256058   -0.416227   -0.310663   0.647371  -0.129796  ...   \n",
       "4    0.727648   0.227237    0.172909   -0.338637   0.823786   0.792843  ...   \n",
       "\n",
       "   X7316.347  X7316.178  X7316.302  X7316.2986  X7316.109  X7316.897  \\\n",
       "0  -1.003605  -1.187927  -0.557025   -0.514046  -0.709355  -0.612248   \n",
       "1  -1.348174  -1.736277  -0.727368   -0.677711  -0.810839  -0.803293   \n",
       "2  -1.066309  -1.968361  -1.239626   -1.033501  -1.015763  -0.647571   \n",
       "3  -0.953630  -0.943550  -0.802885   -0.639685  -0.721690  -0.904796   \n",
       "4  -0.594974  -0.979635  -0.426282   -0.527333   0.021560  -0.707242   \n",
       "\n",
       "   X7316.153  X7316.38  refseq_prot_id  phosphosites  \n",
       "0  -0.710886 -0.675199     NP_000022.3        [S215]  \n",
       "1  -1.143444 -1.116918     NP_000025.1         [S36]  \n",
       "2  -0.959836 -1.206872     NP_000025.1         [S39]  \n",
       "3  -0.619397 -1.025678     NP_000025.1         [S46]  \n",
       "4   0.368233 -0.160473     NP_000028.3       [S1686]  \n",
       "\n",
       "[5 rows x 222 columns]"
      ],
      "text/html": "<div>\n<style scoped>\n    .dataframe tbody tr th:only-of-type {\n        vertical-align: middle;\n    }\n\n    .dataframe tbody tr th {\n        vertical-align: top;\n    }\n\n    .dataframe thead th {\n        text-align: right;\n    }\n</style>\n<table border=\"1\" class=\"dataframe\">\n  <thead>\n    <tr style=\"text-align: right;\">\n      <th></th>\n      <th>Index</th>\n      <th>gene_Symbol</th>\n      <th>Prot_Desc</th>\n      <th>X7316.1781</th>\n      <th>X7316.1790</th>\n      <th>X7316.878</th>\n      <th>X7316.2181</th>\n      <th>X7316.2141</th>\n      <th>X7316.918</th>\n      <th>X7316.479</th>\n      <th>...</th>\n      <th>X7316.347</th>\n      <th>X7316.178</th>\n      <th>X7316.302</th>\n      <th>X7316.2986</th>\n      <th>X7316.109</th>\n      <th>X7316.897</th>\n      <th>X7316.153</th>\n      <th>X7316.38</th>\n      <th>refseq_prot_id</th>\n      <th>phosphosites</th>\n    </tr>\n  </thead>\n  <tbody>\n    <tr>\n      <th>0</th>\n      <td>NP_000022.3_214_215_1_1_S215</td>\n      <td>ALAD</td>\n      <td>SsPAFGDRR</td>\n      <td>-0.696372</td>\n      <td>-0.890851</td>\n      <td>-1.115034</td>\n      <td>-0.819816</td>\n      <td>-1.103827</td>\n      <td>-0.860584</td>\n      <td>0.033700</td>\n      <td>...</td>\n      <td>-1.003605</td>\n      <td>-1.187927</td>\n      <td>-0.557025</td>\n      <td>-0.514046</td>\n      <td>-0.709355</td>\n      <td>-0.612248</td>\n      <td>-0.710886</td>\n      <td>-0.675199</td>\n      <td>NP_000022.3</td>\n      <td>[S215]</td>\n    </tr>\n    <tr>\n      <th>1</th>\n      <td>NP_000025.1_36_39_1_1_S36</td>\n      <td>ALDOA</td>\n      <td>GILAADEsTGSIAK</td>\n      <td>-1.138552</td>\n      <td>-1.253123</td>\n      <td>-1.199987</td>\n      <td>-1.167665</td>\n      <td>-1.304464</td>\n      <td>-0.275617</td>\n      <td>0.639204</td>\n      <td>...</td>\n      <td>-1.348174</td>\n      <td>-1.736277</td>\n      <td>-0.727368</td>\n      <td>-0.677711</td>\n      <td>-0.810839</td>\n      <td>-0.803293</td>\n      <td>-1.143444</td>\n      <td>-1.116918</td>\n      <td>NP_000025.1</td>\n      <td>[S36]</td>\n    </tr>\n    <tr>\n      <th>2</th>\n      <td>NP_000025.1_36_39_1_1_S39</td>\n      <td>ALDOA</td>\n      <td>GILAADESTGsIAK</td>\n      <td>-0.980943</td>\n      <td>-1.138313</td>\n      <td>-1.242436</td>\n      <td>-1.348138</td>\n      <td>-1.046978</td>\n      <td>-0.373884</td>\n      <td>0.535637</td>\n      <td>...</td>\n      <td>-1.066309</td>\n      <td>-1.968361</td>\n      <td>-1.239626</td>\n      <td>-1.033501</td>\n      <td>-1.015763</td>\n      <td>-0.647571</td>\n      <td>-0.959836</td>\n      <td>-1.206872</td>\n      <td>NP_000025.1</td>\n      <td>[S39]</td>\n    </tr>\n    <tr>\n      <th>3</th>\n      <td>NP_000025.1_46_52_1_1_S46</td>\n      <td>ALDOA</td>\n      <td>LQsIGTENTEENR</td>\n      <td>-0.207991</td>\n      <td>-0.330642</td>\n      <td>-0.256058</td>\n      <td>-0.416227</td>\n      <td>-0.310663</td>\n      <td>0.647371</td>\n      <td>-0.129796</td>\n      <td>...</td>\n      <td>-0.953630</td>\n      <td>-0.943550</td>\n      <td>-0.802885</td>\n      <td>-0.639685</td>\n      <td>-0.721690</td>\n      <td>-0.904796</td>\n      <td>-0.619397</td>\n      <td>-1.025678</td>\n      <td>NP_000025.1</td>\n      <td>[S46]</td>\n    </tr>\n    <tr>\n      <th>4</th>\n      <td>NP_000028.3_1684_1693_1_1_S1686</td>\n      <td>ANK1</td>\n      <td>ITHsPTVSQVTER</td>\n      <td>-0.236494</td>\n      <td>0.727648</td>\n      <td>0.227237</td>\n      <td>0.172909</td>\n      <td>-0.338637</td>\n      <td>0.823786</td>\n      <td>0.792843</td>\n      <td>...</td>\n      <td>-0.594974</td>\n      <td>-0.979635</td>\n      <td>-0.426282</td>\n      <td>-0.527333</td>\n      <td>0.021560</td>\n      <td>-0.707242</td>\n      <td>0.368233</td>\n      <td>-0.160473</td>\n      <td>NP_000028.3</td>\n      <td>[S1686]</td>\n    </tr>\n  </tbody>\n</table>\n<p>5 rows × 222 columns</p>\n</div>"
     },
     "metadata": {},
     "execution_count": 7
    }
   ],
   "source": [
    "raw_phospho_df.head()"
   ]
  },
  {
   "cell_type": "code",
   "execution_count": 8,
   "metadata": {},
   "outputs": [
    {
     "output_type": "execute_result",
     "data": {
      "text/plain": [
       "                       original_id   Gene refseq_prot_id            peptide  \\\n",
       "0     NP_000022.3_214_215_1_1_S215   ALAD    NP_000022.3          SsPAFGDRR   \n",
       "1        NP_000025.1_36_39_1_1_S36  ALDOA    NP_000025.1     GILAADEsTGSIAK   \n",
       "2        NP_000025.1_36_39_1_1_S39  ALDOA    NP_000025.1     GILAADESTGsIAK   \n",
       "3        NP_000025.1_46_52_1_1_S46  ALDOA    NP_000025.1      LQsIGTENTEENR   \n",
       "4  NP_000028.3_1684_1693_1_1_S1686   ANK1    NP_000028.3      ITHsPTVSQVTER   \n",
       "5     NP_000028.3_960_973_1_1_T961   ANK1    NP_000028.3   LStPPPLAEEEGLASR   \n",
       "6        NP_000090.1_43_43_1_1_S43   CST3    NP_000090.1  LVGGPMDAsVEEEGVRR   \n",
       "7     NP_000114.2_382_384_1_1_S384  ERCC5    NP_000114.2     NAPAAVDEGSIsPR   \n",
       "8     NP_000114.2_523_534_1_1_S526  ERCC5    NP_000114.2    ELTPAsPTCTNSVSK   \n",
       "9     NP_000156.1_244_255_1_1_S251   GJA1    NP_000156.1    SDPYHATsGALSPAK   \n",
       "\n",
       "  phosphosites  \n",
       "0       [S215]  \n",
       "1        [S36]  \n",
       "2        [S39]  \n",
       "3        [S46]  \n",
       "4      [S1686]  \n",
       "5       [T961]  \n",
       "6        [S43]  \n",
       "7       [S384]  \n",
       "8       [S526]  \n",
       "9       [S251]  "
      ],
      "text/html": "<div>\n<style scoped>\n    .dataframe tbody tr th:only-of-type {\n        vertical-align: middle;\n    }\n\n    .dataframe tbody tr th {\n        vertical-align: top;\n    }\n\n    .dataframe thead th {\n        text-align: right;\n    }\n</style>\n<table border=\"1\" class=\"dataframe\">\n  <thead>\n    <tr style=\"text-align: right;\">\n      <th></th>\n      <th>original_id</th>\n      <th>Gene</th>\n      <th>refseq_prot_id</th>\n      <th>peptide</th>\n      <th>phosphosites</th>\n    </tr>\n  </thead>\n  <tbody>\n    <tr>\n      <th>0</th>\n      <td>NP_000022.3_214_215_1_1_S215</td>\n      <td>ALAD</td>\n      <td>NP_000022.3</td>\n      <td>SsPAFGDRR</td>\n      <td>[S215]</td>\n    </tr>\n    <tr>\n      <th>1</th>\n      <td>NP_000025.1_36_39_1_1_S36</td>\n      <td>ALDOA</td>\n      <td>NP_000025.1</td>\n      <td>GILAADEsTGSIAK</td>\n      <td>[S36]</td>\n    </tr>\n    <tr>\n      <th>2</th>\n      <td>NP_000025.1_36_39_1_1_S39</td>\n      <td>ALDOA</td>\n      <td>NP_000025.1</td>\n      <td>GILAADESTGsIAK</td>\n      <td>[S39]</td>\n    </tr>\n    <tr>\n      <th>3</th>\n      <td>NP_000025.1_46_52_1_1_S46</td>\n      <td>ALDOA</td>\n      <td>NP_000025.1</td>\n      <td>LQsIGTENTEENR</td>\n      <td>[S46]</td>\n    </tr>\n    <tr>\n      <th>4</th>\n      <td>NP_000028.3_1684_1693_1_1_S1686</td>\n      <td>ANK1</td>\n      <td>NP_000028.3</td>\n      <td>ITHsPTVSQVTER</td>\n      <td>[S1686]</td>\n    </tr>\n    <tr>\n      <th>5</th>\n      <td>NP_000028.3_960_973_1_1_T961</td>\n      <td>ANK1</td>\n      <td>NP_000028.3</td>\n      <td>LStPPPLAEEEGLASR</td>\n      <td>[T961]</td>\n    </tr>\n    <tr>\n      <th>6</th>\n      <td>NP_000090.1_43_43_1_1_S43</td>\n      <td>CST3</td>\n      <td>NP_000090.1</td>\n      <td>LVGGPMDAsVEEEGVRR</td>\n      <td>[S43]</td>\n    </tr>\n    <tr>\n      <th>7</th>\n      <td>NP_000114.2_382_384_1_1_S384</td>\n      <td>ERCC5</td>\n      <td>NP_000114.2</td>\n      <td>NAPAAVDEGSIsPR</td>\n      <td>[S384]</td>\n    </tr>\n    <tr>\n      <th>8</th>\n      <td>NP_000114.2_523_534_1_1_S526</td>\n      <td>ERCC5</td>\n      <td>NP_000114.2</td>\n      <td>ELTPAsPTCTNSVSK</td>\n      <td>[S526]</td>\n    </tr>\n    <tr>\n      <th>9</th>\n      <td>NP_000156.1_244_255_1_1_S251</td>\n      <td>GJA1</td>\n      <td>NP_000156.1</td>\n      <td>SDPYHATsGALSPAK</td>\n      <td>[S251]</td>\n    </tr>\n  </tbody>\n</table>\n</div>"
     },
     "metadata": {},
     "execution_count": 8
    }
   ],
   "source": [
    "peptide_df = raw_phospho_df.loc[\n",
    "    # Filter peptides that don't have any phosphosites\n",
    "    ~raw_phospho_df.phosphosites.isnull(),\n",
    "    ['Index', 'gene_Symbol', 'refseq_prot_id', 'Prot_Desc', 'phosphosites']]\n",
    "peptide_df = peptide_df.rename(columns = {'Index': 'original_id', 'Prot_Desc': 'peptide', 'gene_Symbol': 'Gene'})\n",
    "peptide_df.head(10)"
   ]
  },
  {
   "cell_type": "code",
   "execution_count": 9,
   "metadata": {},
   "outputs": [
    {
     "output_type": "execute_result",
     "data": {
      "text/plain": [
       "S    4388\n",
       "T     611\n",
       "Y      37\n",
       "Name: phosphosites, dtype: int64"
      ]
     },
     "metadata": {},
     "execution_count": 9
    }
   ],
   "source": [
    "# Check what residues are modified\n",
    "peptide_df['phosphosites'].explode().apply(lambda x: x[0]).value_counts()"
   ]
  },
  {
   "cell_type": "code",
   "execution_count": 10,
   "metadata": {},
   "outputs": [],
   "source": [
    "# Keep only STY that are phosphosites\n",
    "peptide_df['phosphosites'] = peptide_df['phosphosites'].apply(\n",
    "    lambda l: [x for x in l if x[0] in 'STY']\n",
    ")"
   ]
  },
  {
   "cell_type": "code",
   "execution_count": 11,
   "metadata": {},
   "outputs": [],
   "source": [
    "# Calculate the peptide location\n",
    "peptide_loc_range_df = pd.DataFrame(\n",
    "    map(calc_peptide_start_end, \n",
    "        peptide_df.peptide, peptide_df.refseq_prot_id, peptide_df.phosphosites),\n",
    "    index=peptide_df.index,\n",
    "    columns=['peptide_start', 'peptide_end', 'peptide_loc_valid', 'peptide_loc_invalid_reason'],\n",
    ").astype({\n",
    "    'peptide_start': pd.Int64Dtype(),\n",
    "    'peptide_end': pd.Int64Dtype(),\n",
    "})"
   ]
  },
  {
   "cell_type": "code",
   "execution_count": 12,
   "metadata": {},
   "outputs": [
    {
     "output_type": "execute_result",
     "data": {
      "text/plain": [
       "      refseq_prot_id phosphosites             peptide  \\\n",
       "306   NP_001073998.2         [S5]             LLPPAsP   \n",
       "1324  NP_001299602.1         [S5]            MLQALsPK   \n",
       "4479     NP_001673.2         [S8]  SATSSSPGsPIHSLETSL   \n",
       "\n",
       "        peptide_loc_invalid_reason  \n",
       "306   Peptide not found in protein  \n",
       "1324  Peptide not found in protein  \n",
       "4479  Peptide not found in protein  "
      ],
      "text/html": "<div>\n<style scoped>\n    .dataframe tbody tr th:only-of-type {\n        vertical-align: middle;\n    }\n\n    .dataframe tbody tr th {\n        vertical-align: top;\n    }\n\n    .dataframe thead th {\n        text-align: right;\n    }\n</style>\n<table border=\"1\" class=\"dataframe\">\n  <thead>\n    <tr style=\"text-align: right;\">\n      <th></th>\n      <th>refseq_prot_id</th>\n      <th>phosphosites</th>\n      <th>peptide</th>\n      <th>peptide_loc_invalid_reason</th>\n    </tr>\n  </thead>\n  <tbody>\n    <tr>\n      <th>306</th>\n      <td>NP_001073998.2</td>\n      <td>[S5]</td>\n      <td>LLPPAsP</td>\n      <td>Peptide not found in protein</td>\n    </tr>\n    <tr>\n      <th>1324</th>\n      <td>NP_001299602.1</td>\n      <td>[S5]</td>\n      <td>MLQALsPK</td>\n      <td>Peptide not found in protein</td>\n    </tr>\n    <tr>\n      <th>4479</th>\n      <td>NP_001673.2</td>\n      <td>[S8]</td>\n      <td>SATSSSPGsPIHSLETSL</td>\n      <td>Peptide not found in protein</td>\n    </tr>\n  </tbody>\n</table>\n</div>"
     },
     "metadata": {},
     "execution_count": 12
    }
   ],
   "source": [
    "# Combine the location and peptide information\n",
    "peptide_with_loc_df = pd.concat([peptide_df, peptide_loc_range_df], axis=1)\n",
    "# List all the invalid peptides\n",
    "peptide_with_loc_df.loc[\n",
    "    ~peptide_loc_range_df['peptide_loc_valid'],\n",
    "    ['refseq_prot_id', 'phosphosites', 'peptide', 'peptide_loc_invalid_reason']\n",
    "]"
   ]
  },
  {
   "cell_type": "code",
   "execution_count": 13,
   "metadata": {},
   "outputs": [],
   "source": [
    "out_df = peptide_with_loc_df.loc[\n",
    "    :,\n",
    "    ['original_id', 'refseq_prot_id', 'peptide', 'phosphosites', 'peptide_start', 'peptide_end', 'peptide_loc_valid', 'peptide_loc_invalid_reason']\n",
    "]\n",
    "out_df['phosphosites'] = out_df['phosphosites'].str.join(';')\n",
    "out_df.to_csv(\n",
    "    phospho_pth.with_suffix('.peptide_location.tsv.gz'),\n",
    "    sep='\\t',\n",
    "    index=False\n",
    ")"
   ]
  },
  {
   "cell_type": "code",
   "execution_count": 14,
   "metadata": {},
   "outputs": [
    {
     "output_type": "execute_result",
     "data": {
      "text/plain": [
       "                       original_id refseq_prot_id         peptide  \\\n",
       "0     NP_000022.3_214_215_1_1_S215    NP_000022.3       SsPAFGDRR   \n",
       "1        NP_000025.1_36_39_1_1_S36    NP_000025.1  GILAADEsTGSIAK   \n",
       "2        NP_000025.1_36_39_1_1_S39    NP_000025.1  GILAADESTGsIAK   \n",
       "3        NP_000025.1_46_52_1_1_S46    NP_000025.1   LQsIGTENTEENR   \n",
       "4  NP_000028.3_1684_1693_1_1_S1686    NP_000028.3   ITHsPTVSQVTER   \n",
       "\n",
       "  phosphosites  peptide_start  peptide_end  peptide_loc_valid  \\\n",
       "0         S215            214          222               True   \n",
       "1          S36             29           42               True   \n",
       "2          S39             29           42               True   \n",
       "3          S46             44           56               True   \n",
       "4        S1686           1683         1695               True   \n",
       "\n",
       "  peptide_loc_invalid_reason  \n",
       "0                       None  \n",
       "1                       None  \n",
       "2                       None  \n",
       "3                       None  \n",
       "4                       None  "
      ],
      "text/html": "<div>\n<style scoped>\n    .dataframe tbody tr th:only-of-type {\n        vertical-align: middle;\n    }\n\n    .dataframe tbody tr th {\n        vertical-align: top;\n    }\n\n    .dataframe thead th {\n        text-align: right;\n    }\n</style>\n<table border=\"1\" class=\"dataframe\">\n  <thead>\n    <tr style=\"text-align: right;\">\n      <th></th>\n      <th>original_id</th>\n      <th>refseq_prot_id</th>\n      <th>peptide</th>\n      <th>phosphosites</th>\n      <th>peptide_start</th>\n      <th>peptide_end</th>\n      <th>peptide_loc_valid</th>\n      <th>peptide_loc_invalid_reason</th>\n    </tr>\n  </thead>\n  <tbody>\n    <tr>\n      <th>0</th>\n      <td>NP_000022.3_214_215_1_1_S215</td>\n      <td>NP_000022.3</td>\n      <td>SsPAFGDRR</td>\n      <td>S215</td>\n      <td>214</td>\n      <td>222</td>\n      <td>True</td>\n      <td>None</td>\n    </tr>\n    <tr>\n      <th>1</th>\n      <td>NP_000025.1_36_39_1_1_S36</td>\n      <td>NP_000025.1</td>\n      <td>GILAADEsTGSIAK</td>\n      <td>S36</td>\n      <td>29</td>\n      <td>42</td>\n      <td>True</td>\n      <td>None</td>\n    </tr>\n    <tr>\n      <th>2</th>\n      <td>NP_000025.1_36_39_1_1_S39</td>\n      <td>NP_000025.1</td>\n      <td>GILAADESTGsIAK</td>\n      <td>S39</td>\n      <td>29</td>\n      <td>42</td>\n      <td>True</td>\n      <td>None</td>\n    </tr>\n    <tr>\n      <th>3</th>\n      <td>NP_000025.1_46_52_1_1_S46</td>\n      <td>NP_000025.1</td>\n      <td>LQsIGTENTEENR</td>\n      <td>S46</td>\n      <td>44</td>\n      <td>56</td>\n      <td>True</td>\n      <td>None</td>\n    </tr>\n    <tr>\n      <th>4</th>\n      <td>NP_000028.3_1684_1693_1_1_S1686</td>\n      <td>NP_000028.3</td>\n      <td>ITHsPTVSQVTER</td>\n      <td>S1686</td>\n      <td>1683</td>\n      <td>1695</td>\n      <td>True</td>\n      <td>None</td>\n    </tr>\n  </tbody>\n</table>\n</div>"
     },
     "metadata": {},
     "execution_count": 14
    }
   ],
   "source": [
    "out_df.head()"
   ]
  },
  {
   "cell_type": "code",
   "execution_count": null,
   "metadata": {},
   "outputs": [],
   "source": []
  }
 ],
 "metadata": {
  "kernelspec": {
   "name": "python3",
   "display_name": "Python 3.8.3 64-bit ('cptac': conda)"
  },
  "language_info": {
   "codemirror_mode": {
    "name": "ipython",
    "version": 3
   },
   "file_extension": ".py",
   "mimetype": "text/x-python",
   "name": "python",
   "nbconvert_exporter": "python",
   "pygments_lexer": "ipython3",
   "version": "3.8.3"
  },
  "interpreter": {
   "hash": "ad0c00ad63891de2cdf996d1b2ec53c4391ca28417984dfada5247c5a79653b6"
  }
 },
 "nbformat": 4,
 "nbformat_minor": 4
}