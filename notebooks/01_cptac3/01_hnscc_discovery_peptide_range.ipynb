{
 "cells": [
  {
   "cell_type": "code",
   "execution_count": 1,
   "metadata": {},
   "outputs": [],
   "source": [
    "from pathlib import Path\n",
    "import re\n",
    "\n",
    "from pysam import FastaFile\n",
    "import pandas as pd"
   ]
  },
  {
   "cell_type": "code",
   "execution_count": 2,
   "metadata": {},
   "outputs": [],
   "source": [
    "protein_fa = FastaFile('/Users/liang/Box/MyCPTAC/CPTAC_proteome_v3.1/DCC/RefSeq_20180629/RefSeq.20180629_Human_ucsc_hg38_cpdbnr_mito_264contams.fasta.gz')"
   ]
  },
  {
   "cell_type": "code",
   "execution_count": 3,
   "metadata": {},
   "outputs": [],
   "source": [
    "raw_phospho_df = pd.read_table(\n",
    "    '/Users/liang/Box/MyCPTAC/CPTAC_proteome_v3.1/CPTAC3/HNSCC_discovery/Site-level-abundance-MD.tsv.gz'\n",
    ")"
   ]
  },
  {
   "cell_type": "code",
   "execution_count": 4,
   "metadata": {},
   "outputs": [],
   "source": [
    "parsed_index_df = raw_phospho_df['Index'].str.split('_', expand=True)\n",
    "raw_phospho_df['refseq_prot_id'] = parsed_index_df[0] + '_' + parsed_index_df[1]\n",
    "raw_phospho_df['phosphosites'] = parsed_index_df.iloc[:, -1].str.findall(r'[STY]\\d+')"
   ]
  },
  {
   "cell_type": "code",
   "execution_count": 5,
   "metadata": {},
   "outputs": [],
   "source": [
    "peptide_df = raw_phospho_df.loc[\n",
    "    raw_phospho_df.phosphosites.notnull(), \n",
    "    ['Index', 'refseq_prot_id', 'Peptide', 'phosphosites']\n",
    "]"
   ]
  },
  {
   "cell_type": "code",
   "execution_count": 6,
   "metadata": {},
   "outputs": [
    {
     "data": {
      "text/html": [
       "<div>\n",
       "<style scoped>\n",
       "    .dataframe tbody tr th:only-of-type {\n",
       "        vertical-align: middle;\n",
       "    }\n",
       "\n",
       "    .dataframe tbody tr th {\n",
       "        vertical-align: top;\n",
       "    }\n",
       "\n",
       "    .dataframe thead th {\n",
       "        text-align: right;\n",
       "    }\n",
       "</style>\n",
       "<table border=\"1\" class=\"dataframe\">\n",
       "  <thead>\n",
       "    <tr style=\"text-align: right;\">\n",
       "      <th></th>\n",
       "      <th>Index</th>\n",
       "      <th>refseq_prot_id</th>\n",
       "      <th>Peptide</th>\n",
       "      <th>phosphosites</th>\n",
       "    </tr>\n",
       "  </thead>\n",
       "  <tbody>\n",
       "    <tr>\n",
       "      <th>0</th>\n",
       "      <td>NP_000005.2_708_710_1_1_S710</td>\n",
       "      <td>NP_000005.2</td>\n",
       "      <td>VGFYEsDVMGR</td>\n",
       "      <td>[S710]</td>\n",
       "    </tr>\n",
       "    <tr>\n",
       "      <th>2</th>\n",
       "      <td>NP_000005.2_914_932_1_1_S928</td>\n",
       "      <td>NP_000005.2</td>\n",
       "      <td>ETTFNSLLCPSGGEVsEELSLK</td>\n",
       "      <td>[S928]</td>\n",
       "    </tr>\n",
       "    <tr>\n",
       "      <th>3</th>\n",
       "      <td>NP_000009.1_485_489_1_1_S485</td>\n",
       "      <td>NP_000009.1</td>\n",
       "      <td>ELsGLGSALK</td>\n",
       "      <td>[S485]</td>\n",
       "    </tr>\n",
       "    <tr>\n",
       "      <th>4</th>\n",
       "      <td>NP_000009.1_485_489_1_1_S489</td>\n",
       "      <td>NP_000009.1</td>\n",
       "      <td>ELSGLGsALK</td>\n",
       "      <td>[S489]</td>\n",
       "    </tr>\n",
       "    <tr>\n",
       "      <th>5</th>\n",
       "      <td>NP_000009.1_517_530_1_1_S522</td>\n",
       "      <td>NP_000009.1</td>\n",
       "      <td>AGLGSGLSLsGLVHPELSR</td>\n",
       "      <td>[S522]</td>\n",
       "    </tr>\n",
       "    <tr>\n",
       "      <th>6</th>\n",
       "      <td>NP_000010.1_167_170_1_1_S167</td>\n",
       "      <td>NP_000010.1</td>\n",
       "      <td>GsTPYGGVK</td>\n",
       "      <td>[S167]</td>\n",
       "    </tr>\n",
       "    <tr>\n",
       "      <th>8</th>\n",
       "      <td>NP_000011.2_155_161_1_1_S160</td>\n",
       "      <td>NP_000011.2</td>\n",
       "      <td>GLHSELGEsSLILK</td>\n",
       "      <td>[S160]</td>\n",
       "    </tr>\n",
       "    <tr>\n",
       "      <th>9</th>\n",
       "      <td>NP_000011.2_155_161_1_1_S161</td>\n",
       "      <td>NP_000011.2</td>\n",
       "      <td>GLHSELGESsLILK</td>\n",
       "      <td>[S161]</td>\n",
       "    </tr>\n",
       "    <tr>\n",
       "      <th>11</th>\n",
       "      <td>NP_000012.1_315_337_1_1_S324</td>\n",
       "      <td>NP_000012.1</td>\n",
       "      <td>YNAESTEREsQDTVAENDDGGFSEEWEAQR</td>\n",
       "      <td>[S324]</td>\n",
       "    </tr>\n",
       "    <tr>\n",
       "      <th>12</th>\n",
       "      <td>NP_000012.1_315_337_1_1_T327</td>\n",
       "      <td>NP_000012.1</td>\n",
       "      <td>YNAESTERESQDtVAENDDGGFSEEWEAQR</td>\n",
       "      <td>[T327]</td>\n",
       "    </tr>\n",
       "  </tbody>\n",
       "</table>\n",
       "</div>"
      ],
      "text/plain": [
       "                           Index refseq_prot_id  \\\n",
       "0   NP_000005.2_708_710_1_1_S710    NP_000005.2   \n",
       "2   NP_000005.2_914_932_1_1_S928    NP_000005.2   \n",
       "3   NP_000009.1_485_489_1_1_S485    NP_000009.1   \n",
       "4   NP_000009.1_485_489_1_1_S489    NP_000009.1   \n",
       "5   NP_000009.1_517_530_1_1_S522    NP_000009.1   \n",
       "6   NP_000010.1_167_170_1_1_S167    NP_000010.1   \n",
       "8   NP_000011.2_155_161_1_1_S160    NP_000011.2   \n",
       "9   NP_000011.2_155_161_1_1_S161    NP_000011.2   \n",
       "11  NP_000012.1_315_337_1_1_S324    NP_000012.1   \n",
       "12  NP_000012.1_315_337_1_1_T327    NP_000012.1   \n",
       "\n",
       "                           Peptide phosphosites  \n",
       "0                      VGFYEsDVMGR       [S710]  \n",
       "2           ETTFNSLLCPSGGEVsEELSLK       [S928]  \n",
       "3                       ELsGLGSALK       [S485]  \n",
       "4                       ELSGLGsALK       [S489]  \n",
       "5              AGLGSGLSLsGLVHPELSR       [S522]  \n",
       "6                        GsTPYGGVK       [S167]  \n",
       "8                   GLHSELGEsSLILK       [S160]  \n",
       "9                   GLHSELGESsLILK       [S161]  \n",
       "11  YNAESTEREsQDTVAENDDGGFSEEWEAQR       [S324]  \n",
       "12  YNAESTERESQDtVAENDDGGFSEEWEAQR       [T327]  "
      ]
     },
     "execution_count": 6,
     "metadata": {},
     "output_type": "execute_result"
    }
   ],
   "source": [
    "peptide_df.head(10)"
   ]
  },
  {
   "cell_type": "code",
   "execution_count": 7,
   "metadata": {},
   "outputs": [],
   "source": [
    "def calc_peptide_start_end(t):\n",
    "    peptide = t.Peptide\n",
    "    \n",
    "    # Make sure the peptide is part of the protein sequence\n",
    "    protein_seq = protein_fa.fetch(t.refseq_prot_id)\n",
    "    if not peptide.upper() in protein_seq:\n",
    "        return [None, None, False, 'Peptide not found in protein']\n",
    "    \n",
    "    first_res = t.phosphosites[0][0].lower()\n",
    "    first_res_loc = int(t.phosphosites[0][1:])\n",
    "    first_res_ix = peptide.find(first_res) \n",
    "    \n",
    "    peptide_start = first_res_loc - first_res_ix\n",
    "    peptide_end = first_res_loc + len(peptide) - first_res_ix - 1\n",
    "    if protein_seq[peptide_start - 1:peptide_end] != peptide.upper():\n",
    "        return [None, None, False, 'Invalid location']\n",
    "    return [peptide_start, peptide_end, True, None]\n",
    "    "
   ]
  },
  {
   "cell_type": "code",
   "execution_count": 8,
   "metadata": {},
   "outputs": [],
   "source": [
    "peptide_loc_range_df = pd.DataFrame(\n",
    "    map(calc_peptide_start_end, peptide_df.itertuples(index=False)),\n",
    "    index=peptide_df.index,\n",
    "    columns=['peptide_start', 'peptide_end', 'peptide_loc_valid', 'peptide_loc_invalid_reason'],\n",
    ").astype({\n",
    "    'peptide_start': pd.Int64Dtype(),\n",
    "    'peptide_end': pd.Int64Dtype(),\n",
    "})"
   ]
  },
  {
   "cell_type": "code",
   "execution_count": 9,
   "metadata": {},
   "outputs": [
    {
     "data": {
      "text/html": [
       "<div>\n",
       "<style scoped>\n",
       "    .dataframe tbody tr th:only-of-type {\n",
       "        vertical-align: middle;\n",
       "    }\n",
       "\n",
       "    .dataframe tbody tr th {\n",
       "        vertical-align: top;\n",
       "    }\n",
       "\n",
       "    .dataframe thead th {\n",
       "        text-align: right;\n",
       "    }\n",
       "</style>\n",
       "<table border=\"1\" class=\"dataframe\">\n",
       "  <thead>\n",
       "    <tr style=\"text-align: right;\">\n",
       "      <th></th>\n",
       "      <th>Index</th>\n",
       "      <th>refseq_prot_id</th>\n",
       "      <th>Peptide</th>\n",
       "      <th>phosphosites</th>\n",
       "      <th>peptide_start</th>\n",
       "      <th>peptide_end</th>\n",
       "      <th>peptide_loc_valid</th>\n",
       "      <th>peptide_loc_invalid_reason</th>\n",
       "    </tr>\n",
       "  </thead>\n",
       "  <tbody>\n",
       "    <tr>\n",
       "      <th>630</th>\n",
       "      <td>NP_000145.1_4_4_1_1_S4</td>\n",
       "      <td>NP_000145.1</td>\n",
       "      <td>VIVGsPR</td>\n",
       "      <td>[S4]</td>\n",
       "      <td>&lt;NA&gt;</td>\n",
       "      <td>&lt;NA&gt;</td>\n",
       "      <td>False</td>\n",
       "      <td>Peptide not found in protein</td>\n",
       "    </tr>\n",
       "    <tr>\n",
       "      <th>9257</th>\n",
       "      <td>NP_001035924.1_1_3_1_1_T3</td>\n",
       "      <td>NP_001035924.1</td>\n",
       "      <td>ASLtPVK</td>\n",
       "      <td>[T3]</td>\n",
       "      <td>&lt;NA&gt;</td>\n",
       "      <td>&lt;NA&gt;</td>\n",
       "      <td>False</td>\n",
       "      <td>Peptide not found in protein</td>\n",
       "    </tr>\n",
       "    <tr>\n",
       "      <th>11144</th>\n",
       "      <td>NP_001073998.2_5_5_1_1_S5</td>\n",
       "      <td>NP_001073998.2</td>\n",
       "      <td>LLPPAsP</td>\n",
       "      <td>[S5]</td>\n",
       "      <td>&lt;NA&gt;</td>\n",
       "      <td>&lt;NA&gt;</td>\n",
       "      <td>False</td>\n",
       "      <td>Peptide not found in protein</td>\n",
       "    </tr>\n",
       "    <tr>\n",
       "      <th>11917</th>\n",
       "      <td>NP_001091738.1_1_3_1_1_T1</td>\n",
       "      <td>NP_001091738.1</td>\n",
       "      <td>VtDSLDK</td>\n",
       "      <td>[T1]</td>\n",
       "      <td>&lt;NA&gt;</td>\n",
       "      <td>&lt;NA&gt;</td>\n",
       "      <td>False</td>\n",
       "      <td>Peptide not found in protein</td>\n",
       "    </tr>\n",
       "    <tr>\n",
       "      <th>18760</th>\n",
       "      <td>NP_001138230.1_0_4_1_1_S4</td>\n",
       "      <td>NP_001138230.1</td>\n",
       "      <td>SLPGsPK</td>\n",
       "      <td>[S4]</td>\n",
       "      <td>&lt;NA&gt;</td>\n",
       "      <td>&lt;NA&gt;</td>\n",
       "      <td>False</td>\n",
       "      <td>Peptide not found in protein</td>\n",
       "    </tr>\n",
       "  </tbody>\n",
       "</table>\n",
       "</div>"
      ],
      "text/plain": [
       "                           Index  refseq_prot_id  Peptide phosphosites  \\\n",
       "630       NP_000145.1_4_4_1_1_S4     NP_000145.1  VIVGsPR         [S4]   \n",
       "9257   NP_001035924.1_1_3_1_1_T3  NP_001035924.1  ASLtPVK         [T3]   \n",
       "11144  NP_001073998.2_5_5_1_1_S5  NP_001073998.2  LLPPAsP         [S5]   \n",
       "11917  NP_001091738.1_1_3_1_1_T1  NP_001091738.1  VtDSLDK         [T1]   \n",
       "18760  NP_001138230.1_0_4_1_1_S4  NP_001138230.1  SLPGsPK         [S4]   \n",
       "\n",
       "       peptide_start  peptide_end  peptide_loc_valid  \\\n",
       "630             <NA>         <NA>              False   \n",
       "9257            <NA>         <NA>              False   \n",
       "11144           <NA>         <NA>              False   \n",
       "11917           <NA>         <NA>              False   \n",
       "18760           <NA>         <NA>              False   \n",
       "\n",
       "         peptide_loc_invalid_reason  \n",
       "630    Peptide not found in protein  \n",
       "9257   Peptide not found in protein  \n",
       "11144  Peptide not found in protein  \n",
       "11917  Peptide not found in protein  \n",
       "18760  Peptide not found in protein  "
      ]
     },
     "execution_count": 9,
     "metadata": {},
     "output_type": "execute_result"
    }
   ],
   "source": [
    "peptide_with_loc_df = pd.concat([peptide_df, peptide_loc_range_df], axis=1)\n",
    "peptide_with_loc_df[~peptide_loc_range_df['peptide_loc_valid']].head()"
   ]
  },
  {
   "cell_type": "code",
   "execution_count": 10,
   "metadata": {},
   "outputs": [
    {
     "data": {
      "text/plain": [
       "'MDSKHQCLKLNDGHFMPVLGFGTYAPPEVPRSKALEVTKLAIEAGFRHIDSAHLYNNEEQVGLAIRSKIADGSVKREDIFYTSKLWSTFHRPELVRPALENSLKKAQLDYVDLYLIHSPMSLKPGEELSPTDENGKVIFDIVDLCTTWEAMEKCKDAGLAKSIGVSNFNRRQLEMILNKPGLKYKPVCNQVECHPYFNRSKLLDFCKSKDIVLVAYSALGSQRDKRWVDPNSPVLLEDPVLCALAKKHKRTPALIALRYQLQRGVVVLAKSYNEQRIRQNVQVFEFQLTAEDMKAIDGLDRNLHYFNSDSFASHPNYPYSDEY'"
      ]
     },
     "execution_count": 10,
     "metadata": {},
     "output_type": "execute_result"
    }
   ],
   "source": [
    "protein_seq = protein_fa.fetch('NP_001240837.1')\n",
    "protein_seq"
   ]
  },
  {
   "cell_type": "code",
   "execution_count": 11,
   "metadata": {},
   "outputs": [
    {
     "data": {
      "text/plain": [
       "0.000435396210551602"
      ]
     },
     "execution_count": 11,
     "metadata": {},
     "output_type": "execute_result"
    }
   ],
   "source": [
    "len(peptide_with_loc_df[~peptide_loc_range_df['peptide_loc_valid']]) / len(peptide_with_loc_df)"
   ]
  },
  {
   "cell_type": "code",
   "execution_count": 12,
   "metadata": {},
   "outputs": [],
   "source": [
    "out_df = peptide_with_loc_df[['Index', 'peptide_start', 'peptide_end', 'peptide_loc_valid', 'peptide_loc_invalid_reason']]\n",
    "out_df.to_csv(\n",
    "    '/Users/liang/Box/MyCPTAC/CPTAC_proteome_v3.1/CPTAC3/HNSCC_discovery/Site-level-abundance-MD.peptide_location.tsv.gz',\n",
    "    sep='\\t',\n",
    "    index=False\n",
    ")"
   ]
  },
  {
   "cell_type": "code",
   "execution_count": null,
   "metadata": {},
   "outputs": [],
   "source": []
  }
 ],
 "metadata": {
  "kernelspec": {
   "display_name": "Python 3.8.3 64-bit ('cptac': conda)",
   "language": "python",
   "name": "python38364bitcptacconda6b41eb8517bc45dab5416ff48a3921dc"
  },
  "language_info": {
   "codemirror_mode": {
    "name": "ipython",
    "version": 3
   },
   "file_extension": ".py",
   "mimetype": "text/x-python",
   "name": "python",
   "nbconvert_exporter": "python",
   "pygments_lexer": "ipython3",
   "version": "3.8.3"
  }
 },
 "nbformat": 4,
 "nbformat_minor": 2
}
